{
 "cells": [
  {
   "cell_type": "markdown",
   "metadata": {},
   "source": [
    "# Real-Time Inferencing Service in Azure ML\n",
    "\n",
    "Цель лабораторной работы: \n",
    "\n",
    "- развертывание обученнной ML модели, как __web-сервиса, работающего в режиме реального времени__ (Real-Time Inferencing Service)\n",
    "- подключение и получение прогнозов от web-сервиса, работающего в режиме реального времени.\n",
    "\n",
    "## Подготовка среды\n",
    "\n",
    "Импорт необходимых модулей и проверка версии AzureML SDK:"
   ]
  },
  {
   "cell_type": "code",
   "execution_count": 1,
   "metadata": {},
   "outputs": [
    {
     "name": "stdout",
     "output_type": "stream",
     "text": [
      "SDK version: 1.12.0\n"
     ]
    }
   ],
   "source": [
    "import azureml.core\n",
    "from azureml.core import Workspace, Model\n",
    "\n",
    "# Check core SDK version number\n",
    "print(f'SDK version: {azureml.core.VERSION}')"
   ]
  },
  {
   "cell_type": "markdown",
   "metadata": {},
   "source": [
    "Зададим параметры Эксперимента:"
   ]
  },
  {
   "cell_type": "code",
   "execution_count": 2,
   "metadata": {},
   "outputs": [],
   "source": [
    "experiment_name = 'realtime_service_demo'\n",
    "\n",
    "experiment_dir = 'realtime-service-demo'\n",
    "os.makedirs(experiment_dir, exist_ok=True)"
   ]
  },
  {
   "cell_type": "markdown",
   "metadata": {},
   "source": [
    "## Соединение со Azure ML Workspace\n",
    "\n",
    "Устанавливаем соединение с Рабочей областью в Azure ML:"
   ]
  },
  {
   "cell_type": "code",
   "execution_count": 3,
   "metadata": {},
   "outputs": [
    {
     "name": "stdout",
     "output_type": "stream",
     "text": [
      "Successfully connected to Workspace: ai-in-cloud-workspace.\n"
     ]
    }
   ],
   "source": [
    "ws = Workspace.from_config()\n",
    "print(f'Successfully connected to Workspace: {ws.name}.')"
   ]
  },
  {
   "cell_type": "markdown",
   "metadata": {},
   "source": [
    "## Подготовка к развертыванию web-сервиса\n",
    "\n",
    "Процесс развертывания включает в себя следующие шаги:\n",
    "\n",
    "- Определите __inference-конфигурацию сервиса__, которая включает скрипт для прогноза и конфигурацию Среды и используемую ML моделm.\n",
    "- Определите __конфигурацию развертывания__, которая определяет среду выполнения, в которой будет размещен web-сервис. В данном случае это служба [экземпляров контейнеров Azure](https://docs.microsoft.com/ru-ru/azure/container-instances/container-instances-overview).\n",
    "- Разверните модель как веб-сервис.\n",
    "- Проверьте состояние развернутого веб-сервиса.\n",
    "\n",
    "### Получение ML модели\n",
    "\n",
    "Получим список уже обученных и зарегистрированных в Azure ML моделей машинного обучения:"
   ]
  },
  {
   "cell_type": "code",
   "execution_count": 8,
   "metadata": {},
   "outputs": [
    {
     "name": "stdout",
     "output_type": "stream",
     "text": [
      "diabetes_predict_model v2\n",
      "\t Demo: ML Pipeline\n",
      "\n",
      "\n",
      "diabetes_predict_model v1\n",
      "\t Demo: Target compute\n",
      "\t 0.846851712258014: AUC\n",
      "\t 0.7788888888888889: Accuracy\n",
      "\n",
      "\n",
      "diabetes_model v4\n",
      "\t Dataset: Diabetes\n",
      "\t 0.846851712258014: AUC\n",
      "\t 0.7788888888888889: Accuracy\n",
      "\n",
      "\n",
      "diabetes_model v3\n",
      "\t Dataset: Diabetes\n",
      "\t 0.846851712258014: AUC\n",
      "\t 0.7788888888888889: Accuracy\n",
      "\n",
      "\n",
      "diabetes_model v2\n",
      "\t Dataset: Diabetes\n",
      "\t 0.8468519356081545: AUC\n",
      "\t 0.7788888888888889: Accuracy\n",
      "\n",
      "\n",
      "diabetes_model v1\n",
      "\t Training context: Estimator\n",
      "\t 0.8468519356081545: AUC\n",
      "\t 0.7788888888888889: Accuracy\n",
      "\n",
      "\n",
      "amlstudio-covid19-service v1\n",
      "\t CreatedByAMLStudio: true\n",
      "\n",
      "\n",
      "amlstudio-covid19-service-pipe v1\n",
      "\t CreatedByAMLStudio: true\n",
      "\n",
      "\n",
      "amlstudio-covid19-spread-servi v1\n",
      "\t CreatedByAMLStudio: true\n",
      "\n",
      "\n",
      "amlstudio-pima-diabets-service v2\n",
      "\t CreatedByAMLStudio: true\n",
      "\n",
      "\n",
      "amlstudio-letter-recognition-s v1\n",
      "\t CreatedByAMLStudio: true\n",
      "\n",
      "\n",
      "amlstudio-pima-diabetes-model v1\n",
      "\t CreatedByAMLStudio: true\n",
      "\n",
      "\n"
     ]
    }
   ],
   "source": [
    "for model in Model.list(ws):\n",
    "    print(f'{model.name} v{model.version}')\n",
    "    \n",
    "    for tag_name in model.tags:\n",
    "        tag = model.tags[tag_name]\n",
    "        print(f'\\t {tag_name}: {tag}')\n",
    "        \n",
    "    for prop_name in model.properties:\n",
    "        prop = model.properties[prop_name]\n",
    "        print(f'\\t {prop}: {prop_name}')\n",
    "        \n",
    "    print('\\n')"
   ]
  },
  {
   "cell_type": "markdown",
   "metadata": {},
   "source": [
    "Выберем ML модель, которую хотим развернуть как web-сервис (по умолчанию берется последняя версия модели):"
   ]
  },
  {
   "cell_type": "code",
   "execution_count": 10,
   "metadata": {},
   "outputs": [
    {
     "name": "stdout",
     "output_type": "stream",
     "text": [
      "diabetes_predict_model v2\n"
     ]
    }
   ],
   "source": [
    "model = ws.models['diabetes_predict_model']\n",
    "print(f'{model.name} v{model.version}')"
   ]
  },
  {
   "cell_type": "markdown",
   "metadata": {},
   "source": [
    "## Скрипт для прогнозов\n",
    "\n",
    "Создадим скрипт, который содержит методы необходимые для:\n",
    "\n",
    "- `init()`: инициализации web-сервиса\n",
    "- `run(raw_data)`: прогноза на новых данных.\n"
   ]
  },
  {
   "cell_type": "code",
   "execution_count": 46,
   "metadata": {},
   "outputs": [
    {
     "name": "stdout",
     "output_type": "stream",
     "text": [
      "Overwriting scripts/score_model.py\n"
     ]
    }
   ],
   "source": [
    "%%writefile scripts/score_model.py\n",
    "import os\n",
    "import json\n",
    "import joblib\n",
    "import numpy as np\n",
    "\n",
    "from azureml.core.model import Model\n",
    "\n",
    "\n",
    "def init():\n",
    "    global model\n",
    "    # AZUREML_MODEL_DIR is an environment variable created during deployment. Join this path with the filename of the model file.\n",
    "    # It holds the path to the directory that contains the deployed model (./azureml-models/$MODEL_NAME/$VERSION).\n",
    "    model_path = os.path.join(os.getenv('AZUREML_MODEL_DIR'), 'model.pkl')\n",
    "    model = joblib.load(model_path)\n",
    "\n",
    "\n",
    "def run(raw_data):\n",
    "    # Get the input data as a numpy array\n",
    "    data = np.array(json.loads(raw_data)['data'])\n",
    "    # Get a prediction from the model\n",
    "    predictions = model.predict(data)\n",
    "    # Get the corresponding classname for each prediction (0 or 1)\n",
    "    classnames = ['not-diabetic', 'diabetic']\n",
    "    predicted_classes = []\n",
    "    for prediction in predictions:\n",
    "        predicted_classes.append(classnames[prediction])\n",
    "    # Return the predictions as JSON\n",
    "    return json.dumps(predicted_classes)\n"
   ]
  },
  {
   "cell_type": "markdown",
   "metadata": {},
   "source": [
    "Скопируем скрипт в директорию эксперимента:"
   ]
  },
  {
   "cell_type": "code",
   "execution_count": 47,
   "metadata": {},
   "outputs": [
    {
     "name": "stdout",
     "output_type": "stream",
     "text": [
      "score_model.py\tservice_env.yml\n"
     ]
    }
   ],
   "source": [
    "!cp scripts/score_model.py $experiment_dir\n",
    "!ls $experiment_dir"
   ]
  },
  {
   "cell_type": "markdown",
   "metadata": {},
   "source": [
    "### Среда для запуска web-сервиса\n",
    "\n",
    "Выгрузим Среду, содержащую все необходимые для ML модели зависимости, в файл конфигурации `service_env.yml`, и выведем содержимое этого файла на экран:"
   ]
  },
  {
   "cell_type": "code",
   "execution_count": 34,
   "metadata": {},
   "outputs": [
    {
     "name": "stdout",
     "output_type": "stream",
     "text": [
      "Dependecies was saved to realtime-service-demo/service_env.yml\n",
      "# Conda environment specification. The dependencies defined in this file will\n",
      "# be automatically provisioned for runs with userManagedDependencies=False.\n",
      "\n",
      "# Details about the Conda environment file format:\n",
      "# https://conda.io/docs/user-guide/tasks/manage-environments.html#create-env-file-manually\n",
      "\n",
      "name: project_environment\n",
      "dependencies:\n",
      "  # The python interpreter version.\n",
      "  # Currently Azure ML only supports 3.5.2 and later.\n",
      "- python=3.6.2\n",
      "\n",
      "- pip:\n",
      "    # Required packages for AzureML execution, history, and data preparation.\n",
      "  - azureml-defaults\n",
      "\n",
      "- scikit-learn\n",
      "channels:\n",
      "- anaconda\n",
      "- conda-forge\n",
      "\n"
     ]
    }
   ],
   "source": [
    "from azureml.core.conda_dependencies import CondaDependencies \n",
    "\n",
    "# Add the dependencies for our model (AzureML defaults is already included)\n",
    "service_env = CondaDependencies()\n",
    "service_env.add_conda_package('scikit-learn')\n",
    "\n",
    "# Save the environment config as a .yml file\n",
    "service_env_config = f'{experiment_dir}/service_env.yml'\n",
    "with open(service_env_config, 'w') as f:\n",
    "    f.write(service_env.serialize_to_string())\n",
    "    \n",
    "print(f'Dependecies was saved to {service_env_config}')\n",
    "\n",
    "# Print the .yml file\n",
    "with open(service_env_config, 'r') as f:\n",
    "    print(f.read())"
   ]
  },
  {
   "cell_type": "markdown",
   "metadata": {},
   "source": [
    "## Развертывание web-сервиса \n",
    "\n"
   ]
  },
  {
   "cell_type": "code",
   "execution_count": 48,
   "metadata": {},
   "outputs": [
    {
     "name": "stdout",
     "output_type": "stream",
     "text": [
      "Running..........................\n",
      "Succeeded\n",
      "ACI service creation operation finished, operation \"Succeeded\"\n",
      "Healthy\n"
     ]
    }
   ],
   "source": [
    "from azureml.core.webservice import AciWebservice\n",
    "from azureml.core.model import InferenceConfig\n",
    "\n",
    "\n",
    "service_name = 'diabetes-predict-service'\n",
    "\n",
    "inference_config = InferenceConfig(runtime='python',\n",
    "                                   source_directory=experiment_dir,\n",
    "                                   entry_script='score_model.py',\n",
    "                                   conda_file='service_env.yml')\n",
    "\n",
    "deployment_config = AciWebservice.deploy_configuration(cpu_cores = 1, memory_gb = 1)\n",
    "\n",
    "\n",
    "service = Model.deploy(ws, service_name, [model], inference_config, deployment_config)\n",
    "\n",
    "service.wait_for_deployment(True)\n",
    "print(f'Service state: {service.state}')"
   ]
  },
  {
   "cell_type": "code",
   "execution_count": null,
   "metadata": {},
   "outputs": [],
   "source": [
    "print(service.get_logs())"
   ]
  },
  {
   "cell_type": "markdown",
   "metadata": {},
   "source": [
    "Если Вам нужно внести изменения и выполнить повторное развертывание, то Вам может потребоваться удалить неработоспособную службу, используя следующий код:\n",
    "    \n",
    "`service.delete()`"
   ]
  },
  {
   "cell_type": "markdown",
   "metadata": {},
   "source": [
    "Найдите на портале Azure ML на вкладке Конечных точек (Endpoints) успешно развернутый web-сервис. Вы также можете получить имена веб-сервисов, выполнив следующий код:"
   ]
  },
  {
   "cell_type": "code",
   "execution_count": 50,
   "metadata": {},
   "outputs": [
    {
     "name": "stdout",
     "output_type": "stream",
     "text": [
      "diabetes-predict-service\n",
      "covid19-service\n"
     ]
    }
   ],
   "source": [
    "for webservice_name in ws.webservices:\n",
    "    print(webservice_name)"
   ]
  },
  {
   "cell_type": "code",
   "execution_count": 45,
   "metadata": {},
   "outputs": [],
   "source": [
    "# service.delete()"
   ]
  },
  {
   "cell_type": "markdown",
   "metadata": {},
   "source": [
    "## Подключение к сервису\n",
    "\n",
    "Подключимся к сервису и получим прогноз по новым данным:"
   ]
  },
  {
   "cell_type": "code",
   "execution_count": 54,
   "metadata": {},
   "outputs": [
    {
     "name": "stdout",
     "output_type": "stream",
     "text": [
      "Patient: [2, 180, 74, 24, 21, 23.9091702, 1.488172308, 22]\n",
      "not-diabetic\n"
     ]
    }
   ],
   "source": [
    "import json\n",
    "\n",
    "new_data = [[2,180,74,24,21,23.9091702,1.488172308,22]]\n",
    "print('Patient: {}'.format(new_data[0]))\n",
    "\n",
    "# Convert the array to a serializable list in a JSON document\n",
    "input_json = json.dumps({'data': new_data})\n",
    "\n",
    "# Call the web service, passing the input data (the web service will also accept the data in binary format)\n",
    "predictions = service.run(input_data=input_json)\n",
    "\n",
    "# Get the predicted class - it'll be the first (and only) one.\n",
    "predicted_classes = json.loads(predictions)\n",
    "print(predicted_classes[0])"
   ]
  },
  {
   "cell_type": "markdown",
   "metadata": {},
   "source": [
    "## Удаление сервиса\n",
    "\n",
    "Удалите web-сервис в случае отсутствия необходмости в нем, чтобы не тратить лишние средства по подписке Azure, выполнив следующий код:"
   ]
  },
  {
   "cell_type": "code",
   "execution_count": 55,
   "metadata": {},
   "outputs": [],
   "source": [
    "# service.delete()"
   ]
  },
  {
   "cell_type": "markdown",
   "metadata": {},
   "source": [
    "## Вывод\n",
    "\n",
    "## Полезные ссылки\n",
    "\n",
    "1. https://docs.microsoft.com/ru-ru/azure/machine-learning/how-to-deploy-and-where?tabs=azcli\n",
    "2. https://docs.microsoft.com/ru-ru/azure/machine-learning/how-to-deploy-and-where?tabs=azcli#choose-a-compute-target "
   ]
  }
 ],
 "metadata": {
  "kernelspec": {
   "display_name": "Python 3.6 - AzureML",
   "language": "python",
   "name": "python3-azureml"
  },
  "language_info": {
   "codemirror_mode": {
    "name": "ipython",
    "version": 3
   },
   "file_extension": ".py",
   "mimetype": "text/x-python",
   "name": "python",
   "nbconvert_exporter": "python",
   "pygments_lexer": "ipython3",
   "version": "3.6.9"
  }
 },
 "nbformat": 4,
 "nbformat_minor": 4
}
