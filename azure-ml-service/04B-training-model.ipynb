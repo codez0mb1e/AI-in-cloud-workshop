{
 "cells": [
  {
   "cell_type": "markdown",
   "metadata": {},
   "source": [
    "# Обучение моделей с помощью Экспериментов Azure ML\n",
    "\n",
    "__Цель лабораторной работы:__\n",
    "\n",
    "- обучить модель машинного обучения, используя Эксперименты (Experiments) Azure ML\n",
    "- зарегистрировать обученную модель.\n",
    "\n",
    "## Подготовка среды\n",
    "\n",
    "Импорт необходимых модулей и проверка версии Azure ML SDK:"
   ]
  },
  {
   "cell_type": "code",
   "execution_count": 4,
   "metadata": {},
   "outputs": [
    {
     "name": "stdout",
     "output_type": "stream",
     "text": [
      "SDK version: 1.14.0\n"
     ]
    }
   ],
   "source": [
    "import os\n",
    "\n",
    "import azureml.core\n",
    "from azureml.core import Workspace, Experiment, Dataset, Model\n",
    "from azureml.core.datastore import Datastore\n",
    "from azureml.train.sklearn import SKLearn\n",
    "\n",
    "from azureml.widgets import RunDetails\n",
    "\n",
    "# Check core SDK version number\n",
    "print(f'SDK version: {azureml.core.VERSION}')"
   ]
  },
  {
   "cell_type": "markdown",
   "metadata": {},
   "source": [
    "Получим конфигурацию эксперимента: "
   ]
  },
  {
   "cell_type": "code",
   "execution_count": 5,
   "metadata": {},
   "outputs": [
    {
     "name": "stdout",
     "output_type": "stream",
     "text": [
      "Experiment train-model-experiment was initialized successfully.\n"
     ]
    },
    {
     "data": {
      "text/plain": [
       "{'experiment_name': 'train-model-experiment',\n",
       " 'working_subdir': 'train-model-experiment-lab',\n",
       " 'core': {'expriments_root_dir': 'expriments/',\n",
       "  'datastore_name': 'aml_ws_datastore_v2',\n",
       "  'dataset_name': 'diabetes-data',\n",
       "  'ml_cluster_name': 'aml-ws-cluster',\n",
       "  'ml_model_name': 'diabetes-predict-model'}}"
      ]
     },
     "execution_count": 5,
     "metadata": {},
     "output_type": "execute_result"
    }
   ],
   "source": [
    "%run core.py\n",
    "\n",
    "config = get_experiment_config('lab_4B')\n",
    "init_experiment(config)\n",
    "experiment_dir = get_experiment_dir(config)\n",
    "\n",
    "config"
   ]
  },
  {
   "cell_type": "markdown",
   "metadata": {},
   "source": [
    "## Соединение со Azure ML Workspace\n",
    "\n",
    "Устанавливаем соединение с Рабочей областью в Azure ML:"
   ]
  },
  {
   "cell_type": "code",
   "execution_count": 6,
   "metadata": {},
   "outputs": [
    {
     "name": "stdout",
     "output_type": "stream",
     "text": [
      "Successfully connected to Workspace: aml-workshop.\n"
     ]
    }
   ],
   "source": [
    "ws = Workspace.from_config()\n",
    "print(f'Successfully connected to Workspace: {ws.name}.')"
   ]
  },
  {
   "cell_type": "markdown",
   "metadata": {},
   "source": [
    "## Подготовка данных для Эксперимента"
   ]
  },
  {
   "cell_type": "markdown",
   "metadata": {},
   "source": [
    "### Загрузка данных\n",
    "\n",
    "Воспользуемся данными, загружеными в Хранилище данных в [лабороторной 2B](02B-datastores-and-datasets.ipynb):"
   ]
  },
  {
   "cell_type": "code",
   "execution_count": 8,
   "metadata": {},
   "outputs": [
    {
     "name": "stdout",
     "output_type": "stream",
     "text": [
      "Used dataset diabetes-data: Diabetes Disease Database\n"
     ]
    }
   ],
   "source": [
    "data_ds = ws.datasets.get(config['core']['dataset_name'])\n",
    "print(f'Used dataset {data_ds.name}: {data_ds.description}')"
   ]
  },
  {
   "cell_type": "markdown",
   "metadata": {},
   "source": [
    "### Скрипт для обучения модели\n",
    "\n",
    "Скопируем скрипт и содержимое директории Эксперимента:"
   ]
  },
  {
   "cell_type": "code",
   "execution_count": 15,
   "metadata": {},
   "outputs": [
    {
     "name": "stdout",
     "output_type": "stream",
     "text": [
      "train_model.py\n"
     ]
    }
   ],
   "source": [
    "!cp scripts/train_model.py $experiment_dir\n",
    "!ls $experiment_dir"
   ]
  },
  {
   "cell_type": "markdown",
   "metadata": {},
   "source": [
    "## Создадим и запустим Эксперимент"
   ]
  },
  {
   "cell_type": "code",
   "execution_count": null,
   "metadata": {},
   "outputs": [],
   "source": [
    "# Create an experiment\n",
    "experiment = Experiment(workspace=ws, name=config['experiment_name'])\n",
    "\n",
    "# Create an SKLearn estimator\n",
    "estimator = SKLearn(source_directory=experiment_dir,\n",
    "                    inputs=[data_ds.as_named_input('data')], \n",
    "                    entry_script='train_model.py',\n",
    "                    script_params = {'--reg_rate': 0.1},\n",
    "                    compute_target='local',\n",
    "                    pip_packages=['matplotlib']\n",
    "                    )\n",
    "\n",
    "\n",
    "# Run the experiment and wait result\n",
    "run = experiment.submit(config=estimator)\n",
    "run.wait_for_completion(show_output=True)"
   ]
  },
  {
   "cell_type": "markdown",
   "metadata": {},
   "source": [
    "See training details:"
   ]
  },
  {
   "cell_type": "code",
   "execution_count": null,
   "metadata": {},
   "outputs": [],
   "source": [
    "RunDetails(run).show()"
   ]
  },
  {
   "cell_type": "markdown",
   "metadata": {},
   "source": [
    "Просмотрим метрики и выходные данные:"
   ]
  },
  {
   "cell_type": "code",
   "execution_count": null,
   "metadata": {},
   "outputs": [],
   "source": [
    "metrics = run.get_metrics()\n",
    "\n",
    "for key in metrics.keys():\n",
    "        print(key, metrics.get(key))\n",
    "print('\\n')\n",
    "\n",
    "for file in run.get_file_names():\n",
    "    print(file)"
   ]
  },
  {
   "cell_type": "markdown",
   "metadata": {},
   "source": [
    "## Регистрируем обученную модель"
   ]
  },
  {
   "cell_type": "markdown",
   "metadata": {},
   "source": [
    "Копируем путь до обученной модели (`outputs/model.pkl`), чтобы зарегистрировать ее. Обычно это последний файл:"
   ]
  },
  {
   "cell_type": "code",
   "execution_count": 14,
   "metadata": {},
   "outputs": [
    {
     "data": {
      "text/plain": [
       "'outputs/model.pkl'"
      ]
     },
     "execution_count": 14,
     "metadata": {},
     "output_type": "execute_result"
    }
   ],
   "source": [
    "model_path = run.get_file_names()[-1]\n",
    "model_path"
   ]
  },
  {
   "cell_type": "code",
   "execution_count": null,
   "metadata": {},
   "outputs": [],
   "source": [
    "run.register_model(model_path=model_path, model_name=config['core']['ml_model_name'],\n",
    "                   tags={'Lab':'4B'},\n",
    "                   properties={'AUC': run.get_metrics()['AUC'], 'Accuracy': run.get_metrics()['Accuracy']})"
   ]
  },
  {
   "cell_type": "markdown",
   "metadata": {},
   "source": [
    "Просмотрим список зарегистрированных моделей:"
   ]
  },
  {
   "cell_type": "code",
   "execution_count": 17,
   "metadata": {},
   "outputs": [
    {
     "name": "stdout",
     "output_type": "stream",
     "text": [
      "diabetes-predict-model v1\n",
      "\t Lab: 4B\n",
      "\t 0.8576982541474856: AUC\n",
      "\t 0.7876666666666666: Accuracy\n",
      "\n",
      "\n"
     ]
    }
   ],
   "source": [
    "for model in Model.list(ws):\n",
    "    print(f'{model.name} v{model.version}')\n",
    "    \n",
    "    for tag_name in model.tags:\n",
    "        tag = model.tags[tag_name]\n",
    "        print(f'\\t {tag_name}: {tag}')\n",
    "        \n",
    "    for prop_name in model.properties:\n",
    "        prop = model.properties[prop_name]\n",
    "        print(f'\\t {prop_name}: {prop}')\n",
    "        \n",
    "    print('\\n')"
   ]
  },
  {
   "cell_type": "markdown",
   "metadata": {},
   "source": [
    "Проcмотрите зарегистрированную модель на портале Azure ML в разделе: `<your_workspace> > Models > diabetes_model`."
   ]
  }
 ],
 "metadata": {
  "kernelspec": {
   "display_name": "Python 3.6 - AzureML",
   "language": "python",
   "name": "python3-azureml"
  },
  "language_info": {
   "codemirror_mode": {
    "name": "ipython",
    "version": 3
   },
   "file_extension": ".py",
   "mimetype": "text/x-python",
   "name": "python",
   "nbconvert_exporter": "python",
   "pygments_lexer": "ipython3",
   "version": "3.6.9"
  }
 },
 "nbformat": 4,
 "nbformat_minor": 4
}
