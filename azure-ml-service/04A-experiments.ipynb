{
 "cells": [
  {
   "cell_type": "markdown",
   "metadata": {},
   "source": [
    "# Запуск Экспериментов в Azure ML\n",
    "\n",
    "## 1. Соединение со своим Workspace\n",
    "\n",
    "Импорт модулей:"
   ]
  },
  {
   "cell_type": "code",
   "execution_count": 1,
   "metadata": {},
   "outputs": [
    {
     "name": "stdout",
     "output_type": "stream",
     "text": [
      "SDK version: 1.12.0\n"
     ]
    }
   ],
   "source": [
    "import os\n",
    "\n",
    "import azureml.core\n",
    "from azureml.core import Workspace, Experiment, Dataset\n",
    "from azureml.core.datastore import Datastore\n",
    "\n",
    "import pandas as pd\n",
    "import matplotlib.pyplot as plt\n",
    "from datetime import datetime\n",
    "import json\n",
    "\n",
    "%matplotlib inline\n",
    "\n",
    "\n",
    "# Check core SDK version number\n",
    "print(f'SDK version: {azureml.core.VERSION}')"
   ]
  },
  {
   "cell_type": "markdown",
   "metadata": {},
   "source": [
    "Создаем соединение со своим Workspace:"
   ]
  },
  {
   "cell_type": "code",
   "execution_count": 2,
   "metadata": {},
   "outputs": [
    {
     "name": "stdout",
     "output_type": "stream",
     "text": [
      "Connected Workspace:\n",
      "ai-in-cloud-workspace\n",
      "ai-in-cloud-workshop-rg\n",
      "westeurope\n"
     ]
    }
   ],
   "source": [
    "ws = Workspace.from_config()\n",
    "print('Connected Workspace:', ws.name, ws.resource_group, ws.location, sep = '\\n')"
   ]
  },
  {
   "cell_type": "markdown",
   "metadata": {},
   "source": [
    "## 2. Загрузка данных для Эксперимента\n",
    "\n",
    "Воспользуемся данными загружеными на [прошлом лабораторном занятии](../module-3/azure-datastore.ipynb):"
   ]
  },
  {
   "cell_type": "code",
   "execution_count": 5,
   "metadata": {},
   "outputs": [
    {
     "data": {
      "text/html": [
       "<div>\n",
       "<style scoped>\n",
       "    .dataframe tbody tr th:only-of-type {\n",
       "        vertical-align: middle;\n",
       "    }\n",
       "\n",
       "    .dataframe tbody tr th {\n",
       "        vertical-align: top;\n",
       "    }\n",
       "\n",
       "    .dataframe thead th {\n",
       "        text-align: right;\n",
       "    }\n",
       "</style>\n",
       "<table border=\"1\" class=\"dataframe\">\n",
       "  <thead>\n",
       "    <tr style=\"text-align: right;\">\n",
       "      <th></th>\n",
       "      <th>PatientID</th>\n",
       "      <th>Pregnancies</th>\n",
       "      <th>PlasmaGlucose</th>\n",
       "      <th>DiastolicBloodPressure</th>\n",
       "      <th>TricepsThickness</th>\n",
       "      <th>SerumInsulin</th>\n",
       "      <th>BMI</th>\n",
       "      <th>DiabetesPedigree</th>\n",
       "      <th>Age</th>\n",
       "      <th>Diabetic</th>\n",
       "    </tr>\n",
       "  </thead>\n",
       "  <tbody>\n",
       "    <tr>\n",
       "      <th>6657</th>\n",
       "      <td>1451536</td>\n",
       "      <td>5</td>\n",
       "      <td>105</td>\n",
       "      <td>65</td>\n",
       "      <td>44</td>\n",
       "      <td>95</td>\n",
       "      <td>44.929578</td>\n",
       "      <td>0.140390</td>\n",
       "      <td>43</td>\n",
       "      <td>1</td>\n",
       "    </tr>\n",
       "    <tr>\n",
       "      <th>12306</th>\n",
       "      <td>1111564</td>\n",
       "      <td>0</td>\n",
       "      <td>74</td>\n",
       "      <td>83</td>\n",
       "      <td>50</td>\n",
       "      <td>36</td>\n",
       "      <td>18.809250</td>\n",
       "      <td>0.284085</td>\n",
       "      <td>43</td>\n",
       "      <td>0</td>\n",
       "    </tr>\n",
       "    <tr>\n",
       "      <th>13889</th>\n",
       "      <td>1109224</td>\n",
       "      <td>1</td>\n",
       "      <td>82</td>\n",
       "      <td>29</td>\n",
       "      <td>11</td>\n",
       "      <td>704</td>\n",
       "      <td>21.720773</td>\n",
       "      <td>0.744834</td>\n",
       "      <td>25</td>\n",
       "      <td>0</td>\n",
       "    </tr>\n",
       "    <tr>\n",
       "      <th>10543</th>\n",
       "      <td>1616966</td>\n",
       "      <td>1</td>\n",
       "      <td>150</td>\n",
       "      <td>82</td>\n",
       "      <td>26</td>\n",
       "      <td>48</td>\n",
       "      <td>21.701670</td>\n",
       "      <td>0.170924</td>\n",
       "      <td>21</td>\n",
       "      <td>0</td>\n",
       "    </tr>\n",
       "    <tr>\n",
       "      <th>14438</th>\n",
       "      <td>1711126</td>\n",
       "      <td>1</td>\n",
       "      <td>118</td>\n",
       "      <td>83</td>\n",
       "      <td>22</td>\n",
       "      <td>79</td>\n",
       "      <td>23.810404</td>\n",
       "      <td>0.147983</td>\n",
       "      <td>55</td>\n",
       "      <td>1</td>\n",
       "    </tr>\n",
       "    <tr>\n",
       "      <th>13392</th>\n",
       "      <td>1448413</td>\n",
       "      <td>8</td>\n",
       "      <td>122</td>\n",
       "      <td>67</td>\n",
       "      <td>22</td>\n",
       "      <td>201</td>\n",
       "      <td>36.199936</td>\n",
       "      <td>0.093652</td>\n",
       "      <td>62</td>\n",
       "      <td>1</td>\n",
       "    </tr>\n",
       "    <tr>\n",
       "      <th>4015</th>\n",
       "      <td>1128763</td>\n",
       "      <td>1</td>\n",
       "      <td>106</td>\n",
       "      <td>91</td>\n",
       "      <td>12</td>\n",
       "      <td>332</td>\n",
       "      <td>33.193670</td>\n",
       "      <td>0.187818</td>\n",
       "      <td>31</td>\n",
       "      <td>0</td>\n",
       "    </tr>\n",
       "    <tr>\n",
       "      <th>11692</th>\n",
       "      <td>1266232</td>\n",
       "      <td>1</td>\n",
       "      <td>74</td>\n",
       "      <td>61</td>\n",
       "      <td>8</td>\n",
       "      <td>49</td>\n",
       "      <td>45.712246</td>\n",
       "      <td>0.655630</td>\n",
       "      <td>22</td>\n",
       "      <td>0</td>\n",
       "    </tr>\n",
       "    <tr>\n",
       "      <th>10241</th>\n",
       "      <td>1997807</td>\n",
       "      <td>6</td>\n",
       "      <td>113</td>\n",
       "      <td>81</td>\n",
       "      <td>22</td>\n",
       "      <td>90</td>\n",
       "      <td>27.437465</td>\n",
       "      <td>0.115110</td>\n",
       "      <td>47</td>\n",
       "      <td>1</td>\n",
       "    </tr>\n",
       "    <tr>\n",
       "      <th>5156</th>\n",
       "      <td>1544434</td>\n",
       "      <td>8</td>\n",
       "      <td>169</td>\n",
       "      <td>81</td>\n",
       "      <td>54</td>\n",
       "      <td>60</td>\n",
       "      <td>30.196837</td>\n",
       "      <td>1.510411</td>\n",
       "      <td>21</td>\n",
       "      <td>1</td>\n",
       "    </tr>\n",
       "  </tbody>\n",
       "</table>\n",
       "</div>"
      ],
      "text/plain": [
       "       PatientID  Pregnancies  PlasmaGlucose  DiastolicBloodPressure  \\\n",
       "6657     1451536            5            105                      65   \n",
       "12306    1111564            0             74                      83   \n",
       "13889    1109224            1             82                      29   \n",
       "10543    1616966            1            150                      82   \n",
       "14438    1711126            1            118                      83   \n",
       "13392    1448413            8            122                      67   \n",
       "4015     1128763            1            106                      91   \n",
       "11692    1266232            1             74                      61   \n",
       "10241    1997807            6            113                      81   \n",
       "5156     1544434            8            169                      81   \n",
       "\n",
       "       TricepsThickness  SerumInsulin        BMI  DiabetesPedigree  Age  \\\n",
       "6657                 44            95  44.929578          0.140390   43   \n",
       "12306                50            36  18.809250          0.284085   43   \n",
       "13889                11           704  21.720773          0.744834   25   \n",
       "10543                26            48  21.701670          0.170924   21   \n",
       "14438                22            79  23.810404          0.147983   55   \n",
       "13392                22           201  36.199936          0.093652   62   \n",
       "4015                 12           332  33.193670          0.187818   31   \n",
       "11692                 8            49  45.712246          0.655630   22   \n",
       "10241                22            90  27.437465          0.115110   47   \n",
       "5156                 54            60  30.196837          1.510411   21   \n",
       "\n",
       "       Diabetic  \n",
       "6657          1  \n",
       "12306         0  \n",
       "13889         0  \n",
       "10543         0  \n",
       "14438         1  \n",
       "13392         1  \n",
       "4015          0  \n",
       "11692         0  \n",
       "10241         1  \n",
       "5156          1  "
      ]
     },
     "execution_count": 5,
     "metadata": {},
     "output_type": "execute_result"
    }
   ],
   "source": [
    "# Get uploaded data \n",
    "diabetes_ds = ws.datasets.get('diabetes_db')\n",
    "\n",
    "data = diabetes_ds.to_pandas_dataframe()\n",
    "data.sample(10)"
   ]
  },
  {
   "cell_type": "markdown",
   "metadata": {},
   "source": [
    "## 3. Запуск Эксперимента\n",
    "\n",
    "Создадим Эксперимент и залогируем основные данные об эксперименте, а также информацию о данных используемых в нем:"
   ]
  },
  {
   "cell_type": "code",
   "execution_count": 6,
   "metadata": {},
   "outputs": [
    {
     "name": "stdout",
     "output_type": "stream",
     "text": [
      "Starting experiment diabetes-experiment...\n"
     ]
    }
   ],
   "source": [
    "# Create an Azure ML experiment\n",
    "experiment = Experiment(workspace=ws, name='diabetes-experiment')\n",
    "\n",
    "# Create an interactive run\n",
    "run = experiment.start_logging()\n",
    "run.tag('diabetes')\n",
    "run.tag('azure-ml-workshop')\n",
    "\n",
    "run.log('Dataset dimension', f'{data.shape[0]}x{data.shape[1]}')\n",
    "run.log('Yet another important fact', 'Think about it')\n",
    "\n",
    "print(f'Starting experiment {experiment.name}...')"
   ]
  },
  {
   "cell_type": "markdown",
   "metadata": {},
   "source": [
    "Проанализируем количество пациентов с диабетом и без и залогируем результаты:"
   ]
  },
  {
   "cell_type": "code",
   "execution_count": 7,
   "metadata": {},
   "outputs": [
    {
     "data": {
      "image/png": "[encoded data removed]",
      "text/plain": [
       "<Figure size 432x432 with 1 Axes>"
      ]
     },
     "metadata": {
      "needs_background": "light"
     },
     "output_type": "display_data"
    }
   ],
   "source": [
    "# Plot and log the count of diabetic vs non-diabetic patients\n",
    "diabetic_counts = data['Diabetic'].value_counts()\n",
    "\n",
    "fig = plt.figure(figsize=(6,6))\n",
    "ax = fig.gca()    \n",
    "\n",
    "diabetic_counts.plot.bar(ax = ax) \n",
    "ax.set_title('Patients with Diabetes') \n",
    "ax.set_xlabel('Diagnosis') \n",
    "ax.set_ylabel('Patients')\n",
    "plt.show()\n",
    "run.log_image(name = 'label distribution', plot = fig)\n",
    "\n",
    "# log distinct pregnancy counts\n",
    "pregnancies = data.Pregnancies.unique()\n",
    "run.log_list('pregnancy categories', pregnancies)"
   ]
  },
  {
   "cell_type": "markdown",
   "metadata": {},
   "source": [
    "Plot a __correlation matrix__"
   ]
  },
  {
   "cell_type": "code",
   "execution_count": 20,
   "metadata": {},
   "outputs": [
    {
     "data": {
      "image/png": "[encoded data removed]",
      "text/plain": [
       "<Figure size 432x288 with 2 Axes>"
      ]
     },
     "metadata": {
      "needs_background": "light"
     },
     "output_type": "display_data"
    }
   ],
   "source": [
    "import seaborn as sns\n",
    "\n",
    "corr = data.corr()\n",
    "\n",
    "ax = sns.heatmap(\n",
    "    corr, \n",
    "    vmin=-1, vmax=1, center=0,\n",
    "    cmap=sns.diverging_palette(20, 220, n=200),\n",
    "    square=True\n",
    ")\n",
    "ax.set_xticklabels(\n",
    "    ax.get_xticklabels(),\n",
    "    rotation=45,\n",
    "    horizontalalignment='right'\n",
    ");\n",
    "\n",
    "run.log_image(name='correlation matrix', plot=ax.get_figure())"
   ]
  },
  {
   "cell_type": "markdown",
   "metadata": {},
   "source": [
    "Plot boxplots:"
   ]
  },
  {
   "cell_type": "code",
   "execution_count": 23,
   "metadata": {},
   "outputs": [
    {
     "data": {
      "image/png": "[encoded data removed]",
      "text/plain": [
       "<Figure size 1152x648 with 3 Axes>"
      ]
     },
     "metadata": {
      "needs_background": "light"
     },
     "output_type": "display_data"
    }
   ],
   "source": [
    "bxp = data.boxplot(column=['BMI', 'Age', 'PlasmaGlucose'], by='Diabetic', layout=(1, 3), figsize=(16, 9))"
   ]
  },
  {
   "cell_type": "markdown",
   "metadata": {},
   "source": [
    "Посчитаем описательные статистики датасета и залогируем результаты:"
   ]
  },
  {
   "cell_type": "code",
   "execution_count": 12,
   "metadata": {},
   "outputs": [],
   "source": [
    "# Log summary statistics for numeric columns\n",
    "med_columns = ['PlasmaGlucose', 'DiastolicBloodPressure', 'TricepsThickness', 'SerumInsulin', 'BMI']\n",
    "summary_stats = data[med_columns].describe().to_dict()\n",
    "for col in summary_stats:\n",
    "    keys = list(summary_stats[col].keys())\n",
    "    values = list(summary_stats[col].values())\n",
    "    for index in range(len(keys)):\n",
    "        run.log_row(col, stat = keys[index], value = values[index])"
   ]
  },
  {
   "cell_type": "markdown",
   "metadata": {},
   "source": [
    "Сохраним 100 случайных строк из дасета в выходные данные Эксперимента:"
   ]
  },
  {
   "cell_type": "code",
   "execution_count": 13,
   "metadata": {},
   "outputs": [
    {
     "data": {
      "text/plain": [
       "<azureml._restclient.models.batch_artifact_content_information_dto.BatchArtifactContentInformationDto at 0x7f10d0297a20>"
      ]
     },
     "execution_count": 13,
     "metadata": {},
     "output_type": "execute_result"
    }
   ],
   "source": [
    "data.sample(100).to_csv('sample.csv', index=False, header=True)\n",
    "run.upload_file(name='outputs/sample.csv', path_or_stream = './sample.csv')"
   ]
  },
  {
   "cell_type": "markdown",
   "metadata": {},
   "source": [
    "Завершим эксперимент:"
   ]
  },
  {
   "cell_type": "code",
   "execution_count": 14,
   "metadata": {},
   "outputs": [],
   "source": [
    "# Complete the run\n",
    "run.complete()"
   ]
  },
  {
   "cell_type": "markdown",
   "metadata": {},
   "source": [
    "## 4. Просмотр результатов Эксперимента\n",
    "\n",
    "Детали эксперимента:"
   ]
  },
  {
   "cell_type": "code",
   "execution_count": 15,
   "metadata": {},
   "outputs": [
    {
     "name": "stdout",
     "output_type": "stream",
     "text": [
      "{'runId': '58a1e0fd-1d34-4e8f-987a-4449b57e07b1', 'target': 'local', 'status': 'Completed', 'startTimeUtc': '2020-09-15T15:50:56.027401Z', 'endTimeUtc': '2020-09-15T15:56:18.846852Z', 'properties': {'azureml.git.repository_uri': 'https://github.com/codez0mb1e/AI-in-cloud-workshop.git', 'mlflow.source.git.repoURL': 'https://github.com/codez0mb1e/AI-in-cloud-workshop.git', 'azureml.git.branch': 'azure-ml-ru', 'mlflow.source.git.branch': 'azure-ml-ru', 'azureml.git.commit': 'cad1a6b964de7e9504d728fbd453480ae7ba6bc9', 'mlflow.source.git.commit': 'cad1a6b964de7e9504d728fbd453480ae7ba6bc9', 'azureml.git.dirty': 'True', 'ContentSnapshotId': 'f5ad6a7c-a098-4937-929d-92d16eb852ce'}, 'inputDatasets': [], 'outputDatasets': [], 'logFiles': {}}\n"
     ]
    }
   ],
   "source": [
    "details = run.get_details()\n",
    "print(details)"
   ]
  },
  {
   "cell_type": "markdown",
   "metadata": {},
   "source": [
    "Метрики эксперимента:"
   ]
  },
  {
   "cell_type": "code",
   "execution_count": 16,
   "metadata": {},
   "outputs": [
    {
     "name": "stdout",
     "output_type": "stream",
     "text": [
      "{\n",
      "  \"Dataset dimension\": \"15000x10\",\n",
      "  \"Yet another important fact\": \"Think about it\",\n",
      "  \"label distribution\": \"aml://artifactId/ExperimentRun/dcid.58a1e0fd-1d34-4e8f-987a-4449b57e07b1/label distribution_1600185071.png\",\n",
      "  \"pregnancy categories\": [\n",
      "    1,\n",
      "    0,\n",
      "    8,\n",
      "    3,\n",
      "    4,\n",
      "    11,\n",
      "    2,\n",
      "    6,\n",
      "    7,\n",
      "    9,\n",
      "    10,\n",
      "    13,\n",
      "    5,\n",
      "    12,\n",
      "    14\n",
      "  ],\n",
      "  \"PlasmaGlucose\": {\n",
      "    \"stat\": [\n",
      "      \"count\",\n",
      "      \"mean\",\n",
      "      \"std\",\n",
      "      \"min\",\n",
      "      \"25%\",\n",
      "      \"50%\",\n",
      "      \"75%\",\n",
      "      \"max\"\n",
      "    ],\n",
      "    \"value\": [\n",
      "      15000.0,\n",
      "      107.85686666666666,\n",
      "      31.98197465181073,\n",
      "      44.0,\n",
      "      84.0,\n",
      "      104.0,\n",
      "      129.0,\n",
      "      192.0\n",
      "    ]\n",
      "  },\n",
      "  \"DiastolicBloodPressure\": {\n",
      "    \"stat\": [\n",
      "      \"count\",\n",
      "      \"mean\",\n",
      "      \"std\",\n",
      "      \"min\",\n",
      "      \"25%\",\n",
      "      \"50%\",\n",
      "      \"75%\",\n",
      "      \"max\"\n",
      "    ],\n",
      "    \"value\": [\n",
      "      15000.0,\n",
      "      71.22066666666667,\n",
      "      16.75871603653161,\n",
      "      24.0,\n",
      "      58.0,\n",
      "      72.0,\n",
      "      85.0,\n",
      "      117.0\n",
      "    ]\n",
      "  },\n",
      "  \"TricepsThickness\": {\n",
      "    \"stat\": [\n",
      "      \"count\",\n",
      "      \"mean\",\n",
      "      \"std\",\n",
      "      \"min\",\n",
      "      \"25%\",\n",
      "      \"50%\",\n",
      "      \"75%\",\n",
      "      \"max\"\n",
      "    ],\n",
      "    \"value\": [\n",
      "      15000.0,\n",
      "      28.814,\n",
      "      14.555715781923206,\n",
      "      7.0,\n",
      "      15.0,\n",
      "      31.0,\n",
      "      41.0,\n",
      "      93.0\n",
      "    ]\n",
      "  },\n",
      "  \"SerumInsulin\": {\n",
      "    \"stat\": [\n",
      "      \"count\",\n",
      "      \"mean\",\n",
      "      \"std\",\n",
      "      \"min\",\n",
      "      \"25%\",\n",
      "      \"50%\",\n",
      "      \"75%\",\n",
      "      \"max\"\n",
      "    ],\n",
      "    \"value\": [\n",
      "      15000.0,\n",
      "      137.85213333333334,\n",
      "      133.06825195901354,\n",
      "      14.0,\n",
      "      39.0,\n",
      "      83.0,\n",
      "      195.0,\n",
      "      799.0\n",
      "    ]\n",
      "  },\n",
      "  \"BMI\": {\n",
      "    \"stat\": [\n",
      "      \"count\",\n",
      "      \"mean\",\n",
      "      \"std\",\n",
      "      \"min\",\n",
      "      \"25%\",\n",
      "      \"50%\",\n",
      "      \"75%\",\n",
      "      \"max\"\n",
      "    ],\n",
      "    \"value\": [\n",
      "      15000.0,\n",
      "      31.509646041017337,\n",
      "      9.758999734051915,\n",
      "      18.20051152,\n",
      "      21.2598874975,\n",
      "      31.76794047,\n",
      "      39.2596918025,\n",
      "      56.03462763\n",
      "    ]\n",
      "  }\n",
      "}\n"
     ]
    }
   ],
   "source": [
    "metrics = run.get_metrics()\n",
    "print(json.dumps(metrics, indent=2))"
   ]
  },
  {
   "cell_type": "markdown",
   "metadata": {},
   "source": [
    "Выходные данные:"
   ]
  },
  {
   "cell_type": "code",
   "execution_count": 21,
   "metadata": {},
   "outputs": [
    {
     "name": "stdout",
     "output_type": "stream",
     "text": [
      "[\n",
      "  \"Correlation matrix_1600185561.png\",\n",
      "  \"label distribution_1600185071.png\",\n",
      "  \"outputs/sample.csv\"\n",
      "]\n"
     ]
    }
   ],
   "source": [
    "files = run.get_file_names()\n",
    "print(json.dumps(files, indent=2))"
   ]
  },
  {
   "cell_type": "markdown",
   "metadata": {},
   "source": [
    "Визуализируем данные с помощью виджета:"
   ]
  },
  {
   "cell_type": "code",
   "execution_count": 18,
   "metadata": {},
   "outputs": [
    {
     "data": {
      "application/vnd.jupyter.widget-view+json": {
       "model_id": "b6d2132223c043be98974e4e39f1cd4f",
       "version_major": 2,
       "version_minor": 0
      },
      "text/plain": [
       "_UserRunWidget(widget_settings={'childWidgetDisplay': 'popup', 'send_telemetry': False, 'log_level': 'INFO', '…"
      ]
     },
     "metadata": {},
     "output_type": "display_data"
    },
    {
     "data": {
      "application/aml.mini.widget.v1": "{\"status\": \"Completed\", \"workbench_run_details_uri\": \"https://ml.azure.com/experiments/diabetes-experiment/runs/58a1e0fd-1d34-4e8f-987a-4449b57e07b1?wsid=/subscriptions/9aef4ce1-e591-4870-9443-0b0eb98df2aa/resourcegroups/ai-in-cloud-workshop-rg/workspaces/ai-in-cloud-workspace\", \"run_id\": \"58a1e0fd-1d34-4e8f-987a-4449b57e07b1\", \"run_properties\": {\"run_id\": \"58a1e0fd-1d34-4e8f-987a-4449b57e07b1\", \"created_utc\": \"2020-09-15T15:50:55.958279Z\", \"properties\": {\"azureml.git.repository_uri\": \"https://github.com/codez0mb1e/AI-in-cloud-workshop.git\", \"mlflow.source.git.repoURL\": \"https://github.com/codez0mb1e/AI-in-cloud-workshop.git\", \"azureml.git.branch\": \"azure-ml-ru\", \"mlflow.source.git.branch\": \"azure-ml-ru\", \"azureml.git.commit\": \"cad1a6b964de7e9504d728fbd453480ae7ba6bc9\", \"mlflow.source.git.commit\": \"cad1a6b964de7e9504d728fbd453480ae7ba6bc9\", \"azureml.git.dirty\": \"True\", \"ContentSnapshotId\": \"f5ad6a7c-a098-4937-929d-92d16eb852ce\"}, \"tags\": {\"diabetes\": null, \"azure-ml-workshop\": null}, \"end_time_utc\": \"2020-09-15T15:56:18.846852Z\", \"status\": \"Completed\", \"log_files\": {}, \"log_groups\": [], \"run_duration\": \"0:05:22\"}, \"child_runs\": [], \"children_metrics\": {}, \"run_metrics\": [{\"name\": \"Dataset dimension\", \"run_id\": \"58a1e0fd-1d34-4e8f-987a-4449b57e07b1\", \"categories\": [0], \"series\": [{\"data\": [\"15000x10\"]}]}, {\"name\": \"Yet another important fact\", \"run_id\": \"58a1e0fd-1d34-4e8f-987a-4449b57e07b1\", \"categories\": [0], \"series\": [{\"data\": [\"Think about it\"]}]}, {\"name\": \"label distribution\", \"run_id\": \"58a1e0fd-1d34-4e8f-987a-4449b57e07b1\", \"categories\": [0], \"series\": [{\"data\": [\"aml://artifactId/ExperimentRun/dcid.58a1e0fd-1d34-4e8f-987a-4449b57e07b1/label distribution_1600185071.png\"]}]}, {\"name\": \"pregnancy categories\", \"run_id\": \"58a1e0fd-1d34-4e8f-987a-4449b57e07b1\", \"categories\": [0, 1, 2, 3, 4, 5, 6, 7, 8, 9, 10, 11, 12, 13, 14], \"series\": [{\"data\": [1, 0, 8, 3, 4, 11, 2, 6, 7, 9, 10, 13, 5, 12, 14]}]}, {\"name\": \"PlasmaGlucose\", \"run_id\": \"58a1e0fd-1d34-4e8f-987a-4449b57e07b1\", \"categories\": [0], \"series\": [{\"data\": [{\"stat\": [\"count\", \"mean\", \"std\", \"min\", \"25%\", \"50%\", \"75%\", \"max\"], \"value\": [15000.0, 107.85686666666666, 31.98197465181073, 44.0, 84.0, 104.0, 129.0, 192.0]}]}]}, {\"name\": \"DiastolicBloodPressure\", \"run_id\": \"58a1e0fd-1d34-4e8f-987a-4449b57e07b1\", \"categories\": [0], \"series\": [{\"data\": [{\"stat\": [\"count\", \"mean\", \"std\", \"min\", \"25%\", \"50%\", \"75%\", \"max\"], \"value\": [15000.0, 71.22066666666667, 16.75871603653161, 24.0, 58.0, 72.0, 85.0, 117.0]}]}]}, {\"name\": \"TricepsThickness\", \"run_id\": \"58a1e0fd-1d34-4e8f-987a-4449b57e07b1\", \"categories\": [0], \"series\": [{\"data\": [{\"stat\": [\"count\", \"mean\", \"std\", \"min\", \"25%\", \"50%\", \"75%\", \"max\"], \"value\": [15000.0, 28.814, 14.555715781923206, 7.0, 15.0, 31.0, 41.0, 93.0]}]}]}, {\"name\": \"SerumInsulin\", \"run_id\": \"58a1e0fd-1d34-4e8f-987a-4449b57e07b1\", \"categories\": [0], \"series\": [{\"data\": [{\"stat\": [\"count\", \"mean\", \"std\", \"min\", \"25%\", \"50%\", \"75%\", \"max\"], \"value\": [15000.0, 137.85213333333334, 133.06825195901354, 14.0, 39.0, 83.0, 195.0, 799.0]}]}]}, {\"name\": \"BMI\", \"run_id\": \"58a1e0fd-1d34-4e8f-987a-4449b57e07b1\", \"categories\": [0], \"series\": [{\"data\": [{\"stat\": [\"count\", \"mean\", \"std\", \"min\", \"25%\", \"50%\", \"75%\", \"max\"], \"value\": [15000.0, 31.509646041017337, 9.758999734051915, 18.20051152, 21.2598874975, 31.76794047, 39.2596918025, 56.03462763]}]}]}, {\"name\": \"Correlation matrix\", \"run_id\": \"58a1e0fd-1d34-4e8f-987a-4449b57e07b1\", \"categories\": [0], \"series\": [{\"data\": [\"aml://artifactId/ExperimentRun/dcid.58a1e0fd-1d34-4e8f-987a-4449b57e07b1/Correlation matrix_1600185561.png\"]}]}], \"run_logs\": \"\\nRun is completed.\", \"graph\": {}, \"widget_settings\": {\"childWidgetDisplay\": \"popup\", \"send_telemetry\": false, \"log_level\": \"INFO\", \"sdk_version\": \"1.12.0\"}, \"loading\": false}"
     },
     "metadata": {},
     "output_type": "display_data"
    }
   ],
   "source": [
    "from azureml.widgets import RunDetails\n",
    "RunDetails(run).show()"
   ]
  },
  {
   "cell_type": "markdown",
   "metadata": {},
   "source": [
    "Перейдите по сссылке, которая появилась в виджете, чтобы просмотеть результаты Эксперимента на протале Azure ML."
   ]
  }
 ],
 "metadata": {
  "kernelspec": {
   "display_name": "Python 3.6 - AzureML",
   "language": "python",
   "name": "python3-azureml"
  },
  "language_info": {
   "codemirror_mode": {
    "name": "ipython",
    "version": 3
   },
   "file_extension": ".py",
   "mimetype": "text/x-python",
   "name": "python",
   "nbconvert_exporter": "python",
   "pygments_lexer": "ipython3",
   "version": "3.6.9"
  }
 },
 "nbformat": 4,
 "nbformat_minor": 4
}
