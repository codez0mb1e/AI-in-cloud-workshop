{
 "cells": [
  {
   "cell_type": "markdown",
   "metadata": {},
   "source": [
    "# Запуск Экспериментов в Azure ML\n",
    "\n",
    "## 1. Соединение со своим Workspace\n",
    "\n",
    "Импорт модулей:"
   ]
  },
  {
   "cell_type": "code",
   "execution_count": 1,
   "metadata": {},
   "outputs": [
    {
     "name": "stdout",
     "output_type": "stream",
     "text": [
      "SDK version: 1.12.0\n"
     ]
    }
   ],
   "source": [
    "import os\n",
    "\n",
    "import azureml.core\n",
    "from azureml.core import Workspace, Experiment, Dataset\n",
    "from azureml.core.datastore import Datastore\n",
    "\n",
    "import pandas as pd\n",
    "import matplotlib.pyplot as plt\n",
    "%matplotlib inline\n",
    "from datetime import datetime\n",
    "import json\n",
    "\n",
    "\n",
    "# Check core SDK version number\n",
    "print(f'SDK version: {azureml.core.VERSION}')"
   ]
  },
  {
   "cell_type": "markdown",
   "metadata": {},
   "source": [
    "Создаем соединение со своим Workspace:"
   ]
  },
  {
   "cell_type": "code",
   "execution_count": 2,
   "metadata": {},
   "outputs": [
    {
     "name": "stdout",
     "output_type": "stream",
     "text": [
      "Connected Workspace:\n",
      "ai-in-cloud-workspace\n",
      "ai-in-cloud-workshop-rg\n",
      "westeurope\n"
     ]
    }
   ],
   "source": [
    "ws = Workspace.from_config()\n",
    "print('Connected Workspace:', ws.name, ws.resource_group, ws.location, sep = '\\n')"
   ]
  },
  {
   "cell_type": "markdown",
   "metadata": {},
   "source": [
    "## 2. Загрузка данных для Эксперимента\n",
    "\n",
    "Воспользуемся данными загружеными на [прошлом лабораторном занятии](../module-3/azure-datastore.ipynb):"
   ]
  },
  {
   "cell_type": "code",
   "execution_count": 3,
   "metadata": {},
   "outputs": [
    {
     "data": {
      "text/html": [
       "<div>\n",
       "<style scoped>\n",
       "    .dataframe tbody tr th:only-of-type {\n",
       "        vertical-align: middle;\n",
       "    }\n",
       "\n",
       "    .dataframe tbody tr th {\n",
       "        vertical-align: top;\n",
       "    }\n",
       "\n",
       "    .dataframe thead th {\n",
       "        text-align: right;\n",
       "    }\n",
       "</style>\n",
       "<table border=\"1\" class=\"dataframe\">\n",
       "  <thead>\n",
       "    <tr style=\"text-align: right;\">\n",
       "      <th></th>\n",
       "      <th>PatientID</th>\n",
       "      <th>Pregnancies</th>\n",
       "      <th>PlasmaGlucose</th>\n",
       "      <th>DiastolicBloodPressure</th>\n",
       "      <th>TricepsThickness</th>\n",
       "      <th>SerumInsulin</th>\n",
       "      <th>BMI</th>\n",
       "      <th>DiabetesPedigree</th>\n",
       "      <th>Age</th>\n",
       "      <th>Diabetic</th>\n",
       "    </tr>\n",
       "  </thead>\n",
       "  <tbody>\n",
       "    <tr>\n",
       "      <th>1</th>\n",
       "      <td>1823377</td>\n",
       "      <td>0</td>\n",
       "      <td>116</td>\n",
       "      <td>92</td>\n",
       "      <td>16</td>\n",
       "      <td>184</td>\n",
       "      <td>18.603630</td>\n",
       "      <td>0.131156</td>\n",
       "      <td>22</td>\n",
       "      <td>0</td>\n",
       "    </tr>\n",
       "    <tr>\n",
       "      <th>2</th>\n",
       "      <td>1916381</td>\n",
       "      <td>8</td>\n",
       "      <td>171</td>\n",
       "      <td>42</td>\n",
       "      <td>29</td>\n",
       "      <td>160</td>\n",
       "      <td>35.482247</td>\n",
       "      <td>0.082671</td>\n",
       "      <td>22</td>\n",
       "      <td>1</td>\n",
       "    </tr>\n",
       "    <tr>\n",
       "      <th>3</th>\n",
       "      <td>1247480</td>\n",
       "      <td>3</td>\n",
       "      <td>108</td>\n",
       "      <td>63</td>\n",
       "      <td>45</td>\n",
       "      <td>297</td>\n",
       "      <td>49.375169</td>\n",
       "      <td>0.100979</td>\n",
       "      <td>46</td>\n",
       "      <td>1</td>\n",
       "    </tr>\n",
       "    <tr>\n",
       "      <th>4</th>\n",
       "      <td>1516947</td>\n",
       "      <td>8</td>\n",
       "      <td>153</td>\n",
       "      <td>99</td>\n",
       "      <td>15</td>\n",
       "      <td>41</td>\n",
       "      <td>35.062139</td>\n",
       "      <td>0.116191</td>\n",
       "      <td>22</td>\n",
       "      <td>1</td>\n",
       "    </tr>\n",
       "    <tr>\n",
       "      <th>5</th>\n",
       "      <td>1703500</td>\n",
       "      <td>0</td>\n",
       "      <td>81</td>\n",
       "      <td>90</td>\n",
       "      <td>17</td>\n",
       "      <td>38</td>\n",
       "      <td>41.658026</td>\n",
       "      <td>0.478649</td>\n",
       "      <td>21</td>\n",
       "      <td>0</td>\n",
       "    </tr>\n",
       "    <tr>\n",
       "      <th>6</th>\n",
       "      <td>1040668</td>\n",
       "      <td>0</td>\n",
       "      <td>82</td>\n",
       "      <td>52</td>\n",
       "      <td>45</td>\n",
       "      <td>42</td>\n",
       "      <td>40.757542</td>\n",
       "      <td>0.082352</td>\n",
       "      <td>26</td>\n",
       "      <td>0</td>\n",
       "    </tr>\n",
       "    <tr>\n",
       "      <th>7</th>\n",
       "      <td>1358192</td>\n",
       "      <td>4</td>\n",
       "      <td>96</td>\n",
       "      <td>83</td>\n",
       "      <td>26</td>\n",
       "      <td>34</td>\n",
       "      <td>52.945331</td>\n",
       "      <td>0.160199</td>\n",
       "      <td>53</td>\n",
       "      <td>1</td>\n",
       "    </tr>\n",
       "    <tr>\n",
       "      <th>8</th>\n",
       "      <td>1023245</td>\n",
       "      <td>3</td>\n",
       "      <td>103</td>\n",
       "      <td>54</td>\n",
       "      <td>47</td>\n",
       "      <td>94</td>\n",
       "      <td>55.149428</td>\n",
       "      <td>0.316475</td>\n",
       "      <td>21</td>\n",
       "      <td>1</td>\n",
       "    </tr>\n",
       "    <tr>\n",
       "      <th>9</th>\n",
       "      <td>1363912</td>\n",
       "      <td>11</td>\n",
       "      <td>99</td>\n",
       "      <td>60</td>\n",
       "      <td>12</td>\n",
       "      <td>737</td>\n",
       "      <td>32.898198</td>\n",
       "      <td>0.108512</td>\n",
       "      <td>46</td>\n",
       "      <td>1</td>\n",
       "    </tr>\n",
       "  </tbody>\n",
       "</table>\n",
       "</div>"
      ],
      "text/plain": [
       "   PatientID  Pregnancies  PlasmaGlucose  DiastolicBloodPressure  \\\n",
       "1    1823377            0            116                      92   \n",
       "2    1916381            8            171                      42   \n",
       "3    1247480            3            108                      63   \n",
       "4    1516947            8            153                      99   \n",
       "5    1703500            0             81                      90   \n",
       "6    1040668            0             82                      52   \n",
       "7    1358192            4             96                      83   \n",
       "8    1023245            3            103                      54   \n",
       "9    1363912           11             99                      60   \n",
       "\n",
       "   TricepsThickness  SerumInsulin        BMI  DiabetesPedigree  Age  Diabetic  \n",
       "1                16           184  18.603630          0.131156   22         0  \n",
       "2                29           160  35.482247          0.082671   22         1  \n",
       "3                45           297  49.375169          0.100979   46         1  \n",
       "4                15            41  35.062139          0.116191   22         1  \n",
       "5                17            38  41.658026          0.478649   21         0  \n",
       "6                45            42  40.757542          0.082352   26         0  \n",
       "7                26            34  52.945331          0.160199   53         1  \n",
       "8                47            94  55.149428          0.316475   21         1  \n",
       "9                12           737  32.898198          0.108512   46         1  "
      ]
     },
     "execution_count": 3,
     "metadata": {},
     "output_type": "execute_result"
    }
   ],
   "source": [
    "# Get uploaded data \n",
    "ds = ws.get_default_datastore()\n",
    "diabetes_ds = Dataset.Tabular.from_delimited_files(path=(ds, 'diabetes-data/*.csv'))\n",
    "\n",
    "data = diabetes_ds.to_pandas_dataframe()\n",
    "data[1:10]"
   ]
  },
  {
   "cell_type": "markdown",
   "metadata": {},
   "source": [
    "## 3. Запуск Эксперимента\n",
    "\n",
    "Создадим Эксперимент и залоггируем основыне данные об эксперименте и данных используемых в нем:"
   ]
  },
  {
   "cell_type": "code",
   "execution_count": 19,
   "metadata": {},
   "outputs": [
    {
     "name": "stdout",
     "output_type": "stream",
     "text": [
      "Starting experiment diabetes-experiment...\n"
     ]
    }
   ],
   "source": [
    "# Create an Azure ML experiment\n",
    "experiment = Experiment(workspace=ws, name='diabetes-experiment')\n",
    "\n",
    "# Create an interactive run\n",
    "run = experiment.start_logging()\n",
    "run.tag('diabetes')\n",
    "run.tag('azure-ml-course')\n",
    "\n",
    "run.log('Dataset dimension', f'{data.shape[0]}x{data.shape[1]}')\n",
    "run.log('Yet another important fact', 'Think about it')\n",
    "\n",
    "print(f'Starting experiment {experiment.name}...')"
   ]
  },
  {
   "cell_type": "markdown",
   "metadata": {},
   "source": [
    "Проанализируем количество пациентов с диабетом и без и залогируем результаты:"
   ]
  },
  {
   "cell_type": "code",
   "execution_count": 5,
   "metadata": {},
   "outputs": [
    {
     "data": {
      "image/png": "[encoded data removed]",
      "text/plain": [
       "<Figure size 432x432 with 1 Axes>"
      ]
     },
     "metadata": {
      "needs_background": "light"
     },
     "output_type": "display_data"
    }
   ],
   "source": [
    "# Plot and log the count of diabetic vs non-diabetic patients\n",
    "diabetic_counts = data['Diabetic'].value_counts()\n",
    "\n",
    "fig = plt.figure(figsize=(6,6))\n",
    "ax = fig.gca()    \n",
    "\n",
    "diabetic_counts.plot.bar(ax = ax) \n",
    "ax.set_title('Patients with Diabetes') \n",
    "ax.set_xlabel('Diagnosis') \n",
    "ax.set_ylabel('Patients')\n",
    "plt.show()\n",
    "run.log_image(name = 'label distribution', plot = fig)\n",
    "\n",
    "# log distinct pregnancy counts\n",
    "pregnancies = data.Pregnancies.unique()\n",
    "run.log_list('pregnancy categories', pregnancies)"
   ]
  },
  {
   "cell_type": "markdown",
   "metadata": {},
   "source": [
    "Посчитаем описательные статистики датасета и залогируем результаты:"
   ]
  },
  {
   "cell_type": "code",
   "execution_count": 7,
   "metadata": {},
   "outputs": [],
   "source": [
    "# Log summary statistics for numeric columns\n",
    "med_columns = ['PlasmaGlucose', 'DiastolicBloodPressure', 'TricepsThickness', 'SerumInsulin', 'BMI']\n",
    "summary_stats = data[med_columns].describe().to_dict()\n",
    "for col in summary_stats:\n",
    "    keys = list(summary_stats[col].keys())\n",
    "    values = list(summary_stats[col].values())\n",
    "    for index in range(len(keys)):\n",
    "        run.log_row(col, stat = keys[index], value = values[index])"
   ]
  },
  {
   "cell_type": "markdown",
   "metadata": {},
   "source": [
    "Сохраним 100 случайных строк из дасета в выходные данные Эксперимента:"
   ]
  },
  {
   "cell_type": "code",
   "execution_count": 8,
   "metadata": {},
   "outputs": [
    {
     "data": {
      "text/plain": [
       "<azureml._restclient.models.batch_artifact_content_information_dto.BatchArtifactContentInformationDto at 0x7fa3449a7198>"
      ]
     },
     "execution_count": 8,
     "metadata": {},
     "output_type": "execute_result"
    }
   ],
   "source": [
    "data.sample(100).to_csv('sample.csv', index=False, header=True)\n",
    "run.upload_file(name='outputs/sample.csv', path_or_stream = './sample.csv')"
   ]
  },
  {
   "cell_type": "markdown",
   "metadata": {},
   "source": [
    "Завершим эксперимент:"
   ]
  },
  {
   "cell_type": "code",
   "execution_count": 20,
   "metadata": {},
   "outputs": [],
   "source": [
    "# Complete the run\n",
    "run.complete()"
   ]
  },
  {
   "cell_type": "markdown",
   "metadata": {},
   "source": [
    "## 4. Просмотр результатов Эксперимента\n",
    "\n",
    "Детали эксперимента:"
   ]
  },
  {
   "cell_type": "code",
   "execution_count": 10,
   "metadata": {},
   "outputs": [
    {
     "name": "stdout",
     "output_type": "stream",
     "text": [
      "{'runId': '835d1644-1f91-4218-9e9c-0d8aaaeba26c', 'target': 'local', 'status': 'Completed', 'startTimeUtc': '2020-09-06T11:09:53.173706Z', 'endTimeUtc': '2020-09-06T11:10:53.781656Z', 'properties': {'azureml.git.repository_uri': 'https://github.com/codez0mb1e/AI-in-cloud-workshop.git', 'mlflow.source.git.repoURL': 'https://github.com/codez0mb1e/AI-in-cloud-workshop.git', 'azureml.git.branch': 'azure-ml-ru', 'mlflow.source.git.branch': 'azure-ml-ru', 'azureml.git.commit': '0108d6f69aa4328644daeab984b3f16452d793ca', 'mlflow.source.git.commit': '0108d6f69aa4328644daeab984b3f16452d793ca', 'azureml.git.dirty': 'True', 'ContentSnapshotId': 'caf9fe08-a9fa-4a06-89c8-10b0f5fbb0fb'}, 'inputDatasets': [], 'outputDatasets': [], 'logFiles': {}}\n"
     ]
    }
   ],
   "source": [
    "details = run.get_details()\n",
    "print(details)"
   ]
  },
  {
   "cell_type": "markdown",
   "metadata": {},
   "source": [
    "Метрики эксперимента:"
   ]
  },
  {
   "cell_type": "code",
   "execution_count": 11,
   "metadata": {},
   "outputs": [
    {
     "name": "stdout",
     "output_type": "stream",
     "text": [
      "{\n",
      "  \"Name\": \"diabetes-experiment\",\n",
      "  \"Tags\": \"diabetes\",\n",
      "  \"Dataset dimension\": [\n",
      "    15000,\n",
      "    10\n",
      "  ],\n",
      "  \"Time\": \"datetime.datetime(2020, 9, 6, 11, 9, 54, 963655)\",\n",
      "  \"label distribution\": \"aml://artifactId/ExperimentRun/dcid.835d1644-1f91-4218-9e9c-0d8aaaeba26c/label distribution_1599390595.png\",\n",
      "  \"pregnancy categories\": [\n",
      "    1,\n",
      "    0,\n",
      "    8,\n",
      "    3,\n",
      "    4,\n",
      "    11,\n",
      "    2,\n",
      "    6,\n",
      "    7,\n",
      "    9,\n",
      "    10,\n",
      "    13,\n",
      "    5,\n",
      "    12,\n",
      "    14\n",
      "  ],\n",
      "  \"PlasmaGlucose\": {\n",
      "    \"stat\": [\n",
      "      \"count\",\n",
      "      \"mean\",\n",
      "      \"std\",\n",
      "      \"min\",\n",
      "      \"25%\",\n",
      "      \"50%\",\n",
      "      \"75%\",\n",
      "      \"max\"\n",
      "    ],\n",
      "    \"value\": [\n",
      "      15000.0,\n",
      "      107.85686666666666,\n",
      "      31.98197465181073,\n",
      "      44.0,\n",
      "      84.0,\n",
      "      104.0,\n",
      "      129.0,\n",
      "      192.0\n",
      "    ]\n",
      "  },\n",
      "  \"DiastolicBloodPressure\": {\n",
      "    \"stat\": [\n",
      "      \"count\",\n",
      "      \"mean\",\n",
      "      \"std\",\n",
      "      \"min\",\n",
      "      \"25%\",\n",
      "      \"50%\",\n",
      "      \"75%\",\n",
      "      \"max\"\n",
      "    ],\n",
      "    \"value\": [\n",
      "      15000.0,\n",
      "      71.22066666666667,\n",
      "      16.75871603653161,\n",
      "      24.0,\n",
      "      58.0,\n",
      "      72.0,\n",
      "      85.0,\n",
      "      117.0\n",
      "    ]\n",
      "  },\n",
      "  \"TricepsThickness\": {\n",
      "    \"stat\": [\n",
      "      \"count\",\n",
      "      \"mean\",\n",
      "      \"std\",\n",
      "      \"min\",\n",
      "      \"25%\",\n",
      "      \"50%\",\n",
      "      \"75%\",\n",
      "      \"max\"\n",
      "    ],\n",
      "    \"value\": [\n",
      "      15000.0,\n",
      "      28.814,\n",
      "      14.555715781923206,\n",
      "      7.0,\n",
      "      15.0,\n",
      "      31.0,\n",
      "      41.0,\n",
      "      93.0\n",
      "    ]\n",
      "  },\n",
      "  \"SerumInsulin\": {\n",
      "    \"stat\": [\n",
      "      \"count\",\n",
      "      \"mean\",\n",
      "      \"std\",\n",
      "      \"min\",\n",
      "      \"25%\",\n",
      "      \"50%\",\n",
      "      \"75%\",\n",
      "      \"max\"\n",
      "    ],\n",
      "    \"value\": [\n",
      "      15000.0,\n",
      "      137.85213333333334,\n",
      "      133.06825195901354,\n",
      "      14.0,\n",
      "      39.0,\n",
      "      83.0,\n",
      "      195.0,\n",
      "      799.0\n",
      "    ]\n",
      "  },\n",
      "  \"BMI\": {\n",
      "    \"stat\": [\n",
      "      \"count\",\n",
      "      \"mean\",\n",
      "      \"std\",\n",
      "      \"min\",\n",
      "      \"25%\",\n",
      "      \"50%\",\n",
      "      \"75%\",\n",
      "      \"max\"\n",
      "    ],\n",
      "    \"value\": [\n",
      "      15000.0,\n",
      "      31.509646041017337,\n",
      "      9.758999734051915,\n",
      "      18.20051152,\n",
      "      21.2598874975,\n",
      "      31.76794047,\n",
      "      39.2596918025,\n",
      "      56.03462763\n",
      "    ]\n",
      "  }\n",
      "}\n"
     ]
    }
   ],
   "source": [
    "metrics = run.get_metrics()\n",
    "print(json.dumps(metrics, indent=2))"
   ]
  },
  {
   "cell_type": "markdown",
   "metadata": {},
   "source": [
    "Выходные данные:"
   ]
  },
  {
   "cell_type": "code",
   "execution_count": 12,
   "metadata": {},
   "outputs": [
    {
     "name": "stdout",
     "output_type": "stream",
     "text": [
      "[\n",
      "  \"label distribution_1599390595.png\",\n",
      "  \"outputs/sample.csv\"\n",
      "]\n"
     ]
    }
   ],
   "source": [
    "files = run.get_file_names()\n",
    "print(json.dumps(files, indent=2))"
   ]
  },
  {
   "cell_type": "markdown",
   "metadata": {},
   "source": [
    "Визуализируем данные с помощью виджета:"
   ]
  },
  {
   "cell_type": "code",
   "execution_count": 13,
   "metadata": {},
   "outputs": [
    {
     "data": {
      "application/vnd.jupyter.widget-view+json": {
       "model_id": "1cffc16553ee4dee81d9aa89a55bb106",
       "version_major": 2,
       "version_minor": 0
      },
      "text/plain": [
       "_UserRunWidget(widget_settings={'childWidgetDisplay': 'popup', 'send_telemetry': False, 'log_level': 'INFO', '…"
      ]
     },
     "metadata": {},
     "output_type": "display_data"
    },
    {
     "data": {
      "application/aml.mini.widget.v1": "{\"status\": \"Completed\", \"workbench_run_details_uri\": \"https://ml.azure.com/experiments/diabetes-experiment/runs/835d1644-1f91-4218-9e9c-0d8aaaeba26c?wsid=/subscriptions/9aef4ce1-e591-4870-9443-0b0eb98df2aa/resourcegroups/ai-in-cloud-workshop-rg/workspaces/ai-in-cloud-workspace\", \"run_id\": \"835d1644-1f91-4218-9e9c-0d8aaaeba26c\", \"run_properties\": {\"run_id\": \"835d1644-1f91-4218-9e9c-0d8aaaeba26c\", \"created_utc\": \"2020-09-06T11:09:52.990714Z\", \"properties\": {\"azureml.git.repository_uri\": \"https://github.com/codez0mb1e/AI-in-cloud-workshop.git\", \"mlflow.source.git.repoURL\": \"https://github.com/codez0mb1e/AI-in-cloud-workshop.git\", \"azureml.git.branch\": \"azure-ml-ru\", \"mlflow.source.git.branch\": \"azure-ml-ru\", \"azureml.git.commit\": \"0108d6f69aa4328644daeab984b3f16452d793ca\", \"mlflow.source.git.commit\": \"0108d6f69aa4328644daeab984b3f16452d793ca\", \"azureml.git.dirty\": \"True\", \"ContentSnapshotId\": \"caf9fe08-a9fa-4a06-89c8-10b0f5fbb0fb\"}, \"tags\": {}, \"end_time_utc\": \"2020-09-06T11:10:53.781656Z\", \"status\": \"Completed\", \"log_files\": {}, \"log_groups\": [], \"run_duration\": \"0:01:00\"}, \"child_runs\": [], \"children_metrics\": {}, \"run_metrics\": [{\"name\": \"Name\", \"run_id\": \"835d1644-1f91-4218-9e9c-0d8aaaeba26c\", \"categories\": [0], \"series\": [{\"data\": [\"diabetes-experiment\"]}]}, {\"name\": \"Tags\", \"run_id\": \"835d1644-1f91-4218-9e9c-0d8aaaeba26c\", \"categories\": [0], \"series\": [{\"data\": [\"diabetes\"]}]}, {\"name\": \"Dataset dimension\", \"run_id\": \"835d1644-1f91-4218-9e9c-0d8aaaeba26c\", \"categories\": [0, 1], \"series\": [{\"data\": [15000, 10]}]}, {\"name\": \"Time\", \"run_id\": \"835d1644-1f91-4218-9e9c-0d8aaaeba26c\", \"categories\": [0], \"series\": [{\"data\": [\"datetime.datetime(2020, 9, 6, 11, 9, 54, 963655)\"]}]}, {\"name\": \"label distribution\", \"run_id\": \"835d1644-1f91-4218-9e9c-0d8aaaeba26c\", \"categories\": [0], \"series\": [{\"data\": [\"aml://artifactId/ExperimentRun/dcid.835d1644-1f91-4218-9e9c-0d8aaaeba26c/label distribution_1599390595.png\"]}]}, {\"name\": \"pregnancy categories\", \"run_id\": \"835d1644-1f91-4218-9e9c-0d8aaaeba26c\", \"categories\": [0, 1, 2, 3, 4, 5, 6, 7, 8, 9, 10, 11, 12, 13, 14], \"series\": [{\"data\": [1, 0, 8, 3, 4, 11, 2, 6, 7, 9, 10, 13, 5, 12, 14]}]}, {\"name\": \"PlasmaGlucose\", \"run_id\": \"835d1644-1f91-4218-9e9c-0d8aaaeba26c\", \"categories\": [0], \"series\": [{\"data\": [{\"stat\": [\"count\", \"mean\", \"std\", \"min\", \"25%\", \"50%\", \"75%\", \"max\"], \"value\": [15000.0, 107.85686666666666, 31.98197465181073, 44.0, 84.0, 104.0, 129.0, 192.0]}]}]}, {\"name\": \"DiastolicBloodPressure\", \"run_id\": \"835d1644-1f91-4218-9e9c-0d8aaaeba26c\", \"categories\": [0], \"series\": [{\"data\": [{\"stat\": [\"count\", \"mean\", \"std\", \"min\", \"25%\", \"50%\", \"75%\", \"max\"], \"value\": [15000.0, 71.22066666666667, 16.75871603653161, 24.0, 58.0, 72.0, 85.0, 117.0]}]}]}, {\"name\": \"TricepsThickness\", \"run_id\": \"835d1644-1f91-4218-9e9c-0d8aaaeba26c\", \"categories\": [0], \"series\": [{\"data\": [{\"stat\": [\"count\", \"mean\", \"std\", \"min\", \"25%\", \"50%\", \"75%\", \"max\"], \"value\": [15000.0, 28.814, 14.555715781923206, 7.0, 15.0, 31.0, 41.0, 93.0]}]}]}, {\"name\": \"SerumInsulin\", \"run_id\": \"835d1644-1f91-4218-9e9c-0d8aaaeba26c\", \"categories\": [0], \"series\": [{\"data\": [{\"stat\": [\"count\", \"mean\", \"std\", \"min\", \"25%\", \"50%\", \"75%\", \"max\"], \"value\": [15000.0, 137.85213333333334, 133.06825195901354, 14.0, 39.0, 83.0, 195.0, 799.0]}]}]}, {\"name\": \"BMI\", \"run_id\": \"835d1644-1f91-4218-9e9c-0d8aaaeba26c\", \"categories\": [0], \"series\": [{\"data\": [{\"stat\": [\"count\", \"mean\", \"std\", \"min\", \"25%\", \"50%\", \"75%\", \"max\"], \"value\": [15000.0, 31.509646041017337, 9.758999734051915, 18.20051152, 21.2598874975, 31.76794047, 39.2596918025, 56.03462763]}]}]}], \"run_logs\": \"\\nRun is completed.\", \"graph\": {}, \"widget_settings\": {\"childWidgetDisplay\": \"popup\", \"send_telemetry\": false, \"log_level\": \"INFO\", \"sdk_version\": \"1.12.0\"}, \"loading\": false}"
     },
     "metadata": {},
     "output_type": "display_data"
    }
   ],
   "source": [
    "from azureml.widgets import RunDetails\n",
    "RunDetails(run).show()"
   ]
  },
  {
   "cell_type": "markdown",
   "metadata": {},
   "source": [
    "Перейдите по сссылке, которая появилась в виджете, чтобы просмотеть результаты Эксперимента на протале Azure ML."
   ]
  }
 ],
 "metadata": {
  "kernelspec": {
   "display_name": "Python 3.6 - AzureML",
   "language": "python",
   "name": "python3-azureml"
  },
  "language_info": {
   "codemirror_mode": {
    "name": "ipython",
    "version": 3
   },
   "file_extension": ".py",
   "mimetype": "text/x-python",
   "name": "python",
   "nbconvert_exporter": "python",
   "pygments_lexer": "ipython3",
   "version": "3.6.9"
  }
 },
 "nbformat": 4,
 "nbformat_minor": 4
}
