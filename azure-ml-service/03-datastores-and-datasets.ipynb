{
 "cells": [
  {
   "cell_type": "markdown",
   "metadata": {},
   "source": [
    "# Работа с Datastores и Datasets в Azure ML\n",
    "\n",
    "## Соединение со своим Workspace\n",
    "\n",
    "Импорт модулей:"
   ]
  },
  {
   "cell_type": "code",
   "execution_count": 1,
   "metadata": {},
   "outputs": [
    {
     "name": "stdout",
     "output_type": "stream",
     "text": [
      "SDK version: 1.12.0\n"
     ]
    }
   ],
   "source": [
    "import os\n",
    "import azureml.core\n",
    "from azureml.core import Workspace, Experiment, Dataset\n",
    "from azureml.core.datastore import Datastore\n",
    "from azureml.data.data_reference import DataReference\n",
    "from msrest.exceptions import HttpOperationError\n",
    "\n",
    "# Check core SDK version number\n",
    "print(f'SDK version: {azureml.core.VERSION}')"
   ]
  },
  {
   "cell_type": "markdown",
   "metadata": {},
   "source": [
    "Создаем соединение со своим Workspace:"
   ]
  },
  {
   "cell_type": "code",
   "execution_count": 2,
   "metadata": {},
   "outputs": [
    {
     "name": "stdout",
     "output_type": "stream",
     "text": [
      "ai-in-cloud-workspace\n",
      "ai-in-cloud-workshop-rg\n",
      "westeurope\n"
     ]
    }
   ],
   "source": [
    "ws = Workspace.from_config()\n",
    "print(ws.name, ws.resource_group, ws.location, sep = '\\n')"
   ]
  },
  {
   "cell_type": "markdown",
   "metadata": {},
   "source": [
    "## Просмотр существующих Datastore"
   ]
  },
  {
   "cell_type": "code",
   "execution_count": 3,
   "metadata": {},
   "outputs": [
    {
     "name": "stdout",
     "output_type": "stream",
     "text": [
      "Default Datastore name: demo_datastore\n",
      "\n",
      "demo_datastore - Default = True\n",
      "creditcardfraudstore - Default = False\n",
      "dogsimagesblob - Default = False\n",
      "azureml_globaldatasets - Default = False\n",
      "workspaceblobstore - Default = False\n",
      "workspacefilestore - Default = False\n"
     ]
    }
   ],
   "source": [
    "# Get the default datastore\n",
    "default_ds = ws.get_default_datastore()\n",
    "print(f'Default Datastore name: {default_ds.name}\\n')\n",
    "\n",
    "# Enumerate all datastores, indicating which is the default\n",
    "for ds_name in ws.datastores:\n",
    "    print(ds_name, \"- Default =\", ds_name == default_ds.name)"
   ]
  },
  {
   "cell_type": "markdown",
   "metadata": {},
   "source": [
    "## Создаем новый Datastore\n",
    "\n",
    "Установка имени нового Datastore и указание информации об Azure Storage Account, где будет распологаться новый Datastore:"
   ]
  },
  {
   "cell_type": "code",
   "execution_count": 4,
   "metadata": {},
   "outputs": [],
   "source": [
    "datastore_name = 'demo_datastore'\n",
    "\n",
    "# Azure Storage Account Info\n",
    "storage_account_name = 'aiclouddata'\n",
    "storage_container_name = 'demo-container'\n",
    "storage_account_key = '<azure_account_key>' # WARN: insert your storage account key here"
   ]
  },
  {
   "cell_type": "markdown",
   "metadata": {},
   "source": [
    "Создаем Datastore, если он уже не существует:"
   ]
  },
  {
   "cell_type": "code",
   "execution_count": 5,
   "metadata": {},
   "outputs": [
    {
     "name": "stdout",
     "output_type": "stream",
     "text": [
      "Blob Datastore with name demo_datastore was found!\n"
     ]
    }
   ],
   "source": [
    "try:\n",
    "    new_datastore = Datastore.get(ws, datastore_name)\n",
    "    print(f'Blob Datastore with name {new_datastore.name} was found!')\n",
    "\n",
    "except HttpOperationError:\n",
    "    new_datastore = Datastore.register_azure_blob_container(\n",
    "        workspace=ws,\n",
    "        datastore_name=datastore_name,\n",
    "        account_name=storage_account_name,\n",
    "        container_name=storage_container_name,\n",
    "        account_key=storage_account_key)\n",
    "    print(f'Registered blob datastore with name {new_datastore.name}')"
   ]
  },
  {
   "cell_type": "markdown",
   "metadata": {},
   "source": [
    "Получаем информацию о cозданном Datastore:"
   ]
  },
  {
   "cell_type": "code",
   "execution_count": 6,
   "metadata": {},
   "outputs": [
    {
     "name": "stdout",
     "output_type": "stream",
     "text": [
      "Datastore demo_datastore based on AzureBlob in storage account named aiclouddata\n"
     ]
    }
   ],
   "source": [
    "print(f'Datastore {new_datastore.name} based on {new_datastore.datastore_type} in storage account named {new_datastore.account_name}')"
   ]
  },
  {
   "cell_type": "markdown",
   "metadata": {},
   "source": [
    "## Загрузка данных из Datastore\n",
    "\n",
    "Делаем созданный Datastore хранилищем по умолчанию (для удобства дальнейшей работы):"
   ]
  },
  {
   "cell_type": "code",
   "execution_count": 9,
   "metadata": {},
   "outputs": [
    {
     "name": "stdout",
     "output_type": "stream",
     "text": [
      "demo_datastore\n"
     ]
    }
   ],
   "source": [
    "ws.set_default_datastore(new_datastore.name)\n",
    "ds = ws.get_default_datastore()\n",
    "\n",
    "print(ds.name)"
   ]
  },
  {
   "cell_type": "markdown",
   "metadata": {},
   "source": [
    "Загрузка данных:"
   ]
  },
  {
   "cell_type": "code",
   "execution_count": 8,
   "metadata": {},
   "outputs": [
    {
     "name": "stdout",
     "output_type": "stream",
     "text": [
      "Uploading an estimated of 2 files\n",
      "Uploading ../data/diabetes_test.csv\n",
      "Uploading ../data/diabetes_train.csv\n",
      "Uploaded ../data/diabetes_test.csv, 1 files out of an estimated total of 2\n",
      "Uploaded ../data/diabetes_train.csv, 2 files out of an estimated total of 2\n",
      "Uploaded 2 files\n"
     ]
    },
    {
     "data": {
      "text/plain": [
       "$AZUREML_DATAREFERENCE_411e9cdddeda492c9936c4880d13c33d"
      ]
     },
     "execution_count": 8,
     "metadata": {},
     "output_type": "execute_result"
    }
   ],
   "source": [
    "ds.upload_files(files=['../data/diabetes_train.csv', '../data/diabetes_test.csv'], # Upload the diabetes csv files in /data\n",
    "                       target_path='diabetes-data/', # Put it in a folder path in the datastore\n",
    "                       overwrite=True, # Replace existing files of the same name\n",
    "                       show_progress=True)"
   ]
  },
  {
   "cell_type": "markdown",
   "metadata": {},
   "source": [
    "Зарегистрируем загруженные в Datastore данные, как табличный Dataset:"
   ]
  },
  {
   "cell_type": "code",
   "execution_count": 10,
   "metadata": {},
   "outputs": [
    {
     "data": {
      "text/plain": [
       "{\n",
       "  \"source\": [\n",
       "    \"('demo_datastore', 'diabetes-data/*.csv')\"\n",
       "  ],\n",
       "  \"definition\": [\n",
       "    \"GetDatastoreFiles\",\n",
       "    \"ParseDelimited\",\n",
       "    \"DropColumns\",\n",
       "    \"SetColumnTypes\"\n",
       "  ]\n",
       "}"
      ]
     },
     "execution_count": 10,
     "metadata": {},
     "output_type": "execute_result"
    }
   ],
   "source": [
    "diabetes_ds = Dataset.Tabular.from_delimited_files(path=(ds, 'diabetes-data/*.csv'))\n",
    "diabetes_ds"
   ]
  },
  {
   "cell_type": "markdown",
   "metadata": {},
   "source": [
    "## Зарегистрируем Dataset"
   ]
  },
  {
   "cell_type": "code",
   "execution_count": 12,
   "metadata": {},
   "outputs": [],
   "source": [
    "diabetes_db = diabetes_ds.register(workspace = ws,\n",
    "                                   name = 'diabetes_db',\n",
    "                                   description = 'Diabetes Disease Database',\n",
    "                                   create_new_version = True)"
   ]
  },
  {
   "cell_type": "markdown",
   "metadata": {},
   "source": [
    "Просмотрим список зарегистрированных Наборов данных:"
   ]
  },
  {
   "cell_type": "code",
   "execution_count": 16,
   "metadata": {},
   "outputs": [
    {
     "name": "stdout",
     "output_type": "stream",
     "text": [
      "Available datasets:\n",
      "\tdiabetes_db\n",
      "\tcredit-card-fraud\n",
      "\tcovid19-spread-russia\n",
      "\tcovid19-spread\n",
      "\tmnist-dataset\n",
      "\tPima Indians Diabetes Database\n"
     ]
    }
   ],
   "source": [
    "print('Available datasets:')\n",
    "\n",
    "for ds in ws.datasets:\n",
    "    print(f'\\t{ds}')"
   ]
  },
  {
   "cell_type": "markdown",
   "metadata": {},
   "source": [
    "## Просмотр Набора данных\n",
    "\n",
    "Скачаем зарегистрированный набор данных и выведем 10 строк:"
   ]
  },
  {
   "cell_type": "code",
   "execution_count": 17,
   "metadata": {},
   "outputs": [
    {
     "data": {
      "text/html": [
       "<div>\n",
       "<style scoped>\n",
       "    .dataframe tbody tr th:only-of-type {\n",
       "        vertical-align: middle;\n",
       "    }\n",
       "\n",
       "    .dataframe tbody tr th {\n",
       "        vertical-align: top;\n",
       "    }\n",
       "\n",
       "    .dataframe thead th {\n",
       "        text-align: right;\n",
       "    }\n",
       "</style>\n",
       "<table border=\"1\" class=\"dataframe\">\n",
       "  <thead>\n",
       "    <tr style=\"text-align: right;\">\n",
       "      <th></th>\n",
       "      <th>PatientID</th>\n",
       "      <th>Pregnancies</th>\n",
       "      <th>PlasmaGlucose</th>\n",
       "      <th>DiastolicBloodPressure</th>\n",
       "      <th>TricepsThickness</th>\n",
       "      <th>SerumInsulin</th>\n",
       "      <th>BMI</th>\n",
       "      <th>DiabetesPedigree</th>\n",
       "      <th>Age</th>\n",
       "      <th>Diabetic</th>\n",
       "    </tr>\n",
       "  </thead>\n",
       "  <tbody>\n",
       "    <tr>\n",
       "      <th>12933</th>\n",
       "      <td>1530753</td>\n",
       "      <td>9</td>\n",
       "      <td>115</td>\n",
       "      <td>96</td>\n",
       "      <td>34</td>\n",
       "      <td>445</td>\n",
       "      <td>18.380284</td>\n",
       "      <td>0.476763</td>\n",
       "      <td>23</td>\n",
       "      <td>0</td>\n",
       "    </tr>\n",
       "    <tr>\n",
       "      <th>7904</th>\n",
       "      <td>1115104</td>\n",
       "      <td>6</td>\n",
       "      <td>109</td>\n",
       "      <td>50</td>\n",
       "      <td>44</td>\n",
       "      <td>237</td>\n",
       "      <td>41.179536</td>\n",
       "      <td>0.605310</td>\n",
       "      <td>61</td>\n",
       "      <td>1</td>\n",
       "    </tr>\n",
       "    <tr>\n",
       "      <th>9306</th>\n",
       "      <td>1539294</td>\n",
       "      <td>6</td>\n",
       "      <td>98</td>\n",
       "      <td>75</td>\n",
       "      <td>48</td>\n",
       "      <td>289</td>\n",
       "      <td>29.545913</td>\n",
       "      <td>0.189791</td>\n",
       "      <td>60</td>\n",
       "      <td>1</td>\n",
       "    </tr>\n",
       "    <tr>\n",
       "      <th>14530</th>\n",
       "      <td>1449450</td>\n",
       "      <td>4</td>\n",
       "      <td>81</td>\n",
       "      <td>52</td>\n",
       "      <td>10</td>\n",
       "      <td>217</td>\n",
       "      <td>20.955122</td>\n",
       "      <td>0.269875</td>\n",
       "      <td>34</td>\n",
       "      <td>0</td>\n",
       "    </tr>\n",
       "    <tr>\n",
       "      <th>5078</th>\n",
       "      <td>1302648</td>\n",
       "      <td>8</td>\n",
       "      <td>105</td>\n",
       "      <td>61</td>\n",
       "      <td>26</td>\n",
       "      <td>60</td>\n",
       "      <td>28.353221</td>\n",
       "      <td>0.175321</td>\n",
       "      <td>43</td>\n",
       "      <td>1</td>\n",
       "    </tr>\n",
       "    <tr>\n",
       "      <th>2393</th>\n",
       "      <td>1935287</td>\n",
       "      <td>2</td>\n",
       "      <td>97</td>\n",
       "      <td>63</td>\n",
       "      <td>47</td>\n",
       "      <td>87</td>\n",
       "      <td>42.528976</td>\n",
       "      <td>0.701525</td>\n",
       "      <td>58</td>\n",
       "      <td>1</td>\n",
       "    </tr>\n",
       "    <tr>\n",
       "      <th>13056</th>\n",
       "      <td>1306293</td>\n",
       "      <td>0</td>\n",
       "      <td>104</td>\n",
       "      <td>94</td>\n",
       "      <td>35</td>\n",
       "      <td>140</td>\n",
       "      <td>20.679651</td>\n",
       "      <td>0.278658</td>\n",
       "      <td>33</td>\n",
       "      <td>0</td>\n",
       "    </tr>\n",
       "    <tr>\n",
       "      <th>11721</th>\n",
       "      <td>1425744</td>\n",
       "      <td>1</td>\n",
       "      <td>99</td>\n",
       "      <td>70</td>\n",
       "      <td>53</td>\n",
       "      <td>85</td>\n",
       "      <td>22.550511</td>\n",
       "      <td>0.443597</td>\n",
       "      <td>21</td>\n",
       "      <td>1</td>\n",
       "    </tr>\n",
       "    <tr>\n",
       "      <th>5476</th>\n",
       "      <td>1623791</td>\n",
       "      <td>5</td>\n",
       "      <td>102</td>\n",
       "      <td>55</td>\n",
       "      <td>56</td>\n",
       "      <td>32</td>\n",
       "      <td>20.895717</td>\n",
       "      <td>0.114489</td>\n",
       "      <td>26</td>\n",
       "      <td>0</td>\n",
       "    </tr>\n",
       "    <tr>\n",
       "      <th>7166</th>\n",
       "      <td>1970602</td>\n",
       "      <td>1</td>\n",
       "      <td>172</td>\n",
       "      <td>65</td>\n",
       "      <td>11</td>\n",
       "      <td>69</td>\n",
       "      <td>21.186491</td>\n",
       "      <td>0.260442</td>\n",
       "      <td>23</td>\n",
       "      <td>0</td>\n",
       "    </tr>\n",
       "  </tbody>\n",
       "</table>\n",
       "</div>"
      ],
      "text/plain": [
       "       PatientID  Pregnancies  PlasmaGlucose  DiastolicBloodPressure  \\\n",
       "12933    1530753            9            115                      96   \n",
       "7904     1115104            6            109                      50   \n",
       "9306     1539294            6             98                      75   \n",
       "14530    1449450            4             81                      52   \n",
       "5078     1302648            8            105                      61   \n",
       "2393     1935287            2             97                      63   \n",
       "13056    1306293            0            104                      94   \n",
       "11721    1425744            1             99                      70   \n",
       "5476     1623791            5            102                      55   \n",
       "7166     1970602            1            172                      65   \n",
       "\n",
       "       TricepsThickness  SerumInsulin        BMI  DiabetesPedigree  Age  \\\n",
       "12933                34           445  18.380284          0.476763   23   \n",
       "7904                 44           237  41.179536          0.605310   61   \n",
       "9306                 48           289  29.545913          0.189791   60   \n",
       "14530                10           217  20.955122          0.269875   34   \n",
       "5078                 26            60  28.353221          0.175321   43   \n",
       "2393                 47            87  42.528976          0.701525   58   \n",
       "13056                35           140  20.679651          0.278658   33   \n",
       "11721                53            85  22.550511          0.443597   21   \n",
       "5476                 56            32  20.895717          0.114489   26   \n",
       "7166                 11            69  21.186491          0.260442   23   \n",
       "\n",
       "       Diabetic  \n",
       "12933         0  \n",
       "7904          1  \n",
       "9306          1  \n",
       "14530         0  \n",
       "5078          1  \n",
       "2393          1  \n",
       "13056         0  \n",
       "11721         1  \n",
       "5476          0  \n",
       "7166          0  "
      ]
     },
     "execution_count": 17,
     "metadata": {},
     "output_type": "execute_result"
    }
   ],
   "source": [
    "diabetes_db_from_azure = ws.datasets.get('diabetes_db')\n",
    "\n",
    "diabetes_df = diabetes_db_from_azure.to_pandas_dataframe()\n",
    "diabetes_df.sample(10)"
   ]
  }
 ],
 "metadata": {
  "kernelspec": {
   "display_name": "Python 3.6 - AzureML",
   "language": "python",
   "name": "python3-azureml"
  },
  "language_info": {
   "codemirror_mode": {
    "name": "ipython",
    "version": 3
   },
   "file_extension": ".py",
   "mimetype": "text/x-python",
   "name": "python",
   "nbconvert_exporter": "python",
   "pygments_lexer": "ipython3",
   "version": "3.6.9"
  }
 },
 "nbformat": 4,
 "nbformat_minor": 4
}
