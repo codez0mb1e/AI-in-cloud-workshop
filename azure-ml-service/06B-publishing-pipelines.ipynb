{
 "cells": [
  {
   "cell_type": "markdown",
   "metadata": {},
   "source": [
    "# Azure ML Pipelines\n",
    "\n",
    "Цель лабораторной работы: \n",
    "\n",
    "- публикация __Конвейеров машинного обучения__ (ML Pipelines) в Azure ML\n",
    "- планирование выполнения Конвейеров машинного обучения.\n",
    "\n",
    "## Подготовка среды\n",
    "\n",
    "Импорт необходимых модулей и проверка версии AzureML SDK:"
   ]
  },
  {
   "cell_type": "code",
   "execution_count": null,
   "metadata": {},
   "outputs": [],
   "source": [
    "import azureml.core\n",
    "from azureml.core import Workspace\n",
    "\n",
    "# Check core SDK version number\n",
    "print(f'SDK version: {azureml.core.VERSION}')"
   ]
  },
  {
   "cell_type": "markdown",
   "metadata": {},
   "source": [
    "Зададим параметры Эксперимента:"
   ]
  },
  {
   "cell_type": "code",
   "execution_count": null,
   "metadata": {},
   "outputs": [],
   "source": [
    "experiment_name = 'ml_pipeline_demo'\n",
    "\n",
    "experiment_dir = 'ml-pipeline-demo'\n",
    "os.makedirs(experiment_dir, exist_ok=True)"
   ]
  },
  {
   "cell_type": "markdown",
   "metadata": {},
   "source": [
    "## Соединение со Azure ML Workspace\n",
    "\n",
    "Устанавливаем соединение с Рабочей областью в Azure ML:"
   ]
  },
  {
   "cell_type": "code",
   "execution_count": null,
   "metadata": {},
   "outputs": [],
   "source": [
    "ws = Workspace.from_config()\n",
    "print(f'Successfully connected to Workspace: {ws.name}.')"
   ]
  },
  {
   "cell_type": "markdown",
   "metadata": {},
   "source": [
    "## Публикация ML Конвейера\n",
    "\n",
    "После того как Вы создали ML Конвейер, Вы можете опубликовать его в качестве REST-сервиса. \n",
    "Вы запустили ML Конвейер в [предыдущей лаборатории](06A-ml-pipelines.ipynb). Используйте ссылку на этот запуск для публикации ML Конвейера."
   ]
  },
  {
   "cell_type": "code",
   "execution_count": null,
   "metadata": {},
   "outputs": [],
   "source": [
    "# Get the most recent run of the pipeline\n",
    "pipeline_experiment = ws.experiments.get(experiment_name)\n",
    "pipeline_run = list(pipeline_experiment.get_runs())[0]\n",
    "\n",
    "print(f'{pipeline_run}')"
   ]
  },
  {
   "cell_type": "code",
   "execution_count": null,
   "metadata": {},
   "outputs": [],
   "source": [
    "# Publish the pipeline from the run\n",
    "pipeline = pipeline_run.publish_pipeline(name='ml_pipeline_demo',\n",
    "                                         description='Demo ML Pipeline',\n",
    "                                         version='1.0')\n",
    "\n",
    "pipeline"
   ]
  },
  {
   "cell_type": "markdown",
   "metadata": {},
   "source": [
    "Для опубликованного ML Конвейера была создана Конечная точка (Endpoint), которую также можно увидеть на странице Конечные точки (на вкладке Конечные точки конвейера) на портале Azure ML. \n",
    "URI Конечной точки также доступно как свойство опубликованного ML Конвейера:"
   ]
  },
  {
   "cell_type": "code",
   "execution_count": null,
   "metadata": {},
   "outputs": [],
   "source": [
    "print(f'{pipeline.name} Endpoint URI: {pipeline.endpoint}')"
   ]
  },
  {
   "cell_type": "markdown",
   "metadata": {},
   "source": [
    "## Использование Конечной точки ML Конвейера\n",
    "\n",
    "Чтобы использовать Конечную точку, нужно выполнить вызов REST по протоколу HTTP. Этот запрос должен быть аутентифицирован, поэтому требуется заголовок авторизации (authentication header). Получим это заголовок:"
   ]
  },
  {
   "cell_type": "code",
   "execution_count": null,
   "metadata": {},
   "outputs": [],
   "source": [
    "from azureml.core.authentication import InteractiveLoginAuthentication\n",
    "\n",
    "auth = InteractiveLoginAuthentication()\n",
    "auth_header = auth.get_authentication_header()\n",
    "\n",
    "print(\"Authentication Header is ready.\")"
   ]
  },
  {
   "cell_type": "markdown",
   "metadata": {},
   "source": [
    "Запустим выполнение ML Конвейера: "
   ]
  },
  {
   "cell_type": "code",
   "execution_count": null,
   "metadata": {},
   "outputs": [],
   "source": [
    "import requests\n",
    "\n",
    "response = requests.post(pipeline.endpoint, \n",
    "                         headers=auth_header, \n",
    "                         json={\"ExperimentName\": experiment_name})\n",
    "\n",
    "run_id = response.json()[\"Id\"]\n",
    "print(f'Run id: {run_id}')"
   ]
  },
  {
   "cell_type": "markdown",
   "metadata": {},
   "source": [
    "Идентификатор запуска Вам вернулся мнгновенно, но это не означает, что ML Конвейер уже выполнился. \n",
    "\n",
    "Посмотрите через портал Azure ML за статусом запуска ML Конвейера или с помощью следущего кода:"
   ]
  },
  {
   "cell_type": "code",
   "execution_count": null,
   "metadata": {},
   "outputs": [],
   "source": [
    "from azureml.pipeline.core.run import PipelineRun\n",
    "\n",
    "pipeline_run = PipelineRun(ws.experiments[experiment_name], run_id)\n",
    "pipeline_run.wait_for_completion(show_output=True)"
   ]
  },
  {
   "cell_type": "markdown",
   "metadata": {},
   "source": [
    "## Планирование выполнения запусков ML Конвейера\n",
    "\n",
    "Предположим, что клиника для больных сахарным диабетом собирает новые данные каждую неделю и добавляет их в набор данных. Вы можете запускать конвейер каждую неделю, чтобы переобучить модель с новыми данными."
   ]
  },
  {
   "cell_type": "code",
   "execution_count": null,
   "metadata": {},
   "outputs": [],
   "source": [
    "from azureml.pipeline.core import ScheduleRecurrence, Schedule\n",
    "\n",
    "# Submit the Pipeline every Monday at 00:00 UTC\n",
    "recurrence = ScheduleRecurrence(frequency=\"Week\", interval=1, week_days=[\"Monday\"], time_of_day=\"00:00\")\n",
    "\n",
    "weekly_schedule = Schedule.create(ws, \n",
    "                                  name=\"weekly-diabetes-model-training\", \n",
    "                                  description=\"Weekly Diabetes Model Training Pipeline\",\n",
    "                                  pipeline_id=pipeline.id, \n",
    "                                  experiment_name=experiment_name, \n",
    "                                  recurrence=recurrence)\n",
    "\n",
    "print('Pipeline was scheduled.')"
   ]
  },
  {
   "cell_type": "markdown",
   "metadata": {},
   "source": [
    "Получим список запланированных запусков:"
   ]
  },
  {
   "cell_type": "code",
   "execution_count": null,
   "metadata": {},
   "outputs": [],
   "source": [
    "Schedule.list(ws)"
   ]
  },
  {
   "cell_type": "markdown",
   "metadata": {},
   "source": [
    "## Вывод\n",
    "\n",
    "## Полезные ссылки\n"
   ]
  }
 ],
 "metadata": {
  "kernelspec": {
   "display_name": "Python 3.6 - AzureML",
   "language": "python",
   "name": "python3-azureml"
  },
  "language_info": {
   "codemirror_mode": {
    "name": "ipython",
    "version": 3
   },
   "file_extension": ".py",
   "mimetype": "text/x-python",
   "name": "python",
   "nbconvert_exporter": "python",
   "pygments_lexer": "ipython3",
   "version": "3.6.9"
  }
 },
 "nbformat": 4,
 "nbformat_minor": 4
}
