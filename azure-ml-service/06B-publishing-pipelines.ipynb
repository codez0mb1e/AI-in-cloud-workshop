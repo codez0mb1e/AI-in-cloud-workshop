{
 "cells": [
  {
   "cell_type": "markdown",
   "metadata": {},
   "source": [
    "# Azure ML Pipelines\n",
    "\n",
    "Цель лабораторной работы: \n",
    "\n",
    "- публикация __Конвейеров машинного обучения__ (ML Pipelines) в Azure ML\n",
    "- планирование выполнения Конвейеров машинного обучения.\n",
    "\n",
    "## Подготовка среды\n",
    "\n",
    "Импорт необходимых модулей и проверка версии AzureML SDK:"
   ]
  },
  {
   "cell_type": "code",
   "execution_count": 19,
   "metadata": {},
   "outputs": [
    {
     "name": "stdout",
     "output_type": "stream",
     "text": [
      "SDK version: 1.14.0\n"
     ]
    }
   ],
   "source": [
    "import azureml.core\n",
    "from azureml.core import Workspace\n",
    "\n",
    "# Check core SDK version number\n",
    "print(f'SDK version: {azureml.core.VERSION}')"
   ]
  },
  {
   "cell_type": "markdown",
   "metadata": {},
   "source": [
    "Получим конфигурацию эксперимента: "
   ]
  },
  {
   "cell_type": "code",
   "execution_count": 6,
   "metadata": {},
   "outputs": [
    {
     "data": {
      "text/plain": [
       "{'experiment_name': 'pipeline-experiment',\n",
       " 'core': {'expriments_root_dir': 'experiments/',\n",
       "  'datastore_name': 'aml_ws_datastore_v2',\n",
       "  'dataset_name': 'diabetes-data',\n",
       "  'ml_cluster_name': 'aml-ws-cluster',\n",
       "  'ml_model_name': 'diabetes-predict-model'}}"
      ]
     },
     "execution_count": 6,
     "metadata": {},
     "output_type": "execute_result"
    }
   ],
   "source": [
    "%run core.py\n",
    "\n",
    "config = get_experiment_config('lab_6B')\n",
    "config"
   ]
  },
  {
   "cell_type": "markdown",
   "metadata": {},
   "source": [
    "## Соединение со Azure ML Workspace\n",
    "\n",
    "Устанавливаем соединение с Рабочей областью в Azure ML:"
   ]
  },
  {
   "cell_type": "code",
   "execution_count": 4,
   "metadata": {},
   "outputs": [
    {
     "name": "stdout",
     "output_type": "stream",
     "text": [
      "Successfully connected to Workspace: aml-workshop.\n"
     ]
    }
   ],
   "source": [
    "ws = Workspace.from_config()\n",
    "print(f'Successfully connected to Workspace: {ws.name}.')"
   ]
  },
  {
   "cell_type": "markdown",
   "metadata": {},
   "source": [
    "## Публикация ML Конвейера\n",
    "\n",
    "После того как Вы создали ML Конвейер, Вы можете опубликовать его в качестве REST-сервиса. \n",
    "Вы запустили ML Конвейер в [предыдущей лаборатории](06A-creating-pipelines.ipynb). Используйте ссылку на этот запуск для публикации ML Конвейера."
   ]
  },
  {
   "cell_type": "code",
   "execution_count": null,
   "metadata": {},
   "outputs": [],
   "source": [
    "# Get the most recent run of the pipeline\n",
    "pipeline_experiment = ws.experiments.get(config['experiment_name'])\n",
    "pipeline_run = list(pipeline_experiment.get_runs())[0]\n",
    "\n",
    "print(f'Recent run info: {pipeline_run}')"
   ]
  },
  {
   "cell_type": "code",
   "execution_count": null,
   "metadata": {},
   "outputs": [],
   "source": [
    "# Publish the pipeline from the run\n",
    "pipeline = pipeline_run.publish_pipeline(name='diabetes-model-train-pipeline',\n",
    "                                         description='Diabetes model training pipeline',\n",
    "                                         version='1.0')\n",
    "\n",
    "pipeline"
   ]
  },
  {
   "cell_type": "markdown",
   "metadata": {},
   "source": [
    "Для опубликованного ML Конвейера была создана Конечная точка (Endpoint), которую также можно увидеть на странице Конечные точки (на вкладке Конечные точки конвейера) на портале Azure ML. \n",
    "URI Конечной точки также доступно как свойство опубликованного ML Конвейера:"
   ]
  },
  {
   "cell_type": "code",
   "execution_count": null,
   "metadata": {},
   "outputs": [],
   "source": [
    "print(f'Pipeline name: {pipeline.name} \\nEndpoint URI: {pipeline.endpoint}')"
   ]
  },
  {
   "cell_type": "markdown",
   "metadata": {},
   "source": [
    "## Использование Конечной точки ML Конвейера\n",
    "\n",
    "Чтобы использовать Конечную точку, нужно выполнить вызов REST по протоколу HTTP. Этот запрос должен быть аутентифицирован, поэтому требуется заголовок авторизации (authentication header). Получим это заголовок:"
   ]
  },
  {
   "cell_type": "code",
   "execution_count": 11,
   "metadata": {},
   "outputs": [
    {
     "name": "stdout",
     "output_type": "stream",
     "text": [
      "Authentication Header is ready.\n"
     ]
    }
   ],
   "source": [
    "from azureml.core.authentication import InteractiveLoginAuthentication\n",
    "\n",
    "auth = InteractiveLoginAuthentication()\n",
    "auth_header = auth.get_authentication_header()\n",
    "\n",
    "print('Authentication Header is ready.')"
   ]
  },
  {
   "cell_type": "markdown",
   "metadata": {},
   "source": [
    "Запустим выполнение ML Конвейера: "
   ]
  },
  {
   "cell_type": "code",
   "execution_count": 12,
   "metadata": {},
   "outputs": [
    {
     "name": "stdout",
     "output_type": "stream",
     "text": [
      "Run id: abca1e7c-2d1a-45ce-9eda-f3e2423f7006\n"
     ]
    }
   ],
   "source": [
    "import requests\n",
    "\n",
    "response = requests.post(pipeline.endpoint, \n",
    "                         headers=auth_header, \n",
    "                         json={'ExperimentName': config['experiment_name']})\n",
    "\n",
    "run_id = response.json()['Id']\n",
    "print(f'Run id: {run_id}')"
   ]
  },
  {
   "cell_type": "markdown",
   "metadata": {},
   "source": [
    "Идентификатор запуска Вам вернулся мнгновенно, но это не означает, что ML Конвейер уже выполнился. \n",
    "\n",
    "Посмотрите через портал Azure ML или с помощью Azure ML SDK за статусом запуска ML Конвейера:"
   ]
  },
  {
   "cell_type": "code",
   "execution_count": null,
   "metadata": {},
   "outputs": [],
   "source": [
    "from azureml.pipeline.core.run import PipelineRun\n",
    "\n",
    "pipeline_run = PipelineRun(ws.experiments[config['experiment_name']], run_id)\n",
    "pipeline_run.wait_for_completion(show_output=True)"
   ]
  },
  {
   "cell_type": "markdown",
   "metadata": {},
   "source": [
    "## Планирование выполнения запусков ML Конвейера\n",
    "\n",
    "Предположим, что клиника для больных сахарным диабетом собирает новые данные каждую неделю и добавляет их в набор данных. Вы можете запускать конвейер каждую неделю, чтобы переобучить модель с новыми данными."
   ]
  },
  {
   "cell_type": "code",
   "execution_count": 16,
   "metadata": {},
   "outputs": [
    {
     "name": "stdout",
     "output_type": "stream",
     "text": [
      "Pipeline was scheduled.\n"
     ]
    }
   ],
   "source": [
    "from azureml.pipeline.core import ScheduleRecurrence, Schedule\n",
    "\n",
    "# Submit the Pipeline every Monday at 00:00 UTC\n",
    "recurrence = ScheduleRecurrence(frequency='Week', interval=1, week_days=['Monday'], time_of_day='00:00')\n",
    "\n",
    "weekly_schedule = Schedule.create(ws, \n",
    "                                  name='weekly-diabetes-model-train-pipeline', \n",
    "                                  description=\"Weekly Diabetes Model Training Pipeline\",\n",
    "                                  pipeline_id=pipeline.id, \n",
    "                                  experiment_name=config['experiment_name'], \n",
    "                                  recurrence=recurrence)\n",
    "\n",
    "print('Pipeline was scheduled.')"
   ]
  },
  {
   "cell_type": "markdown",
   "metadata": {},
   "source": [
    "Получим список запланированных запусков:"
   ]
  },
  {
   "cell_type": "code",
   "execution_count": null,
   "metadata": {},
   "outputs": [],
   "source": [
    "Schedule.list(ws)"
   ]
  },
  {
   "attachments": {
    "4cf1457f-f27c-4fa6-afab-0a298a079774.png": {
     "image/png": "[encoded data removed]"
    }
   },
   "cell_type": "markdown",
   "metadata": {},
   "source": [
    "Просмотрите на портале Azure ML список выполненных и запланированных ML Конвейров.\n",
    "\n",
    "![image.png](attachment:4cf1457f-f27c-4fa6-afab-0a298a079774.png)"
   ]
  }
 ],
 "metadata": {
  "kernelspec": {
   "display_name": "Python 3.6 - AzureML",
   "language": "python",
   "name": "python3-azureml"
  },
  "language_info": {
   "codemirror_mode": {
    "name": "ipython",
    "version": 3
   },
   "file_extension": ".py",
   "mimetype": "text/x-python",
   "name": "python",
   "nbconvert_exporter": "python",
   "pygments_lexer": "ipython3",
   "version": "3.6.9"
  }
 },
 "nbformat": 4,
 "nbformat_minor": 4
}
