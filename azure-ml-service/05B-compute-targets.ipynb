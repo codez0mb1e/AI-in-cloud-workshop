{
 "cells": [
  {
   "cell_type": "markdown",
   "metadata": {},
   "source": [
    "# Azure ML Compute Targets \n",
    "\n",
    "# Работа с Azure ML Environments\n",
    "\n",
    "__Цель лабораторной работы:__\n",
    "\n",
    "- научиться создавать Целевые объекты вычислений (Compute Targets) в Azure ML\n",
    "- научиться Целевые объекты вычислений в Экспериментах.\n",
    "\n",
    "## Подготовка среды\n",
    "\n",
    "Импорт необходимых модулей и проверка версии Azure ML SDK:"
   ]
  },
  {
   "cell_type": "code",
   "execution_count": 20,
   "metadata": {},
   "outputs": [
    {
     "name": "stdout",
     "output_type": "stream",
     "text": [
      "SDK version: 1.14.0\n"
     ]
    }
   ],
   "source": [
    "import azureml.core\n",
    "from azureml.core import Workspace, Environment, Experiment, Model\n",
    "from azureml.core.conda_dependencies import CondaDependencies\n",
    "from azureml.train.estimator import Estimator\n",
    "from azureml.train.sklearn import SKLearn\n",
    "from azureml.widgets import RunDetails\n",
    "\n",
    "# Check core SDK version number\n",
    "print(f'SDK version: {azureml.core.VERSION}')"
   ]
  },
  {
   "cell_type": "markdown",
   "metadata": {},
   "source": [
    "Получим конфигурацию эксперимента: "
   ]
  },
  {
   "cell_type": "code",
   "execution_count": 21,
   "metadata": {},
   "outputs": [
    {
     "name": "stdout",
     "output_type": "stream",
     "text": [
      "Experiment compute-targets-experiment was initialized successfully.\n"
     ]
    },
    {
     "data": {
      "text/plain": [
       "{'experiment_name': 'compute-targets-experiment',\n",
       " 'working_subdir': 'compute-targets-experiment-lab',\n",
       " 'environment_name': 'environments-experiment',\n",
       " 'core': {'expriments_root_dir': 'experiments/',\n",
       "  'datastore_name': 'aml_ws_datastore_v2',\n",
       "  'dataset_name': 'diabetes-data',\n",
       "  'ml_cluster_name': 'aml-ws-cluster',\n",
       "  'ml_model_name': 'diabetes-predict-model'}}"
      ]
     },
     "execution_count": 21,
     "metadata": {},
     "output_type": "execute_result"
    }
   ],
   "source": [
    "%run core.py\n",
    "\n",
    "config = get_experiment_config('lab_5B')\n",
    "init_experiment(config)\n",
    "experiment_dir = get_experiment_dir(config)\n",
    "\n",
    "config"
   ]
  },
  {
   "cell_type": "markdown",
   "metadata": {},
   "source": [
    "## Соединение со Azure ML Workspace\n",
    "\n",
    "Устанавливаем соединение с Рабочей областью в Azure ML:"
   ]
  },
  {
   "cell_type": "code",
   "execution_count": 22,
   "metadata": {},
   "outputs": [
    {
     "name": "stdout",
     "output_type": "stream",
     "text": [
      "Successfully connected to Workspace: aml-workshop.\n"
     ]
    }
   ],
   "source": [
    "ws = Workspace.from_config()\n",
    "print(f'Successfully connected to Workspace: {ws.name}.')"
   ]
  },
  {
   "cell_type": "markdown",
   "metadata": {},
   "source": [
    "## Создаем Целевой объект вычислений\n",
    "\n",
    "Azure ML поддерживает ряд Целевых объектов вычислений, которые можно определить в своем Рабочем пространстве и использовать для выполнения Экспериментов. При этом оплата ресурсов производится только при их использовании."
   ]
  },
  {
   "cell_type": "code",
   "execution_count": 23,
   "metadata": {},
   "outputs": [
    {
     "name": "stdout",
     "output_type": "stream",
     "text": [
      "New ML сluster name aml-ws-cluster\n",
      "Creating\n",
      "Succeeded....................\n",
      "AmlCompute wait for completion finished\n",
      "\n",
      "Minimum number of nodes requested have been provisioned\n"
     ]
    }
   ],
   "source": [
    "from azureml.core.compute import ComputeTarget, AmlCompute\n",
    "from azureml.core.compute_target import ComputeTargetException\n",
    "\n",
    "cluster_name = config['core']['ml_cluster_name']\n",
    "print(f'New ML сluster name {cluster_name}')\n",
    "\n",
    "try:\n",
    "    # First let's check that the cluster doesn't exist\n",
    "    cluster = ComputeTarget(workspace=ws, name=cluster_name)\n",
    "    print(f'The cluster {cluster.name} already exists.')\n",
    "except ComputeTargetException:\n",
    "    # If the cluster doesn't exist, then create it\n",
    "    try:\n",
    "        cluster_config = AmlCompute.provisioning_configuration(vm_size='STANDARD_D2_V2', min_nodes=1, max_nodes=3)\n",
    "        cluster = ComputeTarget.create(ws, cluster_name, cluster_config)\n",
    "        cluster.wait_for_completion(show_output=True)\n",
    "    except Exception as ex:\n",
    "        print(ex)"
   ]
  },
  {
   "cell_type": "markdown",
   "metadata": {},
   "source": [
    "Проверим статус созданного Вычислительного кластера:"
   ]
  },
  {
   "cell_type": "code",
   "execution_count": 7,
   "metadata": {},
   "outputs": [
    {
     "name": "stdout",
     "output_type": "stream",
     "text": [
      "Steady 1 STANDARD_D2_V2 2020-09-29 14:56:06.376303+00:00\n"
     ]
    }
   ],
   "source": [
    "cluster_state = cluster.get_status()\n",
    "\n",
    "print(cluster_state.allocation_state, cluster_state.current_node_count, cluster_state.vm_size, cluster_state.creation_time)"
   ]
  },
  {
   "cell_type": "markdown",
   "metadata": {},
   "source": [
    "## Запуск обучения ML модели на ML кластере\n",
    "\n",
    "Запустим процесс обучения модели машинного обучения на только что созданном кластере.\n",
    "\n",
    "### Подготовка\n",
    "\n",
    "Используем [ранее загруженный](02B-datastores-and-datasets.ipynb) датасет в качестве __данных для обучения__: "
   ]
  },
  {
   "cell_type": "code",
   "execution_count": 8,
   "metadata": {},
   "outputs": [
    {
     "name": "stdout",
     "output_type": "stream",
     "text": [
      "Used dataset diabetes-data: Diabetes Disease Database\n"
     ]
    }
   ],
   "source": [
    "data_ds = ws.datasets.get(config['core']['dataset_name'])\n",
    "print(f'Used dataset {data_ds.name}: {data_ds.description}')"
   ]
  },
  {
   "cell_type": "markdown",
   "metadata": {},
   "source": [
    "Используем [ранее зарегистрированную](05A-environments.ipynb) Среду вычисления в качестве __Environment для обучения модели__:"
   ]
  },
  {
   "cell_type": "code",
   "execution_count": 9,
   "metadata": {},
   "outputs": [
    {
     "name": "stdout",
     "output_type": "stream",
     "text": [
      "Environment environments-experiment will be used.\n"
     ]
    }
   ],
   "source": [
    "env = Environment.get(ws, config['environment_name'])\n",
    "print(f'Environment {env.name} will be used.')"
   ]
  },
  {
   "cell_type": "markdown",
   "metadata": {},
   "source": [
    "Получим скрипт обучения модели:"
   ]
  },
  {
   "cell_type": "code",
   "execution_count": 11,
   "metadata": {},
   "outputs": [
    {
     "name": "stdout",
     "output_type": "stream",
     "text": [
      "train_model.py\n"
     ]
    }
   ],
   "source": [
    "!cp scripts/train_model.py $experiment_dir\n",
    "!ls $experiment_dir"
   ]
  },
  {
   "cell_type": "markdown",
   "metadata": {},
   "source": [
    "Создадим Estimator, передав в качестве параметра `compute_target` имя созданного Вычислительного кластера:"
   ]
  },
  {
   "cell_type": "code",
   "execution_count": 12,
   "metadata": {},
   "outputs": [
    {
     "name": "stderr",
     "output_type": "stream",
     "text": [
      "WARNING - If environment_definition or conda_dependencies_file_path is specified, Azure ML will not install any framework related packages on behalf of the user.\n"
     ]
    }
   ],
   "source": [
    "estimator = SKLearn(source_directory=experiment_dir,\n",
    "                    inputs=[data_ds.as_named_input('data')],\n",
    "                    entry_script='train_model.py',\n",
    "                    script_params={'--reg_rate': 0.1},\n",
    "                    compute_target=cluster_name, # Use the compute target created previously\n",
    "                    environment_definition=env\n",
    "                    )"
   ]
  },
  {
   "cell_type": "markdown",
   "metadata": {},
   "source": [
    "Создаем Эксперимент и запускаем обучение модели:"
   ]
  },
  {
   "cell_type": "code",
   "execution_count": null,
   "metadata": {},
   "outputs": [],
   "source": [
    "# Create and run the experiment\n",
    "experiment = Experiment(workspace=ws, name=config['experiment_name'])\n",
    "run = experiment.submit(config=estimator)\n",
    "\n",
    "# Get run details\n",
    "run.wait_for_completion(show_output=True)\n",
    "RunDetails(run).show()"
   ]
  },
  {
   "cell_type": "markdown",
   "metadata": {},
   "source": [
    "Посмотрите на результаты обучения модели на портале Azure ML, перейдя по ссылке выше.\n",
    "\n",
    "## Результаты\n",
    "\n",
    "Просмотрим результаты обучения модели с использованием нового Environment:"
   ]
  },
  {
   "cell_type": "code",
   "execution_count": 14,
   "metadata": {},
   "outputs": [
    {
     "name": "stdout",
     "output_type": "stream",
     "text": [
      "Regularization Rate 0.1\n",
      "Accuracy 0.787\n",
      "AUC 0.8576173518134779\n",
      "ROC aml://artifactId/ExperimentRun/dcid.compute-targets-experiment_1601391683_6915ee90/ROC_1601392409.png\n",
      "\n",
      "\n",
      "ROC_1601392409.png\n",
      "azureml-logs/20_image_build_log.txt\n",
      "azureml-logs/55_azureml-execution-tvmps_726f40933c29105db6d8ab7b615efb7ba63760662dbf5a2da36d48a073206484_d.txt\n",
      "azureml-logs/65_job_prep-tvmps_726f40933c29105db6d8ab7b615efb7ba63760662dbf5a2da36d48a073206484_d.txt\n",
      "azureml-logs/70_driver_log.txt\n",
      "azureml-logs/75_job_post-tvmps_726f40933c29105db6d8ab7b615efb7ba63760662dbf5a2da36d48a073206484_d.txt\n",
      "azureml-logs/process_info.json\n",
      "azureml-logs/process_status.json\n",
      "logs/azureml/107_azureml.log\n",
      "logs/azureml/dataprep/backgroundProcess.log\n",
      "logs/azureml/dataprep/backgroundProcess_Telemetry.log\n",
      "logs/azureml/dataprep/engine_spans_fda35e16-cf16-4879-b9ff-7820544b5461.jsonl\n",
      "logs/azureml/dataprep/python_span_22d683d9-72f8-4b9c-a222-e85dcc3a5851.jsonl\n",
      "logs/azureml/dataprep/python_span_fda35e16-cf16-4879-b9ff-7820544b5461.jsonl\n",
      "logs/azureml/job_prep_azureml.log\n",
      "logs/azureml/job_release_azureml.log\n",
      "outputs/model.pkl\n"
     ]
    }
   ],
   "source": [
    "metrics = run.get_metrics()\n",
    "\n",
    "for key in metrics.keys():\n",
    "        print(key, metrics.get(key))\n",
    "print('\\n')\n",
    "\n",
    "for file in run.get_file_names():\n",
    "    print(file)"
   ]
  },
  {
   "cell_type": "markdown",
   "metadata": {},
   "source": [
    "## Регистрация модели\n",
    "\n",
    "Зарегистрируем обученную модель:"
   ]
  },
  {
   "cell_type": "code",
   "execution_count": 15,
   "metadata": {},
   "outputs": [
    {
     "data": {
      "text/plain": [
       "Model(workspace=Workspace.create(name='aml-workshop', subscription_id='9aef4ce1-e591-4870-9443-0b0eb98df2aa', resource_group='ai-in-cloud-workshop-rg'), name=diabetes-predict-model, id=diabetes-predict-model:2, version=2, tags={'Lab': '5B'}, properties={'AUC': '0.8576173518134779', 'Accuracy': '0.787'})"
      ]
     },
     "execution_count": 15,
     "metadata": {},
     "output_type": "execute_result"
    }
   ],
   "source": [
    "run.register_model(model_path=run.get_file_names()[-1], \n",
    "                   model_name=config['core']['ml_model_name'],\n",
    "                   tags={'Lab':'5B'},\n",
    "                   properties={'AUC': run.get_metrics()['AUC'], 'Accuracy': run.get_metrics()['Accuracy']})"
   ]
  },
  {
   "cell_type": "markdown",
   "metadata": {},
   "source": [
    "Получим список всех зарегистрированных ML моделей:"
   ]
  },
  {
   "cell_type": "code",
   "execution_count": 17,
   "metadata": {},
   "outputs": [
    {
     "name": "stdout",
     "output_type": "stream",
     "text": [
      "diabetes-predict-model v2\n",
      "\t Lab: 5B\n",
      "\t AUC: 0.8576173518134779\n",
      "\t Accuracy: 0.787\n",
      "\n",
      "\n",
      "diabetes-predict-model v1\n",
      "\t Lab: 4B\n",
      "\t AUC: 0.8576982541474856\n",
      "\t Accuracy: 0.7876666666666666\n",
      "\n",
      "\n"
     ]
    }
   ],
   "source": [
    "for model in Model.list(ws):\n",
    "    print(f'{model.name} v{model.version}')\n",
    "    \n",
    "    for tag_name in model.tags:\n",
    "        tag = model.tags[tag_name]\n",
    "        print(f'\\t {tag_name}: {tag}')\n",
    "        \n",
    "    for prop_name in model.properties:\n",
    "        prop = model.properties[prop_name]\n",
    "        print(f'\\t {prop_name}: {prop}')\n",
    "        \n",
    "    print('\\n')"
   ]
  },
  {
   "cell_type": "markdown",
   "metadata": {},
   "source": [
    "Проcмотрите зарегистрированную модель на портале Azure ML в разделе: `<your_workspace> > Models > diabetes_model`."
   ]
  }
 ],
 "metadata": {
  "kernelspec": {
   "display_name": "Python 3.6 - AzureML",
   "language": "python",
   "name": "python3-azureml"
  },
  "language_info": {
   "codemirror_mode": {
    "name": "ipython",
    "version": 3
   },
   "file_extension": ".py",
   "mimetype": "text/x-python",
   "name": "python",
   "nbconvert_exporter": "python",
   "pygments_lexer": "ipython3",
   "version": "3.6.9"
  }
 },
 "nbformat": 4,
 "nbformat_minor": 4
}
