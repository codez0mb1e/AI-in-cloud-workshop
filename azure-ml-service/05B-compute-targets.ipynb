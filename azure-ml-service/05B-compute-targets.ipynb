{
 "cells": [
  {
   "cell_type": "markdown",
   "metadata": {},
   "source": [
    "# Azure ML Compute Targets \n",
    "\n",
    "Тема лабораторной работы: работа с __Целевыми объектами вычислений__ (Compute Targets) в Azure ML.\n",
    "\n",
    "## Соединение со Azure ML Workspace\n",
    "\n",
    "Импорт необходимых модулей и проверка версии AzureML SDK:"
   ]
  },
  {
   "cell_type": "code",
   "execution_count": null,
   "metadata": {},
   "outputs": [],
   "source": [
    "import azureml.core\n",
    "from azureml.core import Workspace, Environment, Experiment, Model\n",
    "from azureml.core.conda_dependencies import CondaDependencies\n",
    "from azureml.train.estimator import Estimator\n",
    "from azureml.train.sklearn import SKLearn\n",
    "from azureml.widgets import RunDetails\n",
    "\n",
    "# Check core SDK version number\n",
    "print(f'SDK version: {azureml.core.VERSION}')"
   ]
  },
  {
   "cell_type": "markdown",
   "metadata": {},
   "source": [
    "Устанавливаем соединение с Рабочей областью в Azure ML:"
   ]
  },
  {
   "cell_type": "code",
   "execution_count": null,
   "metadata": {},
   "outputs": [],
   "source": [
    "ws = Workspace.from_config()\n",
    "print(f'Successfully connected to Workspace: {ws.name}.')"
   ]
  },
  {
   "cell_type": "markdown",
   "metadata": {},
   "source": [
    "## Создаем Целевой объект вычислений\n",
    "\n",
    "Azure ML поддерживает ряд Целевых объектов вычислений, которые можно определить в своем Рабочем пространстве и использовать для выполнения Экспериментов. При этом оплата ресурсов производится только при их использовании."
   ]
  },
  {
   "cell_type": "code",
   "execution_count": null,
   "metadata": {},
   "outputs": [],
   "source": [
    "from azureml.core.compute import ComputeTarget, AmlCompute\n",
    "from azureml.core.compute_target import ComputeTargetException\n",
    "\n",
    "cluster_name = 'ml-cluster'\n",
    "\n",
    "try:\n",
    "    # First let's check that the cluster doesn't exist\n",
    "    cluster = ComputeTarget(workspace=ws, name=cluster_name)\n",
    "    print(f'The cluster {cluster.name} already exists.')\n",
    "except ComputeTargetException:\n",
    "    # If the cluster doesn't exist, then create it\n",
    "    try:\n",
    "        cluster_config = AmlCompute.provisioning_configuration(vm_size='STANDARD_D2_V2', min_nodes=1, max_nodes=3)\n",
    "        cluster = ComputeTarget.create(ws, cluster_name, cluster_config)\n",
    "        cluster.wait_for_completion(show_output=True)\n",
    "    except Exception as ex:\n",
    "        print(ex)"
   ]
  },
  {
   "cell_type": "markdown",
   "metadata": {},
   "source": [
    "Проверим статус созданного Вычислительного кластера:"
   ]
  },
  {
   "cell_type": "code",
   "execution_count": null,
   "metadata": {},
   "outputs": [],
   "source": [
    "cluster_state = cluster.get_status()\n",
    "\n",
    "print(cluster_state.allocation_state, cluster_state.current_node_count, cluster_state.vm_size, cluster_state.creation_time)"
   ]
  },
  {
   "cell_type": "markdown",
   "metadata": {},
   "source": [
    "## Запуск обучения ML модели на ML кластере\n",
    "\n",
    "Запустим процесс обучения модели машинного обучения на только что созданном кластере.\n",
    "\n",
    "### Подготовка\n",
    "\n",
    "Используем [ранее загруженный](03-datastores-and-datasets.ipynb) датасет `diabets-db` в качестве данных для обучения: "
   ]
  },
  {
   "cell_type": "code",
   "execution_count": null,
   "metadata": {},
   "outputs": [],
   "source": [
    "data_ds = ws.datasets.get('diabetes_db')\n",
    "print(f'Used dataset {data_ds.name}: {data_ds.description}')"
   ]
  },
  {
   "cell_type": "markdown",
   "metadata": {},
   "source": [
    "Используем [ранее зарегистрированную](05A-environments.ipynb) Среду вычисления `diabetes-experiment-env` в качестве Environment для обучения модели:\n"
   ]
  },
  {
   "cell_type": "code",
   "execution_count": null,
   "metadata": {},
   "outputs": [],
   "source": [
    "env = Environment.get(ws, 'diabetes-experiment-env')\n",
    "print(f'Environment {env.name} will be used.')"
   ]
  },
  {
   "cell_type": "markdown",
   "metadata": {},
   "source": [
    "Установим параметры Эксперимента:"
   ]
  },
  {
   "cell_type": "code",
   "execution_count": null,
   "metadata": {},
   "outputs": [],
   "source": [
    "experiment_name = 'ml_cluster_demo'\n",
    "experiment_dir = 'new_env_demo'\n",
    "os.makedirs(experiment_dir, exist_ok=True)"
   ]
  },
  {
   "cell_type": "markdown",
   "metadata": {},
   "source": [
    "Создадим Estimator, передав в качестве параметра `compute_target` имя созданного Вычислительного кластера:"
   ]
  },
  {
   "cell_type": "code",
   "execution_count": null,
   "metadata": {},
   "outputs": [],
   "source": [
    "estimator = SKLearn(source_directory=experiment_dir,\n",
    "                    inputs=[data_ds.as_named_input('data')],\n",
    "                    entry_script='train-model.py',\n",
    "                    script_params={'--reg_rate': 0.1},\n",
    "                    compute_target=cluster_name, # Use the compute target created previously\n",
    "                    environment_definition=env\n",
    "                    )"
   ]
  },
  {
   "cell_type": "markdown",
   "metadata": {},
   "source": [
    "Создаем Эксперимент и запускаем обучение модели:"
   ]
  },
  {
   "cell_type": "code",
   "execution_count": null,
   "metadata": {},
   "outputs": [],
   "source": [
    "# Create and run the experiment\n",
    "experiment = Experiment(workspace=ws, name=experiment_name)\n",
    "run = experiment.submit(config=estimator)\n",
    "\n",
    "# Get run details\n",
    "run.wait_for_completion(show_output=True)\n",
    "RunDetails(run).show()"
   ]
  },
  {
   "cell_type": "markdown",
   "metadata": {},
   "source": [
    "Просмотрим результаты обучения модели:"
   ]
  },
  {
   "cell_type": "code",
   "execution_count": null,
   "metadata": {},
   "outputs": [],
   "source": [
    "metrics = run.get_metrics()\n",
    "for key in metrics.keys():\n",
    "    print(key, metrics.get(key))\n",
    "        \n",
    "print('\\n')\n",
    "for file in run.get_file_names():\n",
    "    print(file)"
   ]
  },
  {
   "cell_type": "markdown",
   "metadata": {},
   "source": [
    "## Регистрация модели\n",
    "\n",
    "Зарегистрируем обученную модель:"
   ]
  },
  {
   "cell_type": "code",
   "execution_count": null,
   "metadata": {},
   "outputs": [],
   "source": [
    "run.register_model(model_path=run.get_file_names()[-1], model_name='diabetes_predict_model',\n",
    "                   properties={'AUC': run.get_metrics()['AUC'], 'Accuracy': run.get_metrics()['Accuracy']},\n",
    "                   tags={'Demo':'Target compute'})"
   ]
  },
  {
   "cell_type": "markdown",
   "metadata": {},
   "source": [
    "Получим список всех зарегистрированных ML моделей:"
   ]
  },
  {
   "cell_type": "code",
   "execution_count": null,
   "metadata": {},
   "outputs": [],
   "source": [
    "for model in Model.list(ws):\n",
    "    print(f'{model.name} v{model.version}')\n",
    "    \n",
    "    for tag_name in model.tags:\n",
    "        tag = model.tags[tag_name]\n",
    "        print ('\\t', tag_name, ':', tag)\n",
    "    for prop_name in model.properties:\n",
    "        prop = model.properties[prop_name]\n",
    "        print ('\\t', prop_name, ':', prop)"
   ]
  }
 ],
 "metadata": {
  "kernelspec": {
   "display_name": "Python 3.6 - AzureML",
   "language": "python",
   "name": "python3-azureml"
  },
  "language_info": {
   "codemirror_mode": {
    "name": "ipython",
    "version": 3
   },
   "file_extension": ".py",
   "mimetype": "text/x-python",
   "name": "python",
   "nbconvert_exporter": "python",
   "pygments_lexer": "ipython3",
   "version": "3.6.9"
  }
 },
 "nbformat": 4,
 "nbformat_minor": 4
}
