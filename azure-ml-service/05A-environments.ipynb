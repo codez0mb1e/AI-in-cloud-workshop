{
 "cells": [
  {
   "cell_type": "markdown",
   "metadata": {},
   "source": [
    "# Работа с Azure ML Environments\n",
    "\n",
    "__Цель лабораторной работы:__\n",
    "\n",
    "- научиться создавать и получать Среды (Environments) Azure ML\n",
    "- научиться переиспользовать созданные Среды.\n",
    "\n",
    "## Подготовка среды\n",
    "\n",
    "Импорт необходимых модулей и проверка версии Azure ML SDK:"
   ]
  },
  {
   "cell_type": "code",
   "execution_count": 1,
   "metadata": {},
   "outputs": [
    {
     "name": "stdout",
     "output_type": "stream",
     "text": [
      "SDK version: 1.19.0\n"
     ]
    }
   ],
   "source": [
    "import os\n",
    "\n",
    "import azureml.core\n",
    "from azureml.core import Workspace, Environment, Experiment\n",
    "from azureml.core.conda_dependencies import CondaDependencies\n",
    "from azureml.train.estimator import Estimator\n",
    "from azureml.train.sklearn import SKLearn\n",
    "from azureml.widgets import RunDetails\n",
    "\n",
    "# Check core SDK version number\n",
    "print(f'SDK version: {azureml.core.VERSION}')"
   ]
  },
  {
   "cell_type": "markdown",
   "metadata": {},
   "source": [
    "Получим конфигурацию эксперимента: "
   ]
  },
  {
   "cell_type": "code",
   "execution_count": 2,
   "metadata": {},
   "outputs": [
    {
     "name": "stdout",
     "output_type": "stream",
     "text": [
      "Experiment environments-experiment was initialized successfully.\n"
     ]
    },
    {
     "data": {
      "text/plain": [
       "{'experiment_name': 'environments-experiment',\n",
       " 'working_subdir': 'environments-experiment-lab',\n",
       " 'core': {'expriments_root_dir': 'experiments/',\n",
       "  'datastore_name': 'winter_school_2020',\n",
       "  'dataset_name': 'diabetes-data',\n",
       "  'ml_cluster_name': 'aml-ws-cluster',\n",
       "  'ml_model_name': 'diabetes-predict-model'}}"
      ]
     },
     "execution_count": 2,
     "metadata": {},
     "output_type": "execute_result"
    }
   ],
   "source": [
    "%run core.py\n",
    "\n",
    "config = get_experiment_config('lab_5A')\n",
    "init_experiment(config)\n",
    "experiment_dir = get_experiment_dir(config)\n",
    "\n",
    "config"
   ]
  },
  {
   "cell_type": "markdown",
   "metadata": {},
   "source": [
    "## Соединение со Azure ML Workspace\n",
    "\n",
    "Устанавливаем соединение с Рабочей областью в Azure ML:"
   ]
  },
  {
   "cell_type": "code",
   "execution_count": 3,
   "metadata": {},
   "outputs": [
    {
     "name": "stdout",
     "output_type": "stream",
     "text": [
      "Successfully connected to Workspace: ai-in-cloud-workspace.\n"
     ]
    }
   ],
   "source": [
    "ws = Workspace.from_config()\n",
    "print(f'Successfully connected to Workspace: {ws.name}.')"
   ]
  },
  {
   "cell_type": "markdown",
   "metadata": {},
   "source": [
    "## Доступные Среды\n",
    "\n",
    "Получим список Сред (Environments), доступных в Azure ML:"
   ]
  },
  {
   "cell_type": "code",
   "execution_count": 4,
   "metadata": {},
   "outputs": [
    {
     "name": "stdout",
     "output_type": "stream",
     "text": [
      "Environments:\n",
      "\tAzureML-AutoML\n",
      "\tAzureML-PyTorch-1.0-GPU\n",
      "\tAzureML-Scikit-learn-0.20.3\n",
      "\tAzureML-TensorFlow-1.12-CPU\n",
      "\tAzureML-PyTorch-1.2-GPU\n",
      "\tAzureML-TensorFlow-2.0-GPU\n",
      "\tAzureML-TensorFlow-2.0-CPU\n",
      "\tAzureML-Chainer-5.1.0-GPU\n",
      "\tAzureML-TensorFlow-1.13-CPU\n",
      "\tAzureML-Minimal\n",
      "\tAzureML-Chainer-5.1.0-CPU\n",
      "\tAzureML-PyTorch-1.4-GPU\n",
      "\tAzureML-PySpark-MmlSpark-0.15\n",
      "\tAzureML-PyTorch-1.3-CPU\n",
      "\tAzureML-PyTorch-1.1-GPU\n",
      "\tAzureML-TensorFlow-1.10-GPU\n",
      "\tAzureML-PyTorch-1.2-CPU\n",
      "\tAzureML-TensorFlow-1.13-GPU\n",
      "\tAzureML-TensorFlow-1.10-CPU\n",
      "\tAzureML-PyTorch-1.3-GPU\n",
      "\tAzureML-PyTorch-1.4-CPU\n",
      "\tAzureML-Tutorial\n",
      "\tAzureML-PyTorch-1.0-CPU\n",
      "\tAzureML-PyTorch-1.1-CPU\n",
      "\tAzureML-TensorFlow-1.12-GPU\n",
      "\tAzureML-Designer-VowpalWabbit\n",
      "\tAzureML-TensorFlow-2.2-GPU\n",
      "\tAzureML-TensorFlow-2.2-CPU\n",
      "\tAzureML-PyTorch-1.6-CPU\n",
      "\tAzureML-PyTorch-1.6-GPU\n",
      "\tAzureML-Triton\n",
      "\tAzureML-TensorFlow-2.3-CPU\n",
      "\tAzureML-TensorFlow-2.3-GPU\n",
      "\tAzureML-DeepSpeed-0.3-GPU\n",
      "\tAzureML-Sidecar\n",
      "\tAzureML-Dask-CPU\n",
      "\tAzureML-Dask-GPU\n",
      "\tAzureML-TensorFlow-2.1-GPU\n",
      "\tAzureML-PyTorch-1.5-GPU\n",
      "\tAzureML-PyTorch-1.5-CPU\n",
      "\tAzureML-TensorFlow-2.1-CPU\n",
      "\tAzureML-AutoML-DNN-Vision-GPU\n",
      "\tAzureML-Hyperdrive-ForecastDNN\n",
      "\tAzureML-AutoML-DNN\n",
      "\tAzureML-VowpalWabbit-8.8.0\n",
      "\tAzureML-AutoML-DNN-GPU\n",
      "\tAzureML-AutoML-GPU\n",
      "\tAzureML-Designer-Score\n",
      "\tAzureML-Designer-PyTorch-Train\n",
      "\tAzureML-Designer-IO\n",
      "\tAzureML-Designer-Transform\n",
      "\tAzureML-Designer-Recommender\n",
      "\tAzureML-Designer-CV\n",
      "\tAzureML-Designer-NLP\n",
      "\tAzureML-Designer-PyTorch\n",
      "\tAzureML-Designer-CV-Transform\n",
      "\tAzureML-Designer\n",
      "\tAzureML-Designer-R\n"
     ]
    }
   ],
   "source": [
    "envs = Environment.list(workspace=ws)\n",
    "\n",
    "print('Environments:')\n",
    "for env in envs:\n",
    "    if env.startswith('AzureML'):\n",
    "        print(f'\\t{env}')"
   ]
  },
  {
   "cell_type": "markdown",
   "metadata": {},
   "source": [
    "## Создание собственного Environment\n",
    "\n",
    "Зададим имя новому Environment:"
   ]
  },
  {
   "cell_type": "code",
   "execution_count": 5,
   "metadata": {},
   "outputs": [],
   "source": [
    "new_env_name = config['experiment_name']"
   ]
  },
  {
   "cell_type": "markdown",
   "metadata": {},
   "source": [
    "Укажем используемые пакеты и ML-фреймворки (зависимости), используя пакетные менеджеры `pip` и `conda`:"
   ]
  },
  {
   "cell_type": "code",
   "execution_count": 6,
   "metadata": {},
   "outputs": [],
   "source": [
    "env_packages = CondaDependencies.create(conda_packages=['scikit-learn','ipykernel','matplotlib', 'pandas'],\n",
    "                                        pip_packages=['azureml-sdk','pyarrow'])"
   ]
  },
  {
   "cell_type": "markdown",
   "metadata": {},
   "source": [
    "Создадим собственную Среду в Azure ML с необходимыми зависимостями:"
   ]
  },
  {
   "cell_type": "code",
   "execution_count": 7,
   "metadata": {},
   "outputs": [
    {
     "name": "stdout",
     "output_type": "stream",
     "text": [
      "Environment environments-experiment was defined successfully.\n"
     ]
    }
   ],
   "source": [
    "# Create a Python environment for the experiment\n",
    "new_env = Environment(new_env_name)\n",
    "new_env.python.user_managed_dependencies = False # Let Azure ML manage dependencies\n",
    "new_env.docker.enabled = True # Use a docker container\n",
    "\n",
    "# Add the dependencies to the environment\n",
    "new_env.python.conda_dependencies = env_packages\n",
    "\n",
    "print(f'Environment {new_env.name} was defined successfully.')"
   ]
  },
  {
   "cell_type": "markdown",
   "metadata": {},
   "source": [
    "Зарегистрируем Azure ML Environment:"
   ]
  },
  {
   "cell_type": "code",
   "execution_count": 8,
   "metadata": {},
   "outputs": [
    {
     "data": {
      "text/plain": [
       "{\n",
       "    \"databricks\": {\n",
       "        \"eggLibraries\": [],\n",
       "        \"jarLibraries\": [],\n",
       "        \"mavenLibraries\": [],\n",
       "        \"pypiLibraries\": [],\n",
       "        \"rcranLibraries\": []\n",
       "    },\n",
       "    \"docker\": {\n",
       "        \"arguments\": [],\n",
       "        \"baseDockerfile\": null,\n",
       "        \"baseImage\": \"mcr.microsoft.com/azureml/intelmpi2018.3-ubuntu16.04:20200821.v1\",\n",
       "        \"baseImageRegistry\": {\n",
       "            \"address\": null,\n",
       "            \"password\": null,\n",
       "            \"registryIdentity\": null,\n",
       "            \"username\": null\n",
       "        },\n",
       "        \"enabled\": true,\n",
       "        \"platform\": {\n",
       "            \"architecture\": \"amd64\",\n",
       "            \"os\": \"Linux\"\n",
       "        },\n",
       "        \"sharedVolumes\": true,\n",
       "        \"shmSize\": null\n",
       "    },\n",
       "    \"environmentVariables\": {\n",
       "        \"EXAMPLE_ENV_VAR\": \"EXAMPLE_VALUE\"\n",
       "    },\n",
       "    \"inferencingStackVersion\": null,\n",
       "    \"name\": \"environments-experiment\",\n",
       "    \"python\": {\n",
       "        \"baseCondaEnvironment\": null,\n",
       "        \"condaDependencies\": {\n",
       "            \"channels\": [\n",
       "                \"anaconda\",\n",
       "                \"conda-forge\"\n",
       "            ],\n",
       "            \"dependencies\": [\n",
       "                \"python=3.6.2\",\n",
       "                {\n",
       "                    \"pip\": [\n",
       "                        \"azureml-sdk~=1.19.0\",\n",
       "                        \"pyarrow\"\n",
       "                    ]\n",
       "                },\n",
       "                \"scikit-learn\",\n",
       "                \"ipykernel\",\n",
       "                \"matplotlib\",\n",
       "                \"pandas\"\n",
       "            ],\n",
       "            \"name\": \"azureml_96967d47636fcfd2cc2e184f757f972e\"\n",
       "        },\n",
       "        \"condaDependenciesFile\": null,\n",
       "        \"interpreterPath\": \"python\",\n",
       "        \"userManagedDependencies\": false\n",
       "    },\n",
       "    \"r\": null,\n",
       "    \"spark\": {\n",
       "        \"packages\": [],\n",
       "        \"precachePackages\": true,\n",
       "        \"repositories\": []\n",
       "    },\n",
       "    \"version\": \"1\"\n",
       "}"
      ]
     },
     "execution_count": 8,
     "metadata": {},
     "output_type": "execute_result"
    }
   ],
   "source": [
    "new_env.register(workspace=ws)"
   ]
  },
  {
   "cell_type": "markdown",
   "metadata": {},
   "source": [
    "Просмотрим зарегистрированную Среду:"
   ]
  },
  {
   "cell_type": "code",
   "execution_count": 9,
   "metadata": {},
   "outputs": [
    {
     "name": "stdout",
     "output_type": "stream",
     "text": [
      "Environment(Name: environments-experiment,\n",
      "Version: 1)\n",
      "channels:\n",
      "- anaconda\n",
      "- conda-forge\n",
      "dependencies:\n",
      "- python=3.6.2\n",
      "- pip:\n",
      "  - azureml-sdk~=1.19.0\n",
      "  - pyarrow\n",
      "- scikit-learn\n",
      "- ipykernel\n",
      "- matplotlib\n",
      "- pandas\n",
      "name: azureml_96967d47636fcfd2cc2e184f757f972e\n",
      "\n"
     ]
    }
   ],
   "source": [
    "envs = Environment.list(ws)\n",
    "\n",
    "print(envs[new_env_name])\n",
    "print(envs[new_env_name].python.conda_dependencies.serialize_to_string())"
   ]
  },
  {
   "cell_type": "markdown",
   "metadata": {},
   "source": [
    "## Использование созданного Environment\n",
    "\n",
    "Получим созданный ранее Environment:"
   ]
  },
  {
   "cell_type": "code",
   "execution_count": 10,
   "metadata": {},
   "outputs": [
    {
     "name": "stdout",
     "output_type": "stream",
     "text": [
      "Environment environments-experiment will be reused.\n"
     ]
    }
   ],
   "source": [
    "registered_env = Environment.get(ws, new_env_name)\n",
    "print(f'Environment {registered_env.name} will be reused.')"
   ]
  },
  {
   "cell_type": "markdown",
   "metadata": {},
   "source": [
    "Подготовим входные данные:"
   ]
  },
  {
   "cell_type": "code",
   "execution_count": 11,
   "metadata": {},
   "outputs": [
    {
     "name": "stdout",
     "output_type": "stream",
     "text": [
      "Used dataset diabetes-data: Diabetes Disease Database (Winter School 2020)\n"
     ]
    }
   ],
   "source": [
    "data_ds = ws.datasets.get(config['core']['dataset_name'])\n",
    "print(f'Used dataset {data_ds.name}: {data_ds.description}')"
   ]
  },
  {
   "cell_type": "markdown",
   "metadata": {},
   "source": [
    "Получим скрипт обучения модели:"
   ]
  },
  {
   "cell_type": "code",
   "execution_count": 21,
   "metadata": {},
   "outputs": [
    {
     "name": "stdout",
     "output_type": "stream",
     "text": [
      "train_model.py\n"
     ]
    }
   ],
   "source": [
    "!cp scripts/train_model.py $experiment_dir\n",
    "!ls $experiment_dir"
   ]
  },
  {
   "cell_type": "markdown",
   "metadata": {},
   "source": [
    "### Создадим и запустим Эксперимент"
   ]
  },
  {
   "cell_type": "code",
   "execution_count": null,
   "metadata": {},
   "outputs": [],
   "source": [
    "# Create the experiment\n",
    "experiment = Experiment(workspace = ws, name = config['experiment_name'])\n",
    "\n",
    "# Create an SKLearn estimator\n",
    "estimator = SKLearn(source_directory=experiment_dir,\n",
    "                    inputs=[data_ds.as_named_input('data')], \n",
    "                    entry_script='train_model.py',\n",
    "                    script_params={'--reg_rate': 0.1},\n",
    "                    compute_target='local',\n",
    "                    environment_definition=registered_env # set enviroment here\n",
    "                    )\n",
    "\n",
    "# Run the experiment\n",
    "experiment = Experiment(workspace = ws, name = config['experiment_name'])\n",
    "run = experiment.submit(config=estimator)\n",
    "\n",
    "# Get run details\n",
    "run.wait_for_completion(show_output=True)\n",
    "RunDetails(run).show()"
   ]
  },
  {
   "cell_type": "markdown",
   "metadata": {},
   "source": [
    "Посмотрите на результаты обучения модели на портале Azure ML, перейдя по ссылке выше.\n",
    "\n",
    "## Результаты\n",
    "\n",
    "Просмотрим результаты обучения модели с использованием нового Environment:"
   ]
  },
  {
   "cell_type": "code",
   "execution_count": 15,
   "metadata": {},
   "outputs": [
    {
     "name": "stdout",
     "output_type": "stream",
     "text": [
      "Regularization Rate 0.1\n",
      "Accuracy 0.7788888888888889\n",
      "AUC 0.846851712258014\n",
      "ROC aml://artifactId/ExperimentRun/dcid.new_env_demo_exp_1599494769_5a39b844/ROC_1599494783.png\n",
      "\n",
      "\n",
      "ROC_1599494783.png\n",
      "azureml-logs/60_control_log.txt\n",
      "azureml-logs/70_driver_log.txt\n",
      "logs/azureml/8_azureml.log\n",
      "logs/azureml/dataprep/backgroundProcess.log\n",
      "logs/azureml/dataprep/backgroundProcess_Telemetry.log\n",
      "logs/azureml/dataprep/engine_spans_759936b0-accf-4206-8242-6b2c73d35a33.jsonl\n",
      "logs/azureml/dataprep/python_span_759936b0-accf-4206-8242-6b2c73d35a33.jsonl\n",
      "outputs/diabetes_model.pkl\n"
     ]
    }
   ],
   "source": [
    "metrics = run.get_metrics()\n",
    "\n",
    "for key in metrics.keys():\n",
    "        print(key, metrics.get(key))\n",
    "print('\\n')\n",
    "\n",
    "for file in run.get_file_names():\n",
    "    print(file)"
   ]
  }
 ],
 "metadata": {
  "kernelspec": {
   "display_name": "Python 3.6 - AzureML",
   "language": "python",
   "name": "python3-azureml"
  },
  "language_info": {
   "codemirror_mode": {
    "name": "ipython",
    "version": 3
   },
   "file_extension": ".py",
   "mimetype": "text/x-python",
   "name": "python",
   "nbconvert_exporter": "python",
   "pygments_lexer": "ipython3",
   "version": "3.6.9"
  }
 },
 "nbformat": 4,
 "nbformat_minor": 4
}
