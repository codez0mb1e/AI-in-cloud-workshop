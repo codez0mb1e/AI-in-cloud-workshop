{
 "cells": [
  {
   "cell_type": "markdown",
   "metadata": {},
   "source": [
    "# Работа с Datastores и Datasets в Azure ML\n",
    "\n",
    "__Цель лабораторной работы:__\n",
    "\n",
    "- создание и управление Хранилищами данных (Datastore)\n",
    "- регистрация и управление Наборами данных (Datasets)\n",
    "\n",
    "## Подготовка среды\n",
    "\n",
    "Импорт необходимых модулей и проверка версии Azure ML SDK:"
   ]
  },
  {
   "cell_type": "code",
   "execution_count": 26,
   "metadata": {},
   "outputs": [
    {
     "name": "stdout",
     "output_type": "stream",
     "text": [
      "SDK version: 1.19.0\n"
     ]
    }
   ],
   "source": [
    "import os\n",
    "\n",
    "import azureml.core\n",
    "from azureml.core import Workspace, Experiment, Dataset\n",
    "from azureml.core.datastore import Datastore\n",
    "from azureml.data.data_reference import DataReference\n",
    "from msrest.exceptions import HttpOperationError\n",
    "\n",
    "# Check core SDK version number\n",
    "print(f'SDK version: {azureml.core.VERSION}')"
   ]
  },
  {
   "cell_type": "markdown",
   "metadata": {},
   "source": [
    "Получим конфигурацию эксперимента:"
   ]
  },
  {
   "cell_type": "code",
   "execution_count": null,
   "metadata": {},
   "outputs": [],
   "source": [
    "%run core.py\n",
    "\n",
    "config = get_experiment_config('lab_2B')\n",
    "config"
   ]
  },
  {
   "cell_type": "markdown",
   "metadata": {},
   "source": [
    "## Соединение со Azure ML Workspace\n",
    "\n",
    "Устанавливаем соединение с Рабочей областью в Azure ML:"
   ]
  },
  {
   "cell_type": "code",
   "execution_count": 28,
   "metadata": {},
   "outputs": [
    {
     "name": "stdout",
     "output_type": "stream",
     "text": [
      "Successfully connected to Workspace: ai-in-cloud-workspace.\n"
     ]
    }
   ],
   "source": [
    "ws = Workspace.from_config()\n",
    "print(f'Successfully connected to Workspace: {ws.name}.')"
   ]
  },
  {
   "cell_type": "markdown",
   "metadata": {},
   "source": [
    "## Работа с Datastore\n",
    "\n",
    "## Просмотр существующих Datastore\n",
    "\n",
    "Получим список зарегистрированных Хранилищ данных, в т.ч. и Хранилища данных по умолчанию:"
   ]
  },
  {
   "cell_type": "code",
   "execution_count": 31,
   "metadata": {},
   "outputs": [],
   "source": [
    "# ws.set_default_datastore('workspaceblobstore')"
   ]
  },
  {
   "cell_type": "code",
   "execution_count": 32,
   "metadata": {},
   "outputs": [
    {
     "name": "stdout",
     "output_type": "stream",
     "text": [
      "creditcardfraudstore\n",
      "dogsimagesblob\n",
      "azureml_globaldatasets\n",
      "workspaceblobstore\n",
      "workspacefilestore\n",
      "\n",
      "\n",
      "Default Datastore: workspaceblobstore\n"
     ]
    }
   ],
   "source": [
    "# Enumerate all datastores, indicating which is the default\n",
    "for ds_name in ws.datastores:\n",
    "    print(ds_name)\n",
    "\n",
    "print('\\n')\n",
    "\n",
    "# Get the default datastore\n",
    "default_ds = ws.get_default_datastore()\n",
    "print(f'Default Datastore: {default_ds.name}')"
   ]
  },
  {
   "cell_type": "markdown",
   "metadata": {},
   "source": [
    "## Создаем новый Datastore\n",
    "\n",
    "Установка имени нового Datastore и указание информации об Azure Storage Account, где будет распологаться новый Datastore:"
   ]
  },
  {
   "cell_type": "code",
   "execution_count": 33,
   "metadata": {},
   "outputs": [],
   "source": [
    "datastore_name = config['core']['datastore_name']\n",
    "\n",
    "# Azure Storage Account Info\n",
    "storage_account_name = config['storage_account_name']\n",
    "storage_container_name = config['storage_container_name']\n",
    "storage_account_key = config['storage_account_key'] # WARN: insert your storage account key here"
   ]
  },
  {
   "cell_type": "code",
   "execution_count": 37,
   "metadata": {},
   "outputs": [
    {
     "name": "stdout",
     "output_type": "stream",
     "text": [
      "Creating winter_school_2020 datastore linked to aml-ws-data blob container in aiclouddata storage account.\n"
     ]
    }
   ],
   "source": [
    "print(f'Creating {datastore_name} datastore linked to {storage_container_name} blob container in {storage_account_name} storage account.')"
   ]
  },
  {
   "cell_type": "markdown",
   "metadata": {},
   "source": [
    "Создаем Datastore, если он уже не существует:"
   ]
  },
  {
   "cell_type": "code",
   "execution_count": 39,
   "metadata": {},
   "outputs": [
    {
     "name": "stdout",
     "output_type": "stream",
     "text": [
      "Blob Datastore with name winter_school_2020 was found!\n"
     ]
    }
   ],
   "source": [
    "try:\n",
    "    new_datastore = Datastore.get(ws, datastore_name)\n",
    "    print(f'Blob Datastore with name {new_datastore.name} was found!')\n",
    "\n",
    "except HttpOperationError:\n",
    "    new_datastore = Datastore.register_azure_blob_container(\n",
    "        workspace=ws,\n",
    "        datastore_name=datastore_name,\n",
    "        account_name=storage_account_name,\n",
    "        container_name=storage_container_name,\n",
    "        account_key=storage_account_key)\n",
    "    print(f'Registered blob datastore with name {new_datastore.name}')"
   ]
  },
  {
   "cell_type": "markdown",
   "metadata": {},
   "source": [
    "Получаем информацию о cозданном Datastore:"
   ]
  },
  {
   "cell_type": "code",
   "execution_count": null,
   "metadata": {},
   "outputs": [],
   "source": [
    "print(f'Datastore {new_datastore.name} based on {new_datastore.datastore_type} in storage account named {new_datastore.account_name}')"
   ]
  },
  {
   "cell_type": "markdown",
   "metadata": {},
   "source": [
    "## Загрузка данных из Datastore\n",
    "\n",
    "Делаем созданный Datastore хранилищем по умолчанию (для удобства дальнейшей работы):"
   ]
  },
  {
   "cell_type": "code",
   "execution_count": 40,
   "metadata": {},
   "outputs": [
    {
     "name": "stdout",
     "output_type": "stream",
     "text": [
      "winter_school_2020\n"
     ]
    }
   ],
   "source": [
    "ws.set_default_datastore(new_datastore.name)\n",
    "ds = ws.get_default_datastore()\n",
    "\n",
    "print(ds.name)"
   ]
  },
  {
   "cell_type": "markdown",
   "metadata": {},
   "source": [
    "Загрузка данных (внимание: создайте контейтенер, если его до это не существовала):"
   ]
  },
  {
   "cell_type": "code",
   "execution_count": 41,
   "metadata": {},
   "outputs": [
    {
     "name": "stdout",
     "output_type": "stream",
     "text": [
      "Uploading an estimated of 2 files\n",
      "Uploading ../data/diabetes_test.csv\n",
      "Uploaded ../data/diabetes_test.csv, 1 files out of an estimated total of 2\n",
      "Uploading ../data/diabetes_train.csv\n",
      "Uploaded ../data/diabetes_train.csv, 2 files out of an estimated total of 2\n",
      "Uploaded 2 files\n"
     ]
    },
    {
     "data": {
      "text/plain": [
       "$AZUREML_DATAREFERENCE_184a8815b8f04d98a517e0496827e8eb"
      ]
     },
     "execution_count": 41,
     "metadata": {},
     "output_type": "execute_result"
    }
   ],
   "source": [
    "ds.upload_files(files=['../data/diabetes_train.csv', '../data/diabetes_test.csv'], # Upload the diabetes csv files in /data\n",
    "                       target_path='diabetes-data/', # Put it in a folder path in the datastore\n",
    "                       overwrite=True, # Replace existing files of the same name\n",
    "                       show_progress=True)"
   ]
  },
  {
   "cell_type": "markdown",
   "metadata": {},
   "source": [
    "Зарегистрируем загруженные в Datastore данные, как табличный Dataset:"
   ]
  },
  {
   "cell_type": "code",
   "execution_count": 42,
   "metadata": {},
   "outputs": [
    {
     "data": {
      "text/plain": [
       "{\n",
       "  \"source\": [\n",
       "    \"('winter_school_2020', 'diabetes-data/*.csv')\"\n",
       "  ],\n",
       "  \"definition\": [\n",
       "    \"GetDatastoreFiles\",\n",
       "    \"ParseDelimited\",\n",
       "    \"DropColumns\",\n",
       "    \"SetColumnTypes\"\n",
       "  ]\n",
       "}"
      ]
     },
     "execution_count": 42,
     "metadata": {},
     "output_type": "execute_result"
    }
   ],
   "source": [
    "diabetes_ds = Dataset.Tabular.from_delimited_files(path=(ds, 'diabetes-data/*.csv'))\n",
    "diabetes_ds"
   ]
  },
  {
   "cell_type": "markdown",
   "metadata": {},
   "source": [
    "## Зарегистрируем Dataset"
   ]
  },
  {
   "cell_type": "code",
   "execution_count": 43,
   "metadata": {},
   "outputs": [],
   "source": [
    "diabetes_db = diabetes_ds.register(workspace = ws,\n",
    "                                   name = config['core']['dataset_name'],\n",
    "                                   description = 'Diabetes Disease Database (Winter School 2020)',\n",
    "                                   create_new_version = True)"
   ]
  },
  {
   "cell_type": "markdown",
   "metadata": {},
   "source": [
    "Просмотрим список зарегистрированных Наборов данных:"
   ]
  },
  {
   "cell_type": "code",
   "execution_count": 47,
   "metadata": {},
   "outputs": [
    {
     "name": "stdout",
     "output_type": "stream",
     "text": [
      "Available datasets:\n",
      "\tdiabetes-data\n",
      "\tdiabetes-batch-data\n",
      "\tcredit-card-fraud\n",
      "\tcovid19-spread-russia\n",
      "\tcovid19-spread\n",
      "\tmnist-dataset\n",
      "\tPima Indians Diabetes Database\n"
     ]
    }
   ],
   "source": [
    "print('Available datasets:')\n",
    "\n",
    "for ds in ws.datasets:\n",
    "    print(f'\\t{ds}')"
   ]
  },
  {
   "cell_type": "markdown",
   "metadata": {},
   "source": [
    "## Просмотр Набора данных\n",
    "\n",
    "Скачаем зарегистрированный набор данных и выведем 10 строк:"
   ]
  },
  {
   "cell_type": "code",
   "execution_count": 46,
   "metadata": {},
   "outputs": [
    {
     "data": {
      "text/html": [
       "<div>\n",
       "<style scoped>\n",
       "    .dataframe tbody tr th:only-of-type {\n",
       "        vertical-align: middle;\n",
       "    }\n",
       "\n",
       "    .dataframe tbody tr th {\n",
       "        vertical-align: top;\n",
       "    }\n",
       "\n",
       "    .dataframe thead th {\n",
       "        text-align: right;\n",
       "    }\n",
       "</style>\n",
       "<table border=\"1\" class=\"dataframe\">\n",
       "  <thead>\n",
       "    <tr style=\"text-align: right;\">\n",
       "      <th></th>\n",
       "      <th>PatientID</th>\n",
       "      <th>Pregnancies</th>\n",
       "      <th>PlasmaGlucose</th>\n",
       "      <th>DiastolicBloodPressure</th>\n",
       "      <th>TricepsThickness</th>\n",
       "      <th>SerumInsulin</th>\n",
       "      <th>BMI</th>\n",
       "      <th>DiabetesPedigree</th>\n",
       "      <th>Age</th>\n",
       "      <th>Diabetic</th>\n",
       "    </tr>\n",
       "  </thead>\n",
       "  <tbody>\n",
       "    <tr>\n",
       "      <th>14820</th>\n",
       "      <td>1233038</td>\n",
       "      <td>6</td>\n",
       "      <td>118</td>\n",
       "      <td>59</td>\n",
       "      <td>11</td>\n",
       "      <td>28</td>\n",
       "      <td>37.320076</td>\n",
       "      <td>0.126788</td>\n",
       "      <td>25</td>\n",
       "      <td>0</td>\n",
       "    </tr>\n",
       "    <tr>\n",
       "      <th>3602</th>\n",
       "      <td>1821648</td>\n",
       "      <td>1</td>\n",
       "      <td>87</td>\n",
       "      <td>49</td>\n",
       "      <td>9</td>\n",
       "      <td>31</td>\n",
       "      <td>37.641820</td>\n",
       "      <td>0.255898</td>\n",
       "      <td>23</td>\n",
       "      <td>0</td>\n",
       "    </tr>\n",
       "    <tr>\n",
       "      <th>4427</th>\n",
       "      <td>1615533</td>\n",
       "      <td>1</td>\n",
       "      <td>79</td>\n",
       "      <td>96</td>\n",
       "      <td>31</td>\n",
       "      <td>139</td>\n",
       "      <td>21.793499</td>\n",
       "      <td>0.126214</td>\n",
       "      <td>26</td>\n",
       "      <td>0</td>\n",
       "    </tr>\n",
       "    <tr>\n",
       "      <th>1942</th>\n",
       "      <td>1016702</td>\n",
       "      <td>0</td>\n",
       "      <td>59</td>\n",
       "      <td>55</td>\n",
       "      <td>7</td>\n",
       "      <td>24</td>\n",
       "      <td>35.997559</td>\n",
       "      <td>0.212584</td>\n",
       "      <td>22</td>\n",
       "      <td>0</td>\n",
       "    </tr>\n",
       "    <tr>\n",
       "      <th>5353</th>\n",
       "      <td>1521530</td>\n",
       "      <td>7</td>\n",
       "      <td>89</td>\n",
       "      <td>82</td>\n",
       "      <td>45</td>\n",
       "      <td>26</td>\n",
       "      <td>33.640650</td>\n",
       "      <td>0.253484</td>\n",
       "      <td>51</td>\n",
       "      <td>0</td>\n",
       "    </tr>\n",
       "    <tr>\n",
       "      <th>273</th>\n",
       "      <td>1814728</td>\n",
       "      <td>7</td>\n",
       "      <td>161</td>\n",
       "      <td>75</td>\n",
       "      <td>8</td>\n",
       "      <td>28</td>\n",
       "      <td>21.614417</td>\n",
       "      <td>0.148146</td>\n",
       "      <td>43</td>\n",
       "      <td>0</td>\n",
       "    </tr>\n",
       "    <tr>\n",
       "      <th>10906</th>\n",
       "      <td>1915154</td>\n",
       "      <td>1</td>\n",
       "      <td>159</td>\n",
       "      <td>49</td>\n",
       "      <td>46</td>\n",
       "      <td>176</td>\n",
       "      <td>41.344350</td>\n",
       "      <td>0.096023</td>\n",
       "      <td>21</td>\n",
       "      <td>0</td>\n",
       "    </tr>\n",
       "    <tr>\n",
       "      <th>12512</th>\n",
       "      <td>1753702</td>\n",
       "      <td>0</td>\n",
       "      <td>70</td>\n",
       "      <td>60</td>\n",
       "      <td>34</td>\n",
       "      <td>159</td>\n",
       "      <td>39.633064</td>\n",
       "      <td>0.097683</td>\n",
       "      <td>42</td>\n",
       "      <td>0</td>\n",
       "    </tr>\n",
       "    <tr>\n",
       "      <th>2023</th>\n",
       "      <td>1822332</td>\n",
       "      <td>3</td>\n",
       "      <td>128</td>\n",
       "      <td>67</td>\n",
       "      <td>53</td>\n",
       "      <td>487</td>\n",
       "      <td>46.352321</td>\n",
       "      <td>0.116897</td>\n",
       "      <td>21</td>\n",
       "      <td>1</td>\n",
       "    </tr>\n",
       "    <tr>\n",
       "      <th>4945</th>\n",
       "      <td>1101217</td>\n",
       "      <td>0</td>\n",
       "      <td>166</td>\n",
       "      <td>78</td>\n",
       "      <td>31</td>\n",
       "      <td>176</td>\n",
       "      <td>19.241181</td>\n",
       "      <td>0.104875</td>\n",
       "      <td>22</td>\n",
       "      <td>0</td>\n",
       "    </tr>\n",
       "  </tbody>\n",
       "</table>\n",
       "</div>"
      ],
      "text/plain": [
       "       PatientID  Pregnancies  PlasmaGlucose  DiastolicBloodPressure  \\\n",
       "14820    1233038            6            118                      59   \n",
       "3602     1821648            1             87                      49   \n",
       "4427     1615533            1             79                      96   \n",
       "1942     1016702            0             59                      55   \n",
       "5353     1521530            7             89                      82   \n",
       "273      1814728            7            161                      75   \n",
       "10906    1915154            1            159                      49   \n",
       "12512    1753702            0             70                      60   \n",
       "2023     1822332            3            128                      67   \n",
       "4945     1101217            0            166                      78   \n",
       "\n",
       "       TricepsThickness  SerumInsulin        BMI  DiabetesPedigree  Age  \\\n",
       "14820                11            28  37.320076          0.126788   25   \n",
       "3602                  9            31  37.641820          0.255898   23   \n",
       "4427                 31           139  21.793499          0.126214   26   \n",
       "1942                  7            24  35.997559          0.212584   22   \n",
       "5353                 45            26  33.640650          0.253484   51   \n",
       "273                   8            28  21.614417          0.148146   43   \n",
       "10906                46           176  41.344350          0.096023   21   \n",
       "12512                34           159  39.633064          0.097683   42   \n",
       "2023                 53           487  46.352321          0.116897   21   \n",
       "4945                 31           176  19.241181          0.104875   22   \n",
       "\n",
       "       Diabetic  \n",
       "14820         0  \n",
       "3602          0  \n",
       "4427          0  \n",
       "1942          0  \n",
       "5353          0  \n",
       "273           0  \n",
       "10906         0  \n",
       "12512         0  \n",
       "2023          1  \n",
       "4945          0  "
      ]
     },
     "execution_count": 46,
     "metadata": {},
     "output_type": "execute_result"
    }
   ],
   "source": [
    "diabetes_db_from_azure = ws.datasets.get(config['core']['dataset_name'])\n",
    "\n",
    "diabetes_df = diabetes_db_from_azure.to_pandas_dataframe()\n",
    "diabetes_df.sample(10)"
   ]
  }
 ],
 "metadata": {
  "kernelspec": {
   "display_name": "Python 3.6 - AzureML",
   "language": "python",
   "name": "python3-azureml"
  },
  "language_info": {
   "codemirror_mode": {
    "name": "ipython",
    "version": 3
   },
   "file_extension": ".py",
   "mimetype": "text/x-python",
   "name": "python",
   "nbconvert_exporter": "python",
   "pygments_lexer": "ipython3",
   "version": "3.6.9"
  }
 },
 "nbformat": 4,
 "nbformat_minor": 4
}
