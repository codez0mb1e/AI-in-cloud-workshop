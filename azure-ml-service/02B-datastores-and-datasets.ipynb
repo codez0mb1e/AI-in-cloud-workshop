{
 "cells": [
  {
   "cell_type": "markdown",
   "metadata": {},
   "source": [
    "# Работа с Datastores и Datasets в Azure ML\n",
    "\n",
    "__Цель лабораторной работы:__\n",
    "\n",
    "- создание и управление Хранилищами данных (Datastore)\n",
    "- регистрация и управление Наборами данных (Datasets)\n",
    "\n",
    "## Подготовка среды\n",
    "\n",
    "Импорт необходимых модулей и проверка версии Azure ML SDK:"
   ]
  },
  {
   "cell_type": "code",
   "execution_count": 1,
   "metadata": {},
   "outputs": [
    {
     "name": "stderr",
     "output_type": "stream",
     "text": [
      "Failure while loading azureml_run_type_providers. Failed to load entrypoint hyperdrive = azureml.train.hyperdrive:HyperDriveRun._from_run_dto with exception [Errno 2] No such file or directory: '/anaconda/envs/azureml_py36/lib/python3.6/site-packages/cryptography-3.0.dist-info/METADATA'.\n"
     ]
    },
    {
     "name": "stdout",
     "output_type": "stream",
     "text": [
      "SDK version: 1.14.0\n"
     ]
    }
   ],
   "source": [
    "import os\n",
    "\n",
    "import azureml.core\n",
    "from azureml.core import Workspace, Experiment, Dataset\n",
    "from azureml.core.datastore import Datastore\n",
    "from azureml.data.data_reference import DataReference\n",
    "from msrest.exceptions import HttpOperationError\n",
    "\n",
    "# Check core SDK version number\n",
    "print(f'SDK version: {azureml.core.VERSION}')"
   ]
  },
  {
   "cell_type": "markdown",
   "metadata": {},
   "source": [
    "Получим конфигурацию эксперимента:"
   ]
  },
  {
   "cell_type": "code",
   "execution_count": 2,
   "metadata": {},
   "outputs": [
    {
     "data": {
      "text/plain": [
       "{'experiment_name': 'datasets-experiment',\n",
       " 'storage_account_name': 'aiclouddata',\n",
       " 'storage_container_name': 'aml-ws-data',\n",
       " 'storage_account_key': 'eSy/BWB0hvEkguj36V63lT87fFskj/OlklaavThM0S/qwlaMXfI7vZNP19HDtYUUpacIoMxzlaFzkifd22xZKg==',\n",
       " 'core': {'expriments_root_dir': 'expriments/',\n",
       "  'datastore_name': 'aml_ws_datastore_v2',\n",
       "  'dataset_name': 'diabetes-data',\n",
       "  'ml_cluster_name': 'aml-ws-cluster',\n",
       "  'ml_model_name': 'diabetes-predict-model'}}"
      ]
     },
     "execution_count": 2,
     "metadata": {},
     "output_type": "execute_result"
    }
   ],
   "source": [
    "%run core.py\n",
    "\n",
    "config = get_experiment_config('lab_2B')\n",
    "config"
   ]
  },
  {
   "cell_type": "markdown",
   "metadata": {},
   "source": [
    "## Соединение со Azure ML Workspace\n",
    "\n",
    "Устанавливаем соединение с Рабочей областью в Azure ML:"
   ]
  },
  {
   "cell_type": "code",
   "execution_count": 3,
   "metadata": {},
   "outputs": [
    {
     "name": "stdout",
     "output_type": "stream",
     "text": [
      "Successfully connected to Workspace: aml-workshop.\n"
     ]
    }
   ],
   "source": [
    "ws = Workspace.from_config()\n",
    "print(f'Successfully connected to Workspace: {ws.name}.')"
   ]
  },
  {
   "cell_type": "markdown",
   "metadata": {},
   "source": [
    "## Работа с Datastore\n",
    "\n",
    "## Просмотр существующих Datastore\n",
    "\n",
    "Получим список зарегистрированных Хранилищ данных, в т.ч. и Хранилища данных по умолчанию:"
   ]
  },
  {
   "cell_type": "code",
   "execution_count": 4,
   "metadata": {},
   "outputs": [
    {
     "name": "stdout",
     "output_type": "stream",
     "text": [
      "aml_ws_datastore_ui\n",
      "azureml_globaldatasets\n",
      "workspacefilestore\n",
      "workspaceblobstore\n",
      "\n",
      "\n",
      "Default Datastore: aml_ws_datastore_ui\n"
     ]
    }
   ],
   "source": [
    "# Enumerate all datastores, indicating which is the default\n",
    "for ds_name in ws.datastores:\n",
    "    print(ds_name)\n",
    "\n",
    "print('\\n')\n",
    "\n",
    "# Get the default datastore\n",
    "default_ds = ws.get_default_datastore()\n",
    "print(f'Default Datastore: {default_ds.name}')"
   ]
  },
  {
   "cell_type": "markdown",
   "metadata": {},
   "source": [
    "## Создаем новый Datastore\n",
    "\n",
    "Установка имени нового Datastore и указание информации об Azure Storage Account, где будет распологаться новый Datastore:"
   ]
  },
  {
   "cell_type": "code",
   "execution_count": 5,
   "metadata": {},
   "outputs": [],
   "source": [
    "datastore_name = config['core']['datastore_name']\n",
    "\n",
    "# Azure Storage Account Info\n",
    "storage_account_name = config['storage_account_name']\n",
    "storage_container_name = config['storage_container_name']\n",
    "storage_account_key = config['storage_account_key'] # WARN: insert your storage account key here"
   ]
  },
  {
   "cell_type": "code",
   "execution_count": 6,
   "metadata": {},
   "outputs": [
    {
     "name": "stdout",
     "output_type": "stream",
     "text": [
      "aml_ws_datastore_v2 aiclouddata aml-ws-data\n"
     ]
    }
   ],
   "source": [
    "print(datastore_name, storage_account_name, storage_container_name)"
   ]
  },
  {
   "cell_type": "markdown",
   "metadata": {},
   "source": [
    "Создаем Datastore, если он уже не существует:"
   ]
  },
  {
   "cell_type": "code",
   "execution_count": 7,
   "metadata": {},
   "outputs": [
    {
     "name": "stdout",
     "output_type": "stream",
     "text": [
      "Registered blob datastore with name aml_ws_datastore_v2\n"
     ]
    }
   ],
   "source": [
    "try:\n",
    "    new_datastore = Datastore.get(ws, datastore_name)\n",
    "    print(f'Blob Datastore with name {new_datastore.name} was found!')\n",
    "\n",
    "except HttpOperationError:\n",
    "    new_datastore = Datastore.register_azure_blob_container(\n",
    "        workspace=ws,\n",
    "        datastore_name=datastore_name,\n",
    "        account_name=storage_account_name,\n",
    "        container_name=storage_container_name,\n",
    "        account_key=storage_account_key)\n",
    "    print(f'Registered blob datastore with name {new_datastore.name}')"
   ]
  },
  {
   "cell_type": "markdown",
   "metadata": {},
   "source": [
    "Получаем информацию о cозданном Datastore:"
   ]
  },
  {
   "cell_type": "code",
   "execution_count": 8,
   "metadata": {},
   "outputs": [
    {
     "name": "stdout",
     "output_type": "stream",
     "text": [
      "Datastore aml_ws_datastore_v2 based on AzureBlob in storage account named aiclouddata\n"
     ]
    }
   ],
   "source": [
    "print(f'Datastore {new_datastore.name} based on {new_datastore.datastore_type} in storage account named {new_datastore.account_name}')"
   ]
  },
  {
   "cell_type": "markdown",
   "metadata": {},
   "source": [
    "## Загрузка данных из Datastore\n",
    "\n",
    "Делаем созданный Datastore хранилищем по умолчанию (для удобства дальнейшей работы):"
   ]
  },
  {
   "cell_type": "code",
   "execution_count": 9,
   "metadata": {},
   "outputs": [
    {
     "name": "stdout",
     "output_type": "stream",
     "text": [
      "aml_ws_datastore_v2\n"
     ]
    }
   ],
   "source": [
    "ws.set_default_datastore(new_datastore.name)\n",
    "ds = ws.get_default_datastore()\n",
    "\n",
    "print(ds.name)"
   ]
  },
  {
   "cell_type": "markdown",
   "metadata": {},
   "source": [
    "Загрузка данных (внимание: создайте контейтенер, если его до это не существовала):"
   ]
  },
  {
   "cell_type": "code",
   "execution_count": 11,
   "metadata": {},
   "outputs": [
    {
     "name": "stdout",
     "output_type": "stream",
     "text": [
      "Uploading an estimated of 2 files\n",
      "Uploading ../data/diabetes_train.csv\n",
      "Uploaded ../data/diabetes_train.csv, 1 files out of an estimated total of 2\n",
      "Uploading ../data/diabetes_test.csv\n",
      "Uploaded ../data/diabetes_test.csv, 2 files out of an estimated total of 2\n",
      "Uploaded 2 files\n"
     ]
    },
    {
     "data": {
      "text/plain": [
       "$AZUREML_DATAREFERENCE_5163cd174e924d4eacb97298627f683e"
      ]
     },
     "execution_count": 11,
     "metadata": {},
     "output_type": "execute_result"
    }
   ],
   "source": [
    "ds.upload_files(files=['../data/diabetes_train.csv', '../data/diabetes_test.csv'], # Upload the diabetes csv files in /data\n",
    "                       target_path='diabetes-data/', # Put it in a folder path in the datastore\n",
    "                       overwrite=True, # Replace existing files of the same name\n",
    "                       show_progress=True)"
   ]
  },
  {
   "cell_type": "markdown",
   "metadata": {},
   "source": [
    "Зарегистрируем загруженные в Datastore данные, как табличный Dataset:"
   ]
  },
  {
   "cell_type": "code",
   "execution_count": 12,
   "metadata": {},
   "outputs": [
    {
     "data": {
      "text/plain": [
       "{\n",
       "  \"source\": [\n",
       "    \"('aml_ws_datastore_v2', 'diabetes-data/*.csv')\"\n",
       "  ],\n",
       "  \"definition\": [\n",
       "    \"GetDatastoreFiles\",\n",
       "    \"ParseDelimited\",\n",
       "    \"DropColumns\",\n",
       "    \"SetColumnTypes\"\n",
       "  ]\n",
       "}"
      ]
     },
     "execution_count": 12,
     "metadata": {},
     "output_type": "execute_result"
    }
   ],
   "source": [
    "diabetes_ds = Dataset.Tabular.from_delimited_files(path=(ds, 'diabetes-data/*.csv'))\n",
    "diabetes_ds"
   ]
  },
  {
   "cell_type": "markdown",
   "metadata": {},
   "source": [
    "## Зарегистрируем Dataset"
   ]
  },
  {
   "cell_type": "code",
   "execution_count": 13,
   "metadata": {},
   "outputs": [],
   "source": [
    "diabetes_db = diabetes_ds.register(workspace = ws,\n",
    "                                   name = config['core']['dataset_name'],\n",
    "                                   description = 'Diabetes Disease Database',\n",
    "                                   create_new_version = True)"
   ]
  },
  {
   "cell_type": "markdown",
   "metadata": {},
   "source": [
    "Просмотрим список зарегистрированных Наборов данных:"
   ]
  },
  {
   "cell_type": "code",
   "execution_count": 14,
   "metadata": {},
   "outputs": [
    {
     "name": "stdout",
     "output_type": "stream",
     "text": [
      "Available datasets:\n",
      "\tdiabetes-data\n",
      "\tdiabetes-data-ui\n"
     ]
    }
   ],
   "source": [
    "print('Available datasets:')\n",
    "\n",
    "for ds in ws.datasets:\n",
    "    print(f'\\t{ds}')"
   ]
  },
  {
   "cell_type": "markdown",
   "metadata": {},
   "source": [
    "## Просмотр Набора данных\n",
    "\n",
    "Скачаем зарегистрированный набор данных и выведем 10 строк:"
   ]
  },
  {
   "cell_type": "code",
   "execution_count": 15,
   "metadata": {},
   "outputs": [
    {
     "data": {
      "text/html": [
       "<div>\n",
       "<style scoped>\n",
       "    .dataframe tbody tr th:only-of-type {\n",
       "        vertical-align: middle;\n",
       "    }\n",
       "\n",
       "    .dataframe tbody tr th {\n",
       "        vertical-align: top;\n",
       "    }\n",
       "\n",
       "    .dataframe thead th {\n",
       "        text-align: right;\n",
       "    }\n",
       "</style>\n",
       "<table border=\"1\" class=\"dataframe\">\n",
       "  <thead>\n",
       "    <tr style=\"text-align: right;\">\n",
       "      <th></th>\n",
       "      <th>PatientID</th>\n",
       "      <th>Pregnancies</th>\n",
       "      <th>PlasmaGlucose</th>\n",
       "      <th>DiastolicBloodPressure</th>\n",
       "      <th>TricepsThickness</th>\n",
       "      <th>SerumInsulin</th>\n",
       "      <th>BMI</th>\n",
       "      <th>DiabetesPedigree</th>\n",
       "      <th>Age</th>\n",
       "      <th>Diabetic</th>\n",
       "    </tr>\n",
       "  </thead>\n",
       "  <tbody>\n",
       "    <tr>\n",
       "      <th>12624</th>\n",
       "      <td>1675945</td>\n",
       "      <td>1</td>\n",
       "      <td>85</td>\n",
       "      <td>52</td>\n",
       "      <td>9</td>\n",
       "      <td>47</td>\n",
       "      <td>22.034829</td>\n",
       "      <td>0.801100</td>\n",
       "      <td>21</td>\n",
       "      <td>0</td>\n",
       "    </tr>\n",
       "    <tr>\n",
       "      <th>10094</th>\n",
       "      <td>1645997</td>\n",
       "      <td>7</td>\n",
       "      <td>114</td>\n",
       "      <td>83</td>\n",
       "      <td>43</td>\n",
       "      <td>152</td>\n",
       "      <td>42.163435</td>\n",
       "      <td>0.201104</td>\n",
       "      <td>60</td>\n",
       "      <td>1</td>\n",
       "    </tr>\n",
       "    <tr>\n",
       "      <th>751</th>\n",
       "      <td>1169427</td>\n",
       "      <td>8</td>\n",
       "      <td>126</td>\n",
       "      <td>81</td>\n",
       "      <td>30</td>\n",
       "      <td>22</td>\n",
       "      <td>21.838381</td>\n",
       "      <td>0.120111</td>\n",
       "      <td>23</td>\n",
       "      <td>0</td>\n",
       "    </tr>\n",
       "    <tr>\n",
       "      <th>1723</th>\n",
       "      <td>1889762</td>\n",
       "      <td>0</td>\n",
       "      <td>75</td>\n",
       "      <td>58</td>\n",
       "      <td>35</td>\n",
       "      <td>35</td>\n",
       "      <td>34.979228</td>\n",
       "      <td>0.096909</td>\n",
       "      <td>25</td>\n",
       "      <td>0</td>\n",
       "    </tr>\n",
       "    <tr>\n",
       "      <th>8155</th>\n",
       "      <td>1685002</td>\n",
       "      <td>2</td>\n",
       "      <td>101</td>\n",
       "      <td>78</td>\n",
       "      <td>13</td>\n",
       "      <td>180</td>\n",
       "      <td>28.126878</td>\n",
       "      <td>0.088584</td>\n",
       "      <td>30</td>\n",
       "      <td>1</td>\n",
       "    </tr>\n",
       "    <tr>\n",
       "      <th>241</th>\n",
       "      <td>1781692</td>\n",
       "      <td>9</td>\n",
       "      <td>125</td>\n",
       "      <td>99</td>\n",
       "      <td>15</td>\n",
       "      <td>56</td>\n",
       "      <td>29.496814</td>\n",
       "      <td>0.839732</td>\n",
       "      <td>22</td>\n",
       "      <td>1</td>\n",
       "    </tr>\n",
       "    <tr>\n",
       "      <th>5463</th>\n",
       "      <td>1917192</td>\n",
       "      <td>3</td>\n",
       "      <td>107</td>\n",
       "      <td>89</td>\n",
       "      <td>48</td>\n",
       "      <td>172</td>\n",
       "      <td>42.775847</td>\n",
       "      <td>0.268844</td>\n",
       "      <td>22</td>\n",
       "      <td>1</td>\n",
       "    </tr>\n",
       "    <tr>\n",
       "      <th>7706</th>\n",
       "      <td>1312440</td>\n",
       "      <td>6</td>\n",
       "      <td>150</td>\n",
       "      <td>70</td>\n",
       "      <td>34</td>\n",
       "      <td>49</td>\n",
       "      <td>21.110925</td>\n",
       "      <td>0.169408</td>\n",
       "      <td>26</td>\n",
       "      <td>0</td>\n",
       "    </tr>\n",
       "    <tr>\n",
       "      <th>5324</th>\n",
       "      <td>1352538</td>\n",
       "      <td>0</td>\n",
       "      <td>102</td>\n",
       "      <td>73</td>\n",
       "      <td>35</td>\n",
       "      <td>63</td>\n",
       "      <td>21.972607</td>\n",
       "      <td>0.759517</td>\n",
       "      <td>21</td>\n",
       "      <td>0</td>\n",
       "    </tr>\n",
       "    <tr>\n",
       "      <th>5372</th>\n",
       "      <td>1214282</td>\n",
       "      <td>12</td>\n",
       "      <td>97</td>\n",
       "      <td>78</td>\n",
       "      <td>51</td>\n",
       "      <td>256</td>\n",
       "      <td>48.286829</td>\n",
       "      <td>1.216489</td>\n",
       "      <td>47</td>\n",
       "      <td>1</td>\n",
       "    </tr>\n",
       "  </tbody>\n",
       "</table>\n",
       "</div>"
      ],
      "text/plain": [
       "       PatientID  Pregnancies  PlasmaGlucose  DiastolicBloodPressure  \\\n",
       "12624    1675945            1             85                      52   \n",
       "10094    1645997            7            114                      83   \n",
       "751      1169427            8            126                      81   \n",
       "1723     1889762            0             75                      58   \n",
       "8155     1685002            2            101                      78   \n",
       "241      1781692            9            125                      99   \n",
       "5463     1917192            3            107                      89   \n",
       "7706     1312440            6            150                      70   \n",
       "5324     1352538            0            102                      73   \n",
       "5372     1214282           12             97                      78   \n",
       "\n",
       "       TricepsThickness  SerumInsulin        BMI  DiabetesPedigree  Age  \\\n",
       "12624                 9            47  22.034829          0.801100   21   \n",
       "10094                43           152  42.163435          0.201104   60   \n",
       "751                  30            22  21.838381          0.120111   23   \n",
       "1723                 35            35  34.979228          0.096909   25   \n",
       "8155                 13           180  28.126878          0.088584   30   \n",
       "241                  15            56  29.496814          0.839732   22   \n",
       "5463                 48           172  42.775847          0.268844   22   \n",
       "7706                 34            49  21.110925          0.169408   26   \n",
       "5324                 35            63  21.972607          0.759517   21   \n",
       "5372                 51           256  48.286829          1.216489   47   \n",
       "\n",
       "       Diabetic  \n",
       "12624         0  \n",
       "10094         1  \n",
       "751           0  \n",
       "1723          0  \n",
       "8155          1  \n",
       "241           1  \n",
       "5463          1  \n",
       "7706          0  \n",
       "5324          0  \n",
       "5372          1  "
      ]
     },
     "execution_count": 15,
     "metadata": {},
     "output_type": "execute_result"
    }
   ],
   "source": [
    "diabetes_db_from_azure = ws.datasets.get(config['core']['dataset_name'])\n",
    "\n",
    "diabetes_df = diabetes_db_from_azure.to_pandas_dataframe()\n",
    "diabetes_df.sample(10)"
   ]
  }
 ],
 "metadata": {
  "kernelspec": {
   "display_name": "Python 3.6 - AzureML",
   "language": "python",
   "name": "python3-azureml"
  },
  "language_info": {
   "codemirror_mode": {
    "name": "ipython",
    "version": 3
   },
   "file_extension": ".py",
   "mimetype": "text/x-python",
   "name": "python",
   "nbconvert_exporter": "python",
   "pygments_lexer": "ipython3",
   "version": "3.6.9"
  }
 },
 "nbformat": 4,
 "nbformat_minor": 4
}
