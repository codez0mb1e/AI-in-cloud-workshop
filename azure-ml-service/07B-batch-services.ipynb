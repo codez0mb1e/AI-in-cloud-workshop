{
 "cells": [
  {
   "cell_type": "markdown",
   "metadata": {},
   "source": [
    "# Batch Inferencing Service в Azure ML\n",
    "\n",
    "Цель лабораторной работы: \n",
    "\n",
    "- развертывание обученной ML модели, как __web-сервиса, работающего в пакетном режиме__ (Batch Inferencing Service)\n",
    "- подключение и получение прогнозов от web-сервиса, работающего в пакетном режиме.\n",
    "\n",
    "\n",
    "В предыдущих лабораторных работах мы использовали Конвейер машинного обучения для автоматизации обучения, а также web-сервисы Azure ML для вывода в режиме реального времени результатов прогноза модели.\n",
    "В рамках этой лабораторной работы мы объединим эти концепции и создадим Конвейер машинного обучения для пакетного вывода результатов прогнозов модели.\n",
    "\n",
    "Представьте себе, что медицинская клиника проводит измерения пациентов в течение всего дня, сохраняя детали для каждого пациента в отдельном файле. Затем в течение ночи модель машинного обучения обрабатывает собранные данные и делает прогнозы по пациентам, которые подвержены риску развития диабета, чтобы с утра врачи клиники уже имели нужные данные.\n",
    "Давайте реализуем описанную функциональность в данной лабораторной работе.\n",
    "\n",
    "\n",
    "## Подготовка среды\n",
    "\n",
    "Импорт необходимых модулей и проверка версии AzureML SDK:"
   ]
  },
  {
   "cell_type": "code",
   "execution_count": 2,
   "metadata": {},
   "outputs": [
    {
     "name": "stdout",
     "output_type": "stream",
     "text": [
      "SDK version: 1.14.0\n"
     ]
    }
   ],
   "source": [
    "import os\n",
    "import pandas as pd\n",
    "\n",
    "import azureml.core\n",
    "from azureml.core import Workspace, Model, Environment, Experiment, ComputeTarget, Datastore, Dataset\n",
    "from azureml.widgets import RunDetails\n",
    "\n",
    "# Check core SDK version number\n",
    "print(f'SDK version: {azureml.core.VERSION}')"
   ]
  },
  {
   "cell_type": "markdown",
   "metadata": {},
   "source": [
    "Получим конфигурацию эксперимента: "
   ]
  },
  {
   "cell_type": "markdown",
   "metadata": {},
   "source": [
    "Зададим параметры Эксперимента:"
   ]
  },
  {
   "cell_type": "code",
   "execution_count": 4,
   "metadata": {},
   "outputs": [
    {
     "name": "stdout",
     "output_type": "stream",
     "text": [
      "Experiment batch-service-experiment was initialized successfully.\n"
     ]
    },
    {
     "data": {
      "text/plain": [
       "{'experiment_name': 'batch-service-experiment',\n",
       " 'working_subdir': 'batch-service-experiment-lab',\n",
       " 'service_name': 'diabetes-predict-service',\n",
       " 'core': {'expriments_root_dir': 'experiments/',\n",
       "  'datastore_name': 'aml_ws_datastore_v2',\n",
       "  'dataset_name': 'diabetes-data',\n",
       "  'ml_cluster_name': 'aml-ws-cluster',\n",
       "  'ml_model_name': 'diabetes-predict-model'}}"
      ]
     },
     "execution_count": 4,
     "metadata": {},
     "output_type": "execute_result"
    }
   ],
   "source": [
    "%run core.py\n",
    "\n",
    "config = get_experiment_config('lab_7B')\n",
    "init_experiment(config)\n",
    "experiment_dir = get_experiment_dir(config)\n",
    "\n",
    "config"
   ]
  },
  {
   "cell_type": "markdown",
   "metadata": {},
   "source": [
    "## Соединение со Azure ML Workspace\n",
    "\n",
    "Устанавливаем соединение с Рабочей областью в Azure ML:"
   ]
  },
  {
   "cell_type": "code",
   "execution_count": 5,
   "metadata": {},
   "outputs": [
    {
     "name": "stdout",
     "output_type": "stream",
     "text": [
      "Successfully connected to Workspace: aml-workshop.\n"
     ]
    }
   ],
   "source": [
    "ws = Workspace.from_config()\n",
    "print(f'Successfully connected to Workspace: {ws.name}.')"
   ]
  },
  {
   "cell_type": "markdown",
   "metadata": {},
   "source": [
    "## Подготовка к развертыванию сервиса пакетной обработки\n",
    "\n",
    "### Получение ML модели\n",
    "\n",
    "Получим список уже обученных и зарегистрированных в Azure ML моделей машинного обучения:"
   ]
  },
  {
   "cell_type": "code",
   "execution_count": 6,
   "metadata": {},
   "outputs": [
    {
     "name": "stdout",
     "output_type": "stream",
     "text": [
      "diabetes-predict-model v3\n",
      "\t Lab: 5A\n",
      "\n",
      "\n",
      "diabetes-predict-model v2\n",
      "\t Lab: 5B\n",
      "\t 0.8576173518134779: AUC\n",
      "\t 0.787: Accuracy\n",
      "\n",
      "\n",
      "diabetes-predict-model v1\n",
      "\t Lab: 4B\n",
      "\t 0.8576982541474856: AUC\n",
      "\t 0.7876666666666666: Accuracy\n",
      "\n",
      "\n"
     ]
    }
   ],
   "source": [
    "for model in Model.list(ws):\n",
    "    print(f'{model.name} v{model.version}')\n",
    "    \n",
    "    for tag_name in model.tags:\n",
    "        tag = model.tags[tag_name]\n",
    "        print(f'\\t {tag_name}: {tag}')\n",
    "        \n",
    "    for prop_name in model.properties:\n",
    "        prop = model.properties[prop_name]\n",
    "        print(f'\\t {prop}: {prop_name}')\n",
    "        \n",
    "    print('\\n')"
   ]
  },
  {
   "cell_type": "markdown",
   "metadata": {},
   "source": [
    "Выберем ML модель, которую хотим развернуть как web-сервис (по умолчанию берется последняя версия модели):"
   ]
  },
  {
   "cell_type": "code",
   "execution_count": 7,
   "metadata": {},
   "outputs": [
    {
     "name": "stdout",
     "output_type": "stream",
     "text": [
      "diabetes-predict-model v3\n"
     ]
    }
   ],
   "source": [
    "model = ws.models[config['core']['ml_model_name']]\n",
    "print(f'{model.name} v{model.version}')"
   ]
  },
  {
   "cell_type": "markdown",
   "metadata": {},
   "source": [
    "## Скрипт для прогнозов\n",
    "\n",
    "Создадим скрипт, который содержит методы необходимые для:\n",
    "\n",
    "- `init()`: инициализации web-сервиса\n",
    "- `run(mini_batch)`: прогноза на пакетах с новыми данными.\n"
   ]
  },
  {
   "cell_type": "code",
   "execution_count": 8,
   "metadata": {},
   "outputs": [
    {
     "name": "stdout",
     "output_type": "stream",
     "text": [
      "Writing scripts/batch_score_model.py\n"
     ]
    }
   ],
   "source": [
    "%%writefile scripts/batch_score_model.py\n",
    "\n",
    "#%% Imprort dependencies\n",
    "import os\n",
    "import json\n",
    "import joblib\n",
    "import numpy as np\n",
    "\n",
    "from azureml.core.model import Model\n",
    "\n",
    "\n",
    "def init():\n",
    "    global model\n",
    "    # AZUREML_MODEL_DIR is an environment variable created during deployment. Join this path with the filename of the model file.\n",
    "    # It holds the path to the directory that contains the deployed model (./azureml-models/$MODEL_NAME/$VERSION).\n",
    "    model_path = os.path.join(os.getenv('AZUREML_MODEL_DIR'), 'model.pkl')\n",
    "    model = joblib.load(model_path)\n",
    "\n",
    "\n",
    "def run(mini_batch):\n",
    "    # This runs for each batch\n",
    "    results = []\n",
    "\n",
    "    # process each file in the batch\n",
    "    for f in mini_batch:\n",
    "        # Read the comma-delimited data into an array\n",
    "        data = np.genfromtxt(f, delimiter=',')\n",
    "        # Reshape into a 2-dimensional array for prediction (model expects multiple items)\n",
    "        prediction = model.predict(data.reshape(1, -1))\n",
    "        # Append prediction to results\n",
    "        results.append(\"{}: {}\".format(os.path.basename(f), prediction[0]))\n",
    "    \n",
    "    return results\n"
   ]
  },
  {
   "cell_type": "markdown",
   "metadata": {},
   "source": [
    "Скопируем скрипт в директорию эксперимента:"
   ]
  },
  {
   "cell_type": "code",
   "execution_count": 9,
   "metadata": {},
   "outputs": [
    {
     "name": "stdout",
     "output_type": "stream",
     "text": [
      "batch_score_model.py\n"
     ]
    }
   ],
   "source": [
    "!cp scripts/batch_score_model.py $experiment_dir\n",
    "!ls $experiment_dir"
   ]
  },
  {
   "cell_type": "markdown",
   "metadata": {},
   "source": [
    "### Среда для запуска сервиса пакетной обработки\n",
    "\n",
    "Создадим Среду с необходимыми зависимостями:"
   ]
  },
  {
   "cell_type": "code",
   "execution_count": 10,
   "metadata": {},
   "outputs": [
    {
     "name": "stdout",
     "output_type": "stream",
     "text": [
      "Environment is ready.\n"
     ]
    }
   ],
   "source": [
    "from azureml.core.runconfig import DEFAULT_CPU_IMAGE\n",
    "from azureml.core.runconfig import CondaDependencies\n",
    "\n",
    "# Add dependencies required by the model\n",
    "# - scikit-learn you need for trained model\n",
    "# - azureml-core and azureml-dataprep[fuse] ypu need to parallel pipeline steps\n",
    "dependencies = CondaDependencies.create(pip_packages=['scikit-learn','azureml-core','azureml-defaults','azureml-dataprep[fuse]'])\n",
    "\n",
    "batch_env = Environment(name='batch_service_env')\n",
    "batch_env.python.conda_dependencies = dependencies\n",
    "batch_env.docker.enabled = True\n",
    "batch_env.docker.base_image = DEFAULT_CPU_IMAGE\n",
    "\n",
    "print('Environment is ready.')"
   ]
  },
  {
   "cell_type": "markdown",
   "metadata": {},
   "source": [
    "### ML кластер для запуска сервиса пакетной обработки\n",
    "\n",
    "Используем [ранее созданный](05B-compute-targets.ipynb) ML кластер для нашей задачи. Для этого получим список созданных Целевых объектов вычислений, а затем выберем нужный:"
   ]
  },
  {
   "cell_type": "code",
   "execution_count": 13,
   "metadata": {},
   "outputs": [
    {
     "name": "stdout",
     "output_type": "stream",
     "text": [
      "aml-compute-vm\n",
      "aml-designer-cc\n",
      "aml-ws-cluster\n"
     ]
    }
   ],
   "source": [
    "for ct in ComputeTarget.list(ws):\n",
    "    print(ct.name)"
   ]
  },
  {
   "cell_type": "code",
   "execution_count": 12,
   "metadata": {},
   "outputs": [],
   "source": [
    "cluster = ComputeTarget(workspace=ws, name=config['core']['ml_cluster_name'])"
   ]
  },
  {
   "cell_type": "markdown",
   "metadata": {},
   "source": [
    "### Данные \n",
    "\n",
    "Сгенерируем множество пакетов из [зарегистрованного в Azure ML ранее](02B-datastores-and-datasets.ipynb) Набора данных. Для этого получим список зарегистрированных Наборов данных, а затем выберем нужный:"
   ]
  },
  {
   "cell_type": "code",
   "execution_count": 18,
   "metadata": {},
   "outputs": [
    {
     "name": "stdout",
     "output_type": "stream",
     "text": [
      "MD-aml-designer-pipeline-Tune_Model_Hyperparameters-Trained_best_model-6dc9470c\n",
      "diabetes-data\n",
      "diabetes-data-ui\n"
     ]
    }
   ],
   "source": [
    "for ds in Dataset.get_all(ws):\n",
    "    print(ds)"
   ]
  },
  {
   "cell_type": "code",
   "execution_count": 20,
   "metadata": {},
   "outputs": [
    {
     "name": "stdout",
     "output_type": "stream",
     "text": [
      "Used dataset diabetes-data: Diabetes Disease Database\n"
     ]
    }
   ],
   "source": [
    "data_ds = ws.datasets.get(config['core']['dataset_name'])\n",
    "print(f'Used dataset {data_ds.name}: {data_ds.description}')"
   ]
  },
  {
   "cell_type": "markdown",
   "metadata": {},
   "source": [
    "Сгенерируем из полученного на предыдущем шаге набора данных множество пакетов данных:"
   ]
  },
  {
   "cell_type": "code",
   "execution_count": 21,
   "metadata": {},
   "outputs": [
    {
     "name": "stdout",
     "output_type": "stream",
     "text": [
      "Saving files..\n",
      "All files were saved.\n"
     ]
    }
   ],
   "source": [
    "#%% Generate data sample\n",
    "data_df = data_ds.to_pandas_dataframe()\n",
    "data_col = list(set(data_df.columns) - set(['PatientID', 'Diabetic'])) # remove not features (PatientID) and label (Diabetic) fields\n",
    "\n",
    "n_batches = 128 # Set number of batches\n",
    "data_sample = data_df[data_col].sample(n=n_batches).values\n",
    "\n",
    "\n",
    "#%% Create a input dir for store batches\n",
    "batch_dir = f'{experiment_dir}/input'\n",
    "os.makedirs(batch_dir, exist_ok=True)\n",
    "\n",
    "\n",
    "#%% Save each sample as a separate file\n",
    "print('Saving files..')\n",
    "\n",
    "for i in range(n_batches):\n",
    "    path = os.path.join(batch_dir, str(i+1) + '.csv')\n",
    "    data_sample[i].tofile(path, sep=\",\")\n",
    "        \n",
    "print('All files were saved.')"
   ]
  },
  {
   "cell_type": "code",
   "execution_count": 22,
   "metadata": {},
   "outputs": [
    {
     "name": "stdout",
     "output_type": "stream",
     "text": [
      "Uploading files to datastore...\n",
      "Uploading an estimated of 128 files\n",
      "Uploading experiments/batch-service-experiment-lab/input/1.csv\n",
      "Uploaded experiments/batch-service-experiment-lab/input/1.csv, 1 files out of an estimated total of 128\n",
      "Uploading experiments/batch-service-experiment-lab/input/10.csv\n",
      "Uploaded experiments/batch-service-experiment-lab/input/10.csv, 2 files out of an estimated total of 128\n",
      "Uploading experiments/batch-service-experiment-lab/input/100.csv\n",
      "Uploaded experiments/batch-service-experiment-lab/input/100.csv, 3 files out of an estimated total of 128\n",
      "Uploading experiments/batch-service-experiment-lab/input/101.csv\n",
      "Uploaded experiments/batch-service-experiment-lab/input/101.csv, 4 files out of an estimated total of 128\n",
      "Uploading experiments/batch-service-experiment-lab/input/102.csv\n",
      "Uploaded experiments/batch-service-experiment-lab/input/102.csv, 5 files out of an estimated total of 128\n",
      "Uploading experiments/batch-service-experiment-lab/input/103.csv\n",
      "Uploaded experiments/batch-service-experiment-lab/input/103.csv, 6 files out of an estimated total of 128\n",
      "Uploading experiments/batch-service-experiment-lab/input/104.csv\n",
      "Uploaded experiments/batch-service-experiment-lab/input/104.csv, 7 files out of an estimated total of 128\n",
      "Uploading experiments/batch-service-experiment-lab/input/105.csv\n",
      "Uploaded experiments/batch-service-experiment-lab/input/105.csv, 8 files out of an estimated total of 128\n",
      "Uploading experiments/batch-service-experiment-lab/input/106.csv\n",
      "Uploaded experiments/batch-service-experiment-lab/input/106.csv, 9 files out of an estimated total of 128\n",
      "Uploading experiments/batch-service-experiment-lab/input/107.csv\n",
      "Uploaded experiments/batch-service-experiment-lab/input/107.csv, 10 files out of an estimated total of 128\n",
      "Uploading experiments/batch-service-experiment-lab/input/108.csv\n",
      "Uploaded experiments/batch-service-experiment-lab/input/108.csv, 11 files out of an estimated total of 128\n",
      "Uploading experiments/batch-service-experiment-lab/input/109.csv\n",
      "Uploaded experiments/batch-service-experiment-lab/input/109.csv, 12 files out of an estimated total of 128\n",
      "Uploading experiments/batch-service-experiment-lab/input/11.csv\n",
      "Uploaded experiments/batch-service-experiment-lab/input/11.csv, 13 files out of an estimated total of 128\n",
      "Uploading experiments/batch-service-experiment-lab/input/110.csv\n",
      "Uploaded experiments/batch-service-experiment-lab/input/110.csv, 14 files out of an estimated total of 128\n",
      "Uploading experiments/batch-service-experiment-lab/input/111.csv\n",
      "Uploaded experiments/batch-service-experiment-lab/input/111.csv, 15 files out of an estimated total of 128\n",
      "Uploading experiments/batch-service-experiment-lab/input/112.csv\n",
      "Uploaded experiments/batch-service-experiment-lab/input/112.csv, 16 files out of an estimated total of 128\n",
      "Uploading experiments/batch-service-experiment-lab/input/113.csv\n",
      "Uploaded experiments/batch-service-experiment-lab/input/113.csv, 17 files out of an estimated total of 128\n",
      "Uploading experiments/batch-service-experiment-lab/input/114.csv\n",
      "Uploaded experiments/batch-service-experiment-lab/input/114.csv, 18 files out of an estimated total of 128\n",
      "Uploading experiments/batch-service-experiment-lab/input/115.csv\n",
      "Uploaded experiments/batch-service-experiment-lab/input/115.csv, 19 files out of an estimated total of 128\n",
      "Uploading experiments/batch-service-experiment-lab/input/116.csv\n",
      "Uploaded experiments/batch-service-experiment-lab/input/116.csv, 20 files out of an estimated total of 128\n",
      "Uploading experiments/batch-service-experiment-lab/input/117.csv\n",
      "Uploaded experiments/batch-service-experiment-lab/input/117.csv, 21 files out of an estimated total of 128\n",
      "Uploading experiments/batch-service-experiment-lab/input/118.csv\n",
      "Uploaded experiments/batch-service-experiment-lab/input/118.csv, 22 files out of an estimated total of 128\n",
      "Uploading experiments/batch-service-experiment-lab/input/121.csv\n",
      "Uploaded experiments/batch-service-experiment-lab/input/121.csv, 23 files out of an estimated total of 128\n",
      "Uploading experiments/batch-service-experiment-lab/input/123.csv\n",
      "Uploaded experiments/batch-service-experiment-lab/input/123.csv, 24 files out of an estimated total of 128\n",
      "Uploading experiments/batch-service-experiment-lab/input/124.csv\n",
      "Uploaded experiments/batch-service-experiment-lab/input/124.csv, 25 files out of an estimated total of 128\n",
      "Uploading experiments/batch-service-experiment-lab/input/125.csv\n",
      "Uploaded experiments/batch-service-experiment-lab/input/125.csv, 26 files out of an estimated total of 128\n",
      "Uploading experiments/batch-service-experiment-lab/input/126.csv\n",
      "Uploaded experiments/batch-service-experiment-lab/input/126.csv, 27 files out of an estimated total of 128\n",
      "Uploading experiments/batch-service-experiment-lab/input/119.csv\n",
      "Uploaded experiments/batch-service-experiment-lab/input/119.csv, 28 files out of an estimated total of 128\n",
      "Uploading experiments/batch-service-experiment-lab/input/12.csv\n",
      "Uploaded experiments/batch-service-experiment-lab/input/12.csv, 29 files out of an estimated total of 128\n",
      "Uploading experiments/batch-service-experiment-lab/input/120.csv\n",
      "Uploaded experiments/batch-service-experiment-lab/input/120.csv, 30 files out of an estimated total of 128\n",
      "Uploading experiments/batch-service-experiment-lab/input/122.csv\n",
      "Uploaded experiments/batch-service-experiment-lab/input/122.csv, 31 files out of an estimated total of 128\n",
      "Uploading experiments/batch-service-experiment-lab/input/127.csv\n",
      "Uploaded experiments/batch-service-experiment-lab/input/127.csv, 32 files out of an estimated total of 128\n",
      "Uploading experiments/batch-service-experiment-lab/input/128.csv\n",
      "Uploaded experiments/batch-service-experiment-lab/input/128.csv, 33 files out of an estimated total of 128\n",
      "Uploading experiments/batch-service-experiment-lab/input/13.csv\n",
      "Uploaded experiments/batch-service-experiment-lab/input/13.csv, 34 files out of an estimated total of 128\n",
      "Uploading experiments/batch-service-experiment-lab/input/14.csv\n",
      "Uploaded experiments/batch-service-experiment-lab/input/14.csv, 35 files out of an estimated total of 128\n",
      "Uploading experiments/batch-service-experiment-lab/input/15.csv\n",
      "Uploaded experiments/batch-service-experiment-lab/input/15.csv, 36 files out of an estimated total of 128\n",
      "Uploading experiments/batch-service-experiment-lab/input/16.csv\n",
      "Uploaded experiments/batch-service-experiment-lab/input/16.csv, 37 files out of an estimated total of 128\n",
      "Uploading experiments/batch-service-experiment-lab/input/17.csv\n",
      "Uploaded experiments/batch-service-experiment-lab/input/17.csv, 38 files out of an estimated total of 128\n",
      "Uploading experiments/batch-service-experiment-lab/input/18.csv\n",
      "Uploaded experiments/batch-service-experiment-lab/input/18.csv, 39 files out of an estimated total of 128\n",
      "Uploading experiments/batch-service-experiment-lab/input/19.csv\n",
      "Uploaded experiments/batch-service-experiment-lab/input/19.csv, 40 files out of an estimated total of 128\n",
      "Uploading experiments/batch-service-experiment-lab/input/2.csv\n",
      "Uploaded experiments/batch-service-experiment-lab/input/2.csv, 41 files out of an estimated total of 128\n",
      "Uploading experiments/batch-service-experiment-lab/input/20.csv\n",
      "Uploaded experiments/batch-service-experiment-lab/input/20.csv, 42 files out of an estimated total of 128\n",
      "Uploading experiments/batch-service-experiment-lab/input/21.csv\n",
      "Uploaded experiments/batch-service-experiment-lab/input/21.csv, 43 files out of an estimated total of 128\n",
      "Uploading experiments/batch-service-experiment-lab/input/22.csv\n",
      "Uploaded experiments/batch-service-experiment-lab/input/22.csv, 44 files out of an estimated total of 128\n",
      "Uploading experiments/batch-service-experiment-lab/input/23.csv\n",
      "Uploaded experiments/batch-service-experiment-lab/input/23.csv, 45 files out of an estimated total of 128\n",
      "Uploading experiments/batch-service-experiment-lab/input/24.csv\n",
      "Uploaded experiments/batch-service-experiment-lab/input/24.csv, 46 files out of an estimated total of 128\n",
      "Uploading experiments/batch-service-experiment-lab/input/25.csv\n",
      "Uploaded experiments/batch-service-experiment-lab/input/25.csv, 47 files out of an estimated total of 128\n",
      "Uploading experiments/batch-service-experiment-lab/input/26.csv\n",
      "Uploaded experiments/batch-service-experiment-lab/input/26.csv, 48 files out of an estimated total of 128\n",
      "Uploading experiments/batch-service-experiment-lab/input/27.csv\n",
      "Uploaded experiments/batch-service-experiment-lab/input/27.csv, 49 files out of an estimated total of 128\n",
      "Uploading experiments/batch-service-experiment-lab/input/28.csv\n",
      "Uploaded experiments/batch-service-experiment-lab/input/28.csv, 50 files out of an estimated total of 128\n",
      "Uploading experiments/batch-service-experiment-lab/input/29.csv\n",
      "Uploaded experiments/batch-service-experiment-lab/input/29.csv, 51 files out of an estimated total of 128\n",
      "Uploading experiments/batch-service-experiment-lab/input/3.csv\n",
      "Uploaded experiments/batch-service-experiment-lab/input/3.csv, 52 files out of an estimated total of 128\n",
      "Uploading experiments/batch-service-experiment-lab/input/30.csv\n",
      "Uploaded experiments/batch-service-experiment-lab/input/30.csv, 53 files out of an estimated total of 128\n",
      "Uploading experiments/batch-service-experiment-lab/input/31.csv\n",
      "Uploaded experiments/batch-service-experiment-lab/input/31.csv, 54 files out of an estimated total of 128\n",
      "Uploading experiments/batch-service-experiment-lab/input/32.csv\n",
      "Uploaded experiments/batch-service-experiment-lab/input/32.csv, 55 files out of an estimated total of 128\n",
      "Uploading experiments/batch-service-experiment-lab/input/33.csv\n",
      "Uploaded experiments/batch-service-experiment-lab/input/33.csv, 56 files out of an estimated total of 128\n",
      "Uploading experiments/batch-service-experiment-lab/input/34.csv\n",
      "Uploaded experiments/batch-service-experiment-lab/input/34.csv, 57 files out of an estimated total of 128\n",
      "Uploading experiments/batch-service-experiment-lab/input/35.csv\n",
      "Uploaded experiments/batch-service-experiment-lab/input/35.csv, 58 files out of an estimated total of 128\n",
      "Uploading experiments/batch-service-experiment-lab/input/36.csv\n",
      "Uploaded experiments/batch-service-experiment-lab/input/36.csv, 59 files out of an estimated total of 128\n",
      "Uploading experiments/batch-service-experiment-lab/input/37.csv\n",
      "Uploaded experiments/batch-service-experiment-lab/input/37.csv, 60 files out of an estimated total of 128\n",
      "Uploading experiments/batch-service-experiment-lab/input/38.csv\n",
      "Uploaded experiments/batch-service-experiment-lab/input/38.csv, 61 files out of an estimated total of 128\n",
      "Uploading experiments/batch-service-experiment-lab/input/39.csv\n",
      "Uploaded experiments/batch-service-experiment-lab/input/39.csv, 62 files out of an estimated total of 128\n",
      "Uploading experiments/batch-service-experiment-lab/input/4.csv\n",
      "Uploaded experiments/batch-service-experiment-lab/input/4.csv, 63 files out of an estimated total of 128\n",
      "Uploading experiments/batch-service-experiment-lab/input/40.csv\n",
      "Uploaded experiments/batch-service-experiment-lab/input/40.csv, 64 files out of an estimated total of 128\n",
      "Uploading experiments/batch-service-experiment-lab/input/41.csv\n",
      "Uploaded experiments/batch-service-experiment-lab/input/41.csv, 65 files out of an estimated total of 128\n",
      "Uploading experiments/batch-service-experiment-lab/input/42.csv\n",
      "Uploaded experiments/batch-service-experiment-lab/input/42.csv, 66 files out of an estimated total of 128\n",
      "Uploading experiments/batch-service-experiment-lab/input/43.csv\n",
      "Uploaded experiments/batch-service-experiment-lab/input/43.csv, 67 files out of an estimated total of 128\n",
      "Uploading experiments/batch-service-experiment-lab/input/44.csv\n",
      "Uploaded experiments/batch-service-experiment-lab/input/44.csv, 68 files out of an estimated total of 128\n",
      "Uploading experiments/batch-service-experiment-lab/input/45.csv\n",
      "Uploaded experiments/batch-service-experiment-lab/input/45.csv, 69 files out of an estimated total of 128\n",
      "Uploading experiments/batch-service-experiment-lab/input/46.csv\n",
      "Uploaded experiments/batch-service-experiment-lab/input/46.csv, 70 files out of an estimated total of 128\n",
      "Uploading experiments/batch-service-experiment-lab/input/47.csv\n",
      "Uploaded experiments/batch-service-experiment-lab/input/47.csv, 71 files out of an estimated total of 128\n",
      "Uploading experiments/batch-service-experiment-lab/input/48.csv\n",
      "Uploaded experiments/batch-service-experiment-lab/input/48.csv, 72 files out of an estimated total of 128\n",
      "Uploading experiments/batch-service-experiment-lab/input/49.csv\n",
      "Uploaded experiments/batch-service-experiment-lab/input/49.csv, 73 files out of an estimated total of 128\n",
      "Uploading experiments/batch-service-experiment-lab/input/5.csv\n",
      "Uploaded experiments/batch-service-experiment-lab/input/5.csv, 74 files out of an estimated total of 128\n",
      "Uploading experiments/batch-service-experiment-lab/input/50.csv\n",
      "Uploaded experiments/batch-service-experiment-lab/input/50.csv, 75 files out of an estimated total of 128\n",
      "Uploading experiments/batch-service-experiment-lab/input/51.csv\n",
      "Uploaded experiments/batch-service-experiment-lab/input/51.csv, 76 files out of an estimated total of 128\n",
      "Uploading experiments/batch-service-experiment-lab/input/54.csv\n",
      "Uploaded experiments/batch-service-experiment-lab/input/54.csv, 77 files out of an estimated total of 128\n",
      "Uploading experiments/batch-service-experiment-lab/input/55.csv\n",
      "Uploaded experiments/batch-service-experiment-lab/input/55.csv, 78 files out of an estimated total of 128\n",
      "Uploading experiments/batch-service-experiment-lab/input/62.csv\n",
      "Uploaded experiments/batch-service-experiment-lab/input/62.csv, 79 files out of an estimated total of 128\n",
      "Uploading experiments/batch-service-experiment-lab/input/63.csv\n",
      "Uploaded experiments/batch-service-experiment-lab/input/63.csv, 80 files out of an estimated total of 128\n",
      "Uploading experiments/batch-service-experiment-lab/input/66.csv\n",
      "Uploaded experiments/batch-service-experiment-lab/input/66.csv, 81 files out of an estimated total of 128\n",
      "Uploading experiments/batch-service-experiment-lab/input/69.csv\n",
      "Uploaded experiments/batch-service-experiment-lab/input/69.csv, 82 files out of an estimated total of 128\n",
      "Uploading experiments/batch-service-experiment-lab/input/52.csv\n",
      "Uploaded experiments/batch-service-experiment-lab/input/52.csv, 83 files out of an estimated total of 128\n",
      "Uploading experiments/batch-service-experiment-lab/input/53.csv\n",
      "Uploaded experiments/batch-service-experiment-lab/input/53.csv, 84 files out of an estimated total of 128\n",
      "Uploading experiments/batch-service-experiment-lab/input/56.csv\n",
      "Uploaded experiments/batch-service-experiment-lab/input/56.csv, 85 files out of an estimated total of 128\n",
      "Uploading experiments/batch-service-experiment-lab/input/57.csv\n",
      "Uploaded experiments/batch-service-experiment-lab/input/57.csv, 86 files out of an estimated total of 128\n",
      "Uploading experiments/batch-service-experiment-lab/input/58.csv\n",
      "Uploaded experiments/batch-service-experiment-lab/input/58.csv, 87 files out of an estimated total of 128\n",
      "Uploading experiments/batch-service-experiment-lab/input/59.csv\n",
      "Uploaded experiments/batch-service-experiment-lab/input/59.csv, 88 files out of an estimated total of 128\n",
      "Uploading experiments/batch-service-experiment-lab/input/6.csv\n",
      "Uploaded experiments/batch-service-experiment-lab/input/6.csv, 89 files out of an estimated total of 128\n",
      "Uploading experiments/batch-service-experiment-lab/input/60.csv\n",
      "Uploaded experiments/batch-service-experiment-lab/input/60.csv, 90 files out of an estimated total of 128\n",
      "Uploading experiments/batch-service-experiment-lab/input/61.csv\n",
      "Uploaded experiments/batch-service-experiment-lab/input/61.csv, 91 files out of an estimated total of 128\n",
      "Uploading experiments/batch-service-experiment-lab/input/64.csv\n",
      "Uploaded experiments/batch-service-experiment-lab/input/64.csv, 92 files out of an estimated total of 128\n",
      "Uploading experiments/batch-service-experiment-lab/input/65.csv\n",
      "Uploaded experiments/batch-service-experiment-lab/input/65.csv, 93 files out of an estimated total of 128\n",
      "Uploading experiments/batch-service-experiment-lab/input/67.csv\n",
      "Uploaded experiments/batch-service-experiment-lab/input/67.csv, 94 files out of an estimated total of 128\n",
      "Uploading experiments/batch-service-experiment-lab/input/68.csv\n",
      "Uploaded experiments/batch-service-experiment-lab/input/68.csv, 95 files out of an estimated total of 128\n",
      "Uploading experiments/batch-service-experiment-lab/input/7.csv\n",
      "Uploaded experiments/batch-service-experiment-lab/input/7.csv, 96 files out of an estimated total of 128\n",
      "Uploading experiments/batch-service-experiment-lab/input/70.csv\n",
      "Uploaded experiments/batch-service-experiment-lab/input/70.csv, 97 files out of an estimated total of 128\n",
      "Uploading experiments/batch-service-experiment-lab/input/71.csv\n",
      "Uploaded experiments/batch-service-experiment-lab/input/71.csv, 98 files out of an estimated total of 128\n",
      "Uploading experiments/batch-service-experiment-lab/input/72.csv\n",
      "Uploaded experiments/batch-service-experiment-lab/input/72.csv, 99 files out of an estimated total of 128\n",
      "Uploading experiments/batch-service-experiment-lab/input/73.csv\n",
      "Uploaded experiments/batch-service-experiment-lab/input/73.csv, 100 files out of an estimated total of 128\n",
      "Uploading experiments/batch-service-experiment-lab/input/74.csv\n",
      "Uploaded experiments/batch-service-experiment-lab/input/74.csv, 101 files out of an estimated total of 128\n",
      "Uploading experiments/batch-service-experiment-lab/input/75.csv\n",
      "Uploaded experiments/batch-service-experiment-lab/input/75.csv, 102 files out of an estimated total of 128\n",
      "Uploading experiments/batch-service-experiment-lab/input/76.csv\n",
      "Uploaded experiments/batch-service-experiment-lab/input/76.csv, 103 files out of an estimated total of 128\n",
      "Uploading experiments/batch-service-experiment-lab/input/77.csv\n",
      "Uploaded experiments/batch-service-experiment-lab/input/77.csv, 104 files out of an estimated total of 128\n",
      "Uploading experiments/batch-service-experiment-lab/input/78.csv\n",
      "Uploaded experiments/batch-service-experiment-lab/input/78.csv, 105 files out of an estimated total of 128\n",
      "Uploading experiments/batch-service-experiment-lab/input/79.csv\n",
      "Uploaded experiments/batch-service-experiment-lab/input/79.csv, 106 files out of an estimated total of 128\n",
      "Uploading experiments/batch-service-experiment-lab/input/8.csv\n",
      "Uploaded experiments/batch-service-experiment-lab/input/8.csv, 107 files out of an estimated total of 128\n",
      "Uploading experiments/batch-service-experiment-lab/input/80.csv\n",
      "Uploaded experiments/batch-service-experiment-lab/input/80.csv, 108 files out of an estimated total of 128\n",
      "Uploading experiments/batch-service-experiment-lab/input/81.csv\n",
      "Uploaded experiments/batch-service-experiment-lab/input/81.csv, 109 files out of an estimated total of 128\n",
      "Uploading experiments/batch-service-experiment-lab/input/82.csv\n",
      "Uploaded experiments/batch-service-experiment-lab/input/82.csv, 110 files out of an estimated total of 128\n",
      "Uploading experiments/batch-service-experiment-lab/input/83.csv\n",
      "Uploaded experiments/batch-service-experiment-lab/input/83.csv, 111 files out of an estimated total of 128\n",
      "Uploading experiments/batch-service-experiment-lab/input/84.csv\n",
      "Uploaded experiments/batch-service-experiment-lab/input/84.csv, 112 files out of an estimated total of 128\n",
      "Uploading experiments/batch-service-experiment-lab/input/85.csv\n",
      "Uploaded experiments/batch-service-experiment-lab/input/85.csv, 113 files out of an estimated total of 128\n",
      "Uploading experiments/batch-service-experiment-lab/input/86.csv\n",
      "Uploaded experiments/batch-service-experiment-lab/input/86.csv, 114 files out of an estimated total of 128\n",
      "Uploading experiments/batch-service-experiment-lab/input/87.csv\n",
      "Uploaded experiments/batch-service-experiment-lab/input/87.csv, 115 files out of an estimated total of 128\n",
      "Uploading experiments/batch-service-experiment-lab/input/88.csv\n",
      "Uploaded experiments/batch-service-experiment-lab/input/88.csv, 116 files out of an estimated total of 128\n",
      "Uploading experiments/batch-service-experiment-lab/input/89.csv\n",
      "Uploaded experiments/batch-service-experiment-lab/input/89.csv, 117 files out of an estimated total of 128\n",
      "Uploading experiments/batch-service-experiment-lab/input/9.csv\n",
      "Uploaded experiments/batch-service-experiment-lab/input/9.csv, 118 files out of an estimated total of 128\n",
      "Uploading experiments/batch-service-experiment-lab/input/90.csv\n",
      "Uploaded experiments/batch-service-experiment-lab/input/90.csv, 119 files out of an estimated total of 128\n",
      "Uploading experiments/batch-service-experiment-lab/input/91.csv\n",
      "Uploaded experiments/batch-service-experiment-lab/input/91.csv, 120 files out of an estimated total of 128\n",
      "Uploading experiments/batch-service-experiment-lab/input/92.csv\n",
      "Uploaded experiments/batch-service-experiment-lab/input/92.csv, 121 files out of an estimated total of 128\n",
      "Uploading experiments/batch-service-experiment-lab/input/93.csv\n",
      "Uploaded experiments/batch-service-experiment-lab/input/93.csv, 122 files out of an estimated total of 128\n",
      "Uploading experiments/batch-service-experiment-lab/input/94.csv\n",
      "Uploaded experiments/batch-service-experiment-lab/input/94.csv, 123 files out of an estimated total of 128\n",
      "Uploading experiments/batch-service-experiment-lab/input/95.csv\n",
      "Uploaded experiments/batch-service-experiment-lab/input/95.csv, 124 files out of an estimated total of 128\n",
      "Uploading experiments/batch-service-experiment-lab/input/96.csv\n",
      "Uploaded experiments/batch-service-experiment-lab/input/96.csv, 125 files out of an estimated total of 128\n",
      "Uploading experiments/batch-service-experiment-lab/input/97.csv\n",
      "Uploaded experiments/batch-service-experiment-lab/input/97.csv, 126 files out of an estimated total of 128\n",
      "Uploading experiments/batch-service-experiment-lab/input/98.csv\n",
      "Uploaded experiments/batch-service-experiment-lab/input/98.csv, 127 files out of an estimated total of 128\n",
      "Uploading experiments/batch-service-experiment-lab/input/99.csv\n",
      "Uploaded experiments/batch-service-experiment-lab/input/99.csv, 128 files out of an estimated total of 128\n",
      "Uploaded 128 files\n",
      "All files were uploaded.\n"
     ]
    }
   ],
   "source": [
    "#%% Upload the files to the default datastore\n",
    "print('Uploading files to datastore...')\n",
    "\n",
    "default_ds = ws.get_default_datastore()\n",
    "default_ds.upload(src_dir=batch_dir, target_path='diabetes-batch-data', overwrite=True, show_progress=True)\n",
    "\n",
    "\n",
    "#%% Register a dataset for the input data\n",
    "batch_data_set = Dataset.File.from_files(path=(default_ds, 'diabetes-batch-data/'), validate=False)\n",
    "try:\n",
    "    batch_data_set = batch_data_set.register(workspace=ws, \n",
    "                                             name='diabetes-batch-data',\n",
    "                                             description='Diabetes data for Batch Inferencing',\n",
    "                                             create_new_version=True)\n",
    "except Exception as ex:\n",
    "    print(ex)\n",
    "\n",
    "print('All files were uploaded.')"
   ]
  },
  {
   "cell_type": "markdown",
   "metadata": {},
   "source": [
    "## Создание и запуск ML Конвейера\n",
    "\n",
    "Чтобы использовать ML Конвейер для запуска сценария пакетного прогнозирования, необходимо использовать `ParallelRunStep`, который позволяет обрабатывать пакетные данные параллельно и записывать результаты в одном выходном файле с именем `parallel_run_step.txt`."
   ]
  },
  {
   "cell_type": "code",
   "execution_count": 24,
   "metadata": {},
   "outputs": [
    {
     "name": "stdout",
     "output_type": "stream",
     "text": [
      "Steps were defined.\n"
     ]
    }
   ],
   "source": [
    "from azureml.pipeline.core import Pipeline\n",
    "from azureml.pipeline.core import Pipeline, PipelineData\n",
    "from azureml.pipeline.steps import ParallelRunConfig, ParallelRunStep\n",
    "\n",
    "\n",
    "pipeline_output_dir = 'diabetes/outputs'\n",
    "output_dir = PipelineData(name='batch_inferences_pipe', \n",
    "                          datastore=ws.get_default_datastore(), \n",
    "                          output_path_on_compute=pipeline_output_dir)\n",
    "\n",
    "\n",
    "run_config = ParallelRunConfig(\n",
    "    source_directory=experiment_dir,\n",
    "    entry_script='batch_score_model.py',\n",
    "    mini_batch_size='8',\n",
    "    error_threshold=2,\n",
    "    output_action='append_row',\n",
    "    environment=batch_env,\n",
    "    compute_target=cluster,\n",
    "    node_count=2\n",
    ")\n",
    "\n",
    "batch_score_step = ParallelRunStep(\n",
    "    name='batch-score',\n",
    "    parallel_run_config=run_config,\n",
    "    inputs=[batch_data_set.as_named_input('data')],\n",
    "    output=output_dir,\n",
    "    arguments=[],\n",
    "    allow_reuse=True\n",
    ")\n",
    "\n",
    "print('Steps were defined.')\n",
    "\n",
    "pipeline = Pipeline(workspace=ws, steps=[batch_score_step])"
   ]
  },
  {
   "cell_type": "markdown",
   "metadata": {},
   "source": [
    "Запустим Конвейер:"
   ]
  },
  {
   "cell_type": "code",
   "execution_count": null,
   "metadata": {},
   "outputs": [],
   "source": [
    "pipeline_run = Experiment(ws, config['experiment_name']).submit(pipeline)\n",
    "pipeline_run.wait_for_completion(show_output=True)"
   ]
  },
  {
   "attachments": {
    "9c556521-db02-4c0e-af91-feda5823b868.png": {
     "image/png": "[encoded data removed]"
    }
   },
   "cell_type": "markdown",
   "metadata": {},
   "source": [
    "Просмотрите детали выполнения Конвейера на портале Azure ML:\n",
    "\n",
    "![image.png](attachment:9c556521-db02-4c0e-af91-feda5823b868.png)"
   ]
  },
  {
   "cell_type": "markdown",
   "metadata": {},
   "source": [
    "## Публикация ML Конвейера как REST-сервиса"
   ]
  },
  {
   "cell_type": "code",
   "execution_count": null,
   "metadata": {},
   "outputs": [],
   "source": [
    "pipeline = pipeline_run.publish_pipeline(\n",
    "    name=config['service_name'], \n",
    "    description='Batch Scoring Pipeline of Diabetes Data', version='1.0'\n",
    ")\n",
    "\n",
    "pipeline"
   ]
  },
  {
   "cell_type": "markdown",
   "metadata": {},
   "source": [
    "Получим URI Конечной точки созданного REST-сервиса:"
   ]
  },
  {
   "cell_type": "code",
   "execution_count": null,
   "metadata": {},
   "outputs": [],
   "source": [
    "endpoint = pipeline.endpoint\n",
    "print(endpoint)"
   ]
  },
  {
   "cell_type": "markdown",
   "metadata": {},
   "source": [
    "## Подключение и взаимодействие с REST-сервисом\n",
    "\n",
    "Сформируем авторизационный заголовок для отправки запроса к сервису:"
   ]
  },
  {
   "cell_type": "code",
   "execution_count": 29,
   "metadata": {},
   "outputs": [
    {
     "name": "stdout",
     "output_type": "stream",
     "text": [
      "Authentication is header ready.\n"
     ]
    }
   ],
   "source": [
    "from azureml.core.authentication import InteractiveLoginAuthentication\n",
    "\n",
    "interactive_auth = InteractiveLoginAuthentication()\n",
    "auth_header = interactive_auth.get_authentication_header()\n",
    "\n",
    "print('Authentication is header ready.')"
   ]
  },
  {
   "cell_type": "markdown",
   "metadata": {},
   "source": [
    "Отправим запрос к сервису и получим id запроса:"
   ]
  },
  {
   "cell_type": "code",
   "execution_count": null,
   "metadata": {},
   "outputs": [],
   "source": [
    "import requests\n",
    "\n",
    "response = requests.post(endpoint, \n",
    "                         headers=auth_header, \n",
    "                         json={'ExperimentName': config['experiment_name']})\n",
    "\n",
    "run_id = response.json()['Id']\n",
    "run_id"
   ]
  },
  {
   "cell_type": "markdown",
   "metadata": {},
   "source": [
    "Посмотрим детали запуска во аремя выполнения Эксперимента:"
   ]
  },
  {
   "cell_type": "code",
   "execution_count": null,
   "metadata": {},
   "outputs": [],
   "source": [
    "from azureml.pipeline.core.run import PipelineRun\n",
    "\n",
    "pipeline_run = PipelineRun(ws.experiments[config['experiment_name']], run_id)\n",
    "RunDetails(pipeline_run).show()"
   ]
  },
  {
   "cell_type": "markdown",
   "metadata": {},
   "source": [
    "Просмотрите детали выполнения запроса, используя виджет `RunDetails` или портал Azure ML.\n",
    "\n",
    "## Результаты прогноза\n",
    "\n",
    "Когда Конвейер завершит работу, прогнозы ML модели будут сохранены в выходных данных эксперимента. Вы можете получить их следующим образом:"
   ]
  },
  {
   "cell_type": "code",
   "execution_count": null,
   "metadata": {},
   "outputs": [],
   "source": [
    "import shutil\n",
    "\n",
    "shutil.rmtree(pipeline_output_dir, ignore_errors=True)\n",
    "\n",
    "prediction_run = next(published_pipeline_run.get_children())\n",
    "prediction_output = prediction_run.get_output_data(output_dir.name)\n",
    "prediction_output.download(local_path=pipeline_output_dir)\n",
    "\n",
    "\n",
    "for root, dirs, files in os.walk(pipeline_output_dir):\n",
    "    for file in files:\n",
    "        if file.endswith('parallel_run_step.txt'):\n",
    "            result_file = os.path.join(root,file)\n",
    "\n",
    "# cleanup output format\n",
    "df = pd.read_csv(result_file, delimiter=':', header=None)\n",
    "df.columns = ['File', 'Prediction']\n",
    "\n",
    "# Display the first 20 results\n",
    "df.head(20)"
   ]
  },
  {
   "cell_type": "markdown",
   "metadata": {},
   "source": [
    "## Полезные ссылки\n",
    "\n",
    "1. https://docs.microsoft.com/ru-ru/azure/machine-learning/how-to-deploy-and-where?tabs=azcli\n",
    "2. https://docs.microsoft.com/ru-ru/azure/machine-learning/how-to-deploy-and-where?tabs=azcli#choose-a-compute-target "
   ]
  }
 ],
 "metadata": {
  "kernelspec": {
   "display_name": "Python 3.6 - AzureML",
   "language": "python",
   "name": "python3-azureml"
  },
  "language_info": {
   "codemirror_mode": {
    "name": "ipython",
    "version": 3
   },
   "file_extension": ".py",
   "mimetype": "text/x-python",
   "name": "python",
   "nbconvert_exporter": "python",
   "pygments_lexer": "ipython3",
   "version": "3.6.9"
  }
 },
 "nbformat": 4,
 "nbformat_minor": 4
}
