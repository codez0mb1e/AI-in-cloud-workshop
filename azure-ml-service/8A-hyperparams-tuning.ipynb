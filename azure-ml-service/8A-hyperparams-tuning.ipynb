{
 "cells": [
  {
   "cell_type": "markdown",
   "metadata": {},
   "source": [
    "# Hyperparameters Tuning в Azure ML\n",
    "\n",
    "__Цель лабораторной работы:__\n",
    "\n",
    "- __поиск оптимальных гиперпараметров__ модели машинного обучения (Hyperparameters Tuning)\n",
    "- мониторинг процессса поиска.\n",
    "\n",
    "## Подготовка среды\n",
    "\n",
    "Импорт необходимых модулей и проверка версии Azure ML SDK:"
   ]
  },
  {
   "cell_type": "code",
   "execution_count": 4,
   "metadata": {},
   "outputs": [
    {
     "name": "stdout",
     "output_type": "stream",
     "text": [
      "Azure ML SDK version: 1.12.0\n"
     ]
    }
   ],
   "source": [
    "import azureml.core\n",
    "from azureml.core import Workspace, Model, Environment, Experiment, ComputeTarget, Dataset\n",
    "from azureml.widgets import RunDetails\n",
    "\n",
    "from azureml.train.sklearn import SKLearn\n",
    "\n",
    "\n",
    "# Check core SDK version number\n",
    "print(f'Azure ML SDK version: {azureml.core.VERSION}')"
   ]
  },
  {
   "cell_type": "markdown",
   "metadata": {},
   "source": [
    "Зададим параметры Эксперимента:"
   ]
  },
  {
   "cell_type": "code",
   "execution_count": 5,
   "metadata": {},
   "outputs": [],
   "source": [
    "experiment_name = 'hyperparams_tuning_demo'\n",
    "\n",
    "experiment_dir = 'hyperparams-tuning-demo'\n",
    "os.makedirs(experiment_dir, exist_ok=True)"
   ]
  },
  {
   "cell_type": "markdown",
   "metadata": {},
   "source": [
    "## Соединение со Azure ML Workspace\n",
    "\n",
    "Устанавливаем соединение с Рабочей областью в Azure ML:"
   ]
  },
  {
   "cell_type": "code",
   "execution_count": 6,
   "metadata": {},
   "outputs": [
    {
     "name": "stdout",
     "output_type": "stream",
     "text": [
      "Successfully connected to Workspace: ai-in-cloud-workspace.\n"
     ]
    }
   ],
   "source": [
    "ws = Workspace.from_config()\n",
    "print(f'Successfully connected to Workspace: {ws.name}.')"
   ]
  },
  {
   "cell_type": "markdown",
   "metadata": {},
   "source": [
    "## Подготовка к обучению модели с поиском оптимальных гиперпараметров\n",
    "\n",
    "### Получим данные"
   ]
  },
  {
   "cell_type": "code",
   "execution_count": 30,
   "metadata": {},
   "outputs": [
    {
     "name": "stdout",
     "output_type": "stream",
     "text": [
      "['diabetes-batch-data', 'diabetes_db', 'credit-card-fraud', 'covid19-spread-russia', 'covid19-spread', 'mnist-dataset', 'Pima Indians Diabetes Database']\n"
     ]
    }
   ],
   "source": [
    "# Get list\n",
    "print([ds for ds in Dataset.get_all(ws)])\n",
    "\n",
    "data_ds = Dataset.get_by_name(ws, 'diabetes_db')"
   ]
  },
  {
   "cell_type": "markdown",
   "metadata": {},
   "source": [
    "## Получим Среду запуска"
   ]
  },
  {
   "cell_type": "code",
   "execution_count": 29,
   "metadata": {},
   "outputs": [
    {
     "name": "stdout",
     "output_type": "stream",
     "text": [
      "['diabetes-experiment-env', 'AzureML-AutoML', 'AzureML-PyTorch-1.0-GPU', 'AzureML-Scikit-learn-0.20.3', 'AzureML-TensorFlow-1.12-CPU', 'AzureML-PyTorch-1.2-GPU', 'AzureML-TensorFlow-2.0-GPU', 'AzureML-TensorFlow-2.0-CPU', 'AzureML-Chainer-5.1.0-GPU', 'AzureML-TensorFlow-1.13-CPU', 'AzureML-Minimal', 'AzureML-Chainer-5.1.0-CPU', 'AzureML-PyTorch-1.4-GPU', 'AzureML-PySpark-MmlSpark-0.15', 'AzureML-PyTorch-1.3-CPU', 'AzureML-PyTorch-1.1-GPU', 'AzureML-TensorFlow-1.10-GPU', 'AzureML-PyTorch-1.2-CPU', 'AzureML-TensorFlow-1.13-GPU', 'AzureML-Hyperdrive-ForecastDNN', 'AzureML-TensorFlow-1.10-CPU', 'AzureML-PyTorch-1.3-GPU', 'AzureML-PyTorch-1.4-CPU', 'AzureML-Tutorial', 'AzureML-PyTorch-1.0-CPU', 'AzureML-PyTorch-1.1-CPU', 'AzureML-TensorFlow-1.12-GPU', 'AzureML-VowpalWabbit-8.8.0', 'AzureML-AutoML-GPU', 'AzureML-Designer-VowpalWabbit', 'AzureML-TensorFlow-2.2-GPU', 'AzureML-TensorFlow-2.2-CPU', 'AzureML-PyTorch-1.6-CPU', 'AzureML-PyTorch-1.6-GPU', 'AzureML-Triton', 'AzureML-Sidecar', 'AzureML-Dask-CPU', 'AzureML-Dask-GPU', 'AzureML-TensorFlow-2.1-GPU', 'AzureML-PyTorch-1.5-GPU', 'AzureML-PyTorch-1.5-CPU', 'AzureML-TensorFlow-2.1-CPU', 'AzureML-AutoML-DNN-Vision-GPU', 'AzureML-AutoML-DNN', 'AzureML-AutoML-DNN-GPU', 'AzureML-Designer-Score', 'AzureML-Designer-PyTorch-Train', 'AzureML-Designer-IO', 'AzureML-Designer-Transform', 'AzureML-Designer-Recommender', 'AzureML-Designer-CV', 'AzureML-Designer-NLP', 'AzureML-Designer-PyTorch', 'AzureML-Designer-CV-Transform', 'AzureML-Designer', 'AzureML-Designer-R']\n"
     ]
    }
   ],
   "source": [
    "print([e for e in Environment.list(ws)])\n",
    "\n",
    "env = Environment.get(ws, 'diabetes-experiment-env')"
   ]
  },
  {
   "cell_type": "markdown",
   "metadata": {},
   "source": [
    "### Получим ML  кластер"
   ]
  },
  {
   "cell_type": "code",
   "execution_count": 31,
   "metadata": {},
   "outputs": [
    {
     "name": "stdout",
     "output_type": "stream",
     "text": [
      "['x-compute-vm', 'ml-cluster']\n"
     ]
    }
   ],
   "source": [
    "print([comp.name for comp in ComputeTarget.list(ws)])\n",
    "\n",
    "cluster = ComputeTarget(workspace=ws, name='ml-cluster')"
   ]
  },
  {
   "cell_type": "markdown",
   "metadata": {},
   "source": [
    "### Скопируем скрипт обучения модели"
   ]
  },
  {
   "cell_type": "code",
   "execution_count": 23,
   "metadata": {},
   "outputs": [
    {
     "name": "stdout",
     "output_type": "stream",
     "text": [
      "train_model.py\n"
     ]
    }
   ],
   "source": [
    "!cp scripts/train_model.py $experiment_dir\n",
    "!ls $experiment_dir"
   ]
  },
  {
   "cell_type": "markdown",
   "metadata": {},
   "source": [
    "## Запустим эксперимент по оптимизации гиперпараметров модели"
   ]
  },
  {
   "cell_type": "code",
   "execution_count": null,
   "metadata": {},
   "outputs": [],
   "source": [
    "from azureml.train.hyperdrive import BayesianParameterSampling, BanditPolicy, HyperDriveConfig, PrimaryMetricGoal, uniform\n",
    "\n",
    "params = BayesianParameterSampling(\n",
    "    {\n",
    "        '--reg_rate': uniform(0.01, 1.0)\n",
    "    }\n",
    ")\n",
    "\n",
    "# Create an estimator\n",
    "estimator = SKLearn(source_directory=experiment_dir,\n",
    "                    inputs=[data_ds.as_named_input('data')], \n",
    "                    entry_script='train_model.py',\n",
    "                    compute_target=cluster,\n",
    "                    environment_definition=env)\n",
    "\n",
    "# Configure hyperdrive settings\n",
    "config = HyperDriveConfig(estimator=estimator, \n",
    "                          hyperparameter_sampling=params, \n",
    "                          policy=None, \n",
    "                          primary_metric_name='AUC', \n",
    "                          primary_metric_goal=PrimaryMetricGoal.MAXIMIZE, \n",
    "                          max_total_runs=64,\n",
    "                          max_concurrent_runs=4)\n",
    "\n",
    "# Run the experiment\n",
    "experiment = Experiment(workspace=ws, name=experiment_name)\n",
    "run = experiment.submit(config=config)\n",
    "\n",
    "# Show the status in the notebook as the experiment runs\n",
    "RunDetails(run).show()\n",
    "run.wait_for_completion()"
   ]
  },
  {
   "cell_type": "markdown",
   "metadata": {},
   "source": [
    "## Определение и регистрация 'лучшей' модели "
   ]
  },
  {
   "cell_type": "code",
   "execution_count": 39,
   "metadata": {},
   "outputs": [
    {
     "name": "stdout",
     "output_type": "stream",
     "text": [
      "{'run_id': 'HD_5761221e-0f35-4c0b-a92c-69cfc1af7829_5', 'hyperparameters': '{\"--reg_rate\": 0.10880815916022359}', 'best_primary_metric': 0.8577225744810215, 'status': 'Completed'}\n",
      "{'run_id': 'HD_5761221e-0f35-4c0b-a92c-69cfc1af7829_13', 'hyperparameters': '{\"--reg_rate\": 0.01}', 'best_primary_metric': 0.8576183444801528, 'status': 'Completed'}\n",
      "{'run_id': 'HD_5761221e-0f35-4c0b-a92c-69cfc1af7829_2', 'hyperparameters': '{\"--reg_rate\": 0.048034916282459525}', 'best_primary_metric': 0.8576148701467906, 'status': 'Completed'}\n",
      "{'run_id': 'HD_5761221e-0f35-4c0b-a92c-69cfc1af7829_8', 'hyperparameters': '{\"--reg_rate\": 0.039862716129951736}', 'best_primary_metric': 0.8576128848134407, 'status': 'Completed'}\n",
      "{'run_id': 'HD_5761221e-0f35-4c0b-a92c-69cfc1af7829_6', 'hyperparameters': '{\"--reg_rate\": 0.05452791620801988}', 'best_primary_metric': 0.8576128848134406, 'status': 'Completed'}\n",
      "{'run_id': 'HD_5761221e-0f35-4c0b-a92c-69cfc1af7829_7', 'hyperparameters': '{\"--reg_rate\": 0.8655427539710225}', 'best_primary_metric': 0.8576094104800783, 'status': 'Completed'}\n",
      "{'run_id': 'HD_5761221e-0f35-4c0b-a92c-69cfc1af7829_10', 'hyperparameters': '{\"--reg_rate\": 0.1390096050155943}', 'best_primary_metric': 0.8576084178134034, 'status': 'Completed'}\n",
      "{'run_id': 'HD_5761221e-0f35-4c0b-a92c-69cfc1af7829_12', 'hyperparameters': '{\"--reg_rate\": 0.1690604004319842}', 'best_primary_metric': 0.8576079214800658, 'status': 'Completed'}\n",
      "{'run_id': 'HD_5761221e-0f35-4c0b-a92c-69cfc1af7829_11', 'hyperparameters': '{\"--reg_rate\": 0.1355197338799899}', 'best_primary_metric': 0.8576059361467162, 'status': 'Completed'}\n",
      "{'run_id': 'HD_5761221e-0f35-4c0b-a92c-69cfc1af7829_4', 'hyperparameters': '{\"--reg_rate\": 0.27628335795927533}', 'best_primary_metric': 0.8576029581466914, 'status': 'Completed'}\n",
      "{'run_id': 'HD_5761221e-0f35-4c0b-a92c-69cfc1af7829_14', 'hyperparameters': '{\"--reg_rate\": 1.0}', 'best_primary_metric': 0.8575687111464059, 'status': 'Completed'}\n",
      "{'run_id': 'HD_5761221e-0f35-4c0b-a92c-69cfc1af7829_0', 'hyperparameters': '{\"--reg_rate\": 0.3322840207346236}', 'best_primary_metric': 0.857566725813056, 'status': 'Completed'}\n",
      "{'run_id': 'HD_5761221e-0f35-4c0b-a92c-69cfc1af7829_15', 'hyperparameters': '{\"--reg_rate\": 0.5448183365280942}', 'best_primary_metric': 0.8575468724795573, 'status': 'Completed'}\n",
      "{'run_id': 'HD_5761221e-0f35-4c0b-a92c-69cfc1af7829_9', 'hyperparameters': '{\"--reg_rate\": 0.7254945257843837}', 'best_primary_metric': 0.85750518047921, 'status': 'Completed'}\n",
      "{'run_id': 'HD_5761221e-0f35-4c0b-a92c-69cfc1af7829_3', 'hyperparameters': '{\"--reg_rate\": 0.9596158782638822}', 'best_primary_metric': 0.8574843344790362, 'status': 'Completed'}\n",
      "{'run_id': 'HD_5761221e-0f35-4c0b-a92c-69cfc1af7829_1', 'hyperparameters': '{\"--reg_rate\": 0.12851523841923765}', 'best_primary_metric': None, 'status': 'Failed'}\n",
      "{'run_id': 'HD_5761221e-0f35-4c0b-a92c-69cfc1af7829_preparation', 'hyperparameters': None, 'best_primary_metric': None, 'status': 'Completed'}\n",
      "Best Run Id: HD_5761221e-0f35-4c0b-a92c-69cfc1af7829_5\n",
      "\t AUC: 0.8577225744810215\n",
      "\t Accuracy: 0.788\n",
      "\t Regularization Rate: ['--reg_rate', '0.10880815916022359']\n"
     ]
    }
   ],
   "source": [
    "for child_run in run.get_children_sorted_by_primary_metric():\n",
    "    print(child_run)\n",
    "\n",
    "best_run = run.get_best_run_by_primary_metric()\n",
    "best_run_metrics = best_run.get_metrics()\n",
    "parameter_values = best_run.get_details() ['runDefinition']['arguments']\n",
    "\n",
    "print(f'Best Run Id: {best_run.id}')\n",
    "print(f'\\t AUC: {best_run_metrics[\"AUC\"]}')\n",
    "print(f'\\t Accuracy: {best_run_metrics[\"Accuracy\"]}')\n",
    "print(f'\\t Regularization Rate: {parameter_values}')"
   ]
  },
  {
   "cell_type": "code",
   "execution_count": 40,
   "metadata": {},
   "outputs": [
    {
     "name": "stdout",
     "output_type": "stream",
     "text": [
      "diabetes_predict_model v4\n",
      "\t Lab : Hyperparameters Tuning\n",
      "\t Lab # : 8A\n",
      "\t AUC : 0.8577225744810215\n",
      "\t Accuracy : 0.788\n",
      "\n",
      "\n",
      "diabetes_predict_model v3\n",
      "\t Lab : Hyperparameters Tuning\n",
      "\t Lab # : 8A\n",
      "\t AUC : 0.8577280341477337\n",
      "\t Accuracy : 0.7886666666666666\n",
      "\n",
      "\n",
      "diabetes_predict_model v2\n",
      "\t Demo : ML Pipeline\n",
      "\n",
      "\n",
      "diabetes_predict_model v1\n",
      "\t Demo : Target compute\n",
      "\t AUC : 0.846851712258014\n",
      "\t Accuracy : 0.7788888888888889\n",
      "\n",
      "\n",
      "diabetes_model v4\n",
      "\t Dataset : Diabetes\n",
      "\t AUC : 0.846851712258014\n",
      "\t Accuracy : 0.7788888888888889\n",
      "\n",
      "\n",
      "diabetes_model v3\n",
      "\t Dataset : Diabetes\n",
      "\t AUC : 0.846851712258014\n",
      "\t Accuracy : 0.7788888888888889\n",
      "\n",
      "\n",
      "diabetes_model v2\n",
      "\t Dataset : Diabetes\n",
      "\t AUC : 0.8468519356081545\n",
      "\t Accuracy : 0.7788888888888889\n",
      "\n",
      "\n",
      "diabetes_model v1\n",
      "\t Training context : Estimator\n",
      "\t AUC : 0.8468519356081545\n",
      "\t Accuracy : 0.7788888888888889\n",
      "\n",
      "\n",
      "amlstudio-covid19-service v1\n",
      "\t CreatedByAMLStudio : true\n",
      "\n",
      "\n",
      "amlstudio-covid19-service-pipe v1\n",
      "\t CreatedByAMLStudio : true\n",
      "\n",
      "\n",
      "amlstudio-covid19-spread-servi v1\n",
      "\t CreatedByAMLStudio : true\n",
      "\n",
      "\n",
      "amlstudio-pima-diabets-service v2\n",
      "\t CreatedByAMLStudio : true\n",
      "\n",
      "\n",
      "amlstudio-letter-recognition-s v1\n",
      "\t CreatedByAMLStudio : true\n",
      "\n",
      "\n",
      "amlstudio-pima-diabetes-model v1\n",
      "\t CreatedByAMLStudio : true\n",
      "\n",
      "\n"
     ]
    }
   ],
   "source": [
    "# Register model\n",
    "best_run.register_model(model_path='outputs/model.pkl', model_name='diabetes_predict_model',\n",
    "                        tags={'Lab':'Hyperparameters Tuning', 'Lab #':'8A'},\n",
    "                        properties={'AUC': best_run_metrics['AUC'], 'Accuracy': best_run_metrics['Accuracy']})\n",
    "\n",
    "# List registered models\n",
    "for model in Model.list(ws):\n",
    "    print(f'{model.name} v{model.version}')\n",
    "    \n",
    "    for tag_name in model.tags:\n",
    "        tag = model.tags[tag_name]\n",
    "        print(f'\\t {tag_name}: {tag}')\n",
    "        \n",
    "    for prop_name in model.properties:\n",
    "        prop = model.properties[prop_name]\n",
    "        print(f'\\t {prop_name}: {prop}')\n",
    "        \n",
    "    print('\\n')"
   ]
  },
  {
   "cell_type": "markdown",
   "metadata": {},
   "source": [
    "## Полезные ссылки\n",
    "\n",
    "1. https://docs.microsoft.com/en-us/azure/machine-learning/how-to-tune-hyperparameters\n",
    "2. https://docs.microsoft.com/en-us/python/api/azureml-train-core/azureml.train.hyperdrive.hyperdriveconfig?view=azure-ml-py\n"
   ]
  }
 ],
 "metadata": {
  "kernelspec": {
   "display_name": "Python 3.6 - AzureML",
   "language": "python",
   "name": "python3-azureml"
  },
  "language_info": {
   "codemirror_mode": {
    "name": "ipython",
    "version": 3
   },
   "file_extension": ".py",
   "mimetype": "text/x-python",
   "name": "python",
   "nbconvert_exporter": "python",
   "pygments_lexer": "ipython3",
   "version": "3.6.9"
  }
 },
 "nbformat": 4,
 "nbformat_minor": 4
}
